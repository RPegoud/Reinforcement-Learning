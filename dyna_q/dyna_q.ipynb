{
 "cells": [
  {
   "attachments": {},
   "cell_type": "markdown",
   "metadata": {},
   "source": [
    "# **Dyna-Q**\n"
   ]
  },
  {
   "cell_type": "code",
   "execution_count": 137,
   "metadata": {},
   "outputs": [],
   "source": [
    "import numpy as np\n",
    "import pandas as pd\n",
    "from tqdm.auto import tqdm\n",
    "import seaborn as sns\n",
    "import matplotlib.pyplot as plt\n",
    "import plotly.express as px"
   ]
  },
  {
   "cell_type": "code",
   "execution_count": 138,
   "metadata": {},
   "outputs": [],
   "source": [
    "n_steps = 0\n"
   ]
  },
  {
   "cell_type": "code",
   "execution_count": 139,
   "metadata": {},
   "outputs": [],
   "source": [
    "class Env():\n",
    "    def __init__(self) -> None:\n",
    "        self.coordinates = {\n",
    "            'A': ((6, 1),),\n",
    "            'W': ((3, range(3)), (range(5, 8), 3)),\n",
    "            'T': ((range(3), 8), (3, range(8, 12))),\n",
    "            'P': ((6, 10), (0, 11)),\n",
    "            'LP': ((1, 2),),\n",
    "            'G': ((1, 10),)\n",
    "        }\n",
    "        self.generate_grid()\n",
    "        self.generate_reward_map()\n",
    "\n",
    "    def generate_grid(self):\n",
    "        grid = np.zeros((8, 12), dtype=np.object0)\n",
    "        for key in list(self.coordinates.keys()):\n",
    "            for values in self.coordinates[key]:\n",
    "                grid[values] = key\n",
    "        self.grid = pd.DataFrame(grid)\n",
    "\n",
    "    def generate_reward_map(self):\n",
    "        reward_map = np.zeros((8, 12), dtype=np.float32)\n",
    "        reward_map[self.coordinates['G'][0]] = 1\n",
    "        self.reward_map = pd.DataFrame(reward_map)\n",
    "\n",
    "    def get_reward(self, coordinates: tuple = None, reverse:bool=True):\n",
    "        \"\"\"\n",
    "        Takes a coordinate from the agent and returns the associated reward\n",
    "        for transitioning to that state\n",
    "        The coordinates are reversed before querying the dataframe as \n",
    "        agent(state) = (x,y) = pd.Dataframe.loc(y,x)\n",
    "        \"\"\"\n",
    "        if reverse: return self.reward_map.loc[coordinates[::-1]]\n",
    "        else: return self.reward_map.loc[coordinates]\n"
   ]
  },
  {
   "cell_type": "code",
   "execution_count": 140,
   "metadata": {},
   "outputs": [],
   "source": [
    "env = Env()"
   ]
  },
  {
   "cell_type": "code",
   "execution_count": 141,
   "metadata": {},
   "outputs": [
    {
     "data": {
      "text/html": [
       "<div>\n",
       "<style scoped>\n",
       "    .dataframe tbody tr th:only-of-type {\n",
       "        vertical-align: middle;\n",
       "    }\n",
       "\n",
       "    .dataframe tbody tr th {\n",
       "        vertical-align: top;\n",
       "    }\n",
       "\n",
       "    .dataframe thead th {\n",
       "        text-align: right;\n",
       "    }\n",
       "</style>\n",
       "<table border=\"1\" class=\"dataframe\">\n",
       "  <thead>\n",
       "    <tr style=\"text-align: right;\">\n",
       "      <th></th>\n",
       "      <th>0</th>\n",
       "      <th>1</th>\n",
       "      <th>2</th>\n",
       "      <th>3</th>\n",
       "      <th>4</th>\n",
       "      <th>5</th>\n",
       "      <th>6</th>\n",
       "      <th>7</th>\n",
       "      <th>8</th>\n",
       "      <th>9</th>\n",
       "      <th>10</th>\n",
       "      <th>11</th>\n",
       "    </tr>\n",
       "  </thead>\n",
       "  <tbody>\n",
       "    <tr>\n",
       "      <th>0</th>\n",
       "      <td>0</td>\n",
       "      <td>0</td>\n",
       "      <td>0</td>\n",
       "      <td>0</td>\n",
       "      <td>0</td>\n",
       "      <td>0</td>\n",
       "      <td>0</td>\n",
       "      <td>0</td>\n",
       "      <td>T</td>\n",
       "      <td>0</td>\n",
       "      <td>0</td>\n",
       "      <td>P</td>\n",
       "    </tr>\n",
       "    <tr>\n",
       "      <th>1</th>\n",
       "      <td>0</td>\n",
       "      <td>0</td>\n",
       "      <td>LP</td>\n",
       "      <td>0</td>\n",
       "      <td>0</td>\n",
       "      <td>0</td>\n",
       "      <td>0</td>\n",
       "      <td>0</td>\n",
       "      <td>T</td>\n",
       "      <td>0</td>\n",
       "      <td>G</td>\n",
       "      <td>0</td>\n",
       "    </tr>\n",
       "    <tr>\n",
       "      <th>2</th>\n",
       "      <td>0</td>\n",
       "      <td>0</td>\n",
       "      <td>0</td>\n",
       "      <td>0</td>\n",
       "      <td>0</td>\n",
       "      <td>0</td>\n",
       "      <td>0</td>\n",
       "      <td>0</td>\n",
       "      <td>T</td>\n",
       "      <td>0</td>\n",
       "      <td>0</td>\n",
       "      <td>0</td>\n",
       "    </tr>\n",
       "    <tr>\n",
       "      <th>3</th>\n",
       "      <td>W</td>\n",
       "      <td>W</td>\n",
       "      <td>W</td>\n",
       "      <td>0</td>\n",
       "      <td>0</td>\n",
       "      <td>0</td>\n",
       "      <td>0</td>\n",
       "      <td>0</td>\n",
       "      <td>T</td>\n",
       "      <td>T</td>\n",
       "      <td>T</td>\n",
       "      <td>T</td>\n",
       "    </tr>\n",
       "    <tr>\n",
       "      <th>4</th>\n",
       "      <td>0</td>\n",
       "      <td>0</td>\n",
       "      <td>0</td>\n",
       "      <td>0</td>\n",
       "      <td>0</td>\n",
       "      <td>0</td>\n",
       "      <td>0</td>\n",
       "      <td>0</td>\n",
       "      <td>0</td>\n",
       "      <td>0</td>\n",
       "      <td>0</td>\n",
       "      <td>0</td>\n",
       "    </tr>\n",
       "    <tr>\n",
       "      <th>5</th>\n",
       "      <td>0</td>\n",
       "      <td>0</td>\n",
       "      <td>0</td>\n",
       "      <td>W</td>\n",
       "      <td>0</td>\n",
       "      <td>0</td>\n",
       "      <td>0</td>\n",
       "      <td>0</td>\n",
       "      <td>0</td>\n",
       "      <td>0</td>\n",
       "      <td>0</td>\n",
       "      <td>0</td>\n",
       "    </tr>\n",
       "    <tr>\n",
       "      <th>6</th>\n",
       "      <td>0</td>\n",
       "      <td>A</td>\n",
       "      <td>0</td>\n",
       "      <td>W</td>\n",
       "      <td>0</td>\n",
       "      <td>0</td>\n",
       "      <td>0</td>\n",
       "      <td>0</td>\n",
       "      <td>0</td>\n",
       "      <td>0</td>\n",
       "      <td>P</td>\n",
       "      <td>0</td>\n",
       "    </tr>\n",
       "    <tr>\n",
       "      <th>7</th>\n",
       "      <td>0</td>\n",
       "      <td>0</td>\n",
       "      <td>0</td>\n",
       "      <td>W</td>\n",
       "      <td>0</td>\n",
       "      <td>0</td>\n",
       "      <td>0</td>\n",
       "      <td>0</td>\n",
       "      <td>0</td>\n",
       "      <td>0</td>\n",
       "      <td>0</td>\n",
       "      <td>0</td>\n",
       "    </tr>\n",
       "  </tbody>\n",
       "</table>\n",
       "</div>"
      ],
      "text/plain": [
       "  0  1   2  3  4  5  6  7  8  9  10 11\n",
       "0  0  0   0  0  0  0  0  0  T  0  0  P\n",
       "1  0  0  LP  0  0  0  0  0  T  0  G  0\n",
       "2  0  0   0  0  0  0  0  0  T  0  0  0\n",
       "3  W  W   W  0  0  0  0  0  T  T  T  T\n",
       "4  0  0   0  0  0  0  0  0  0  0  0  0\n",
       "5  0  0   0  W  0  0  0  0  0  0  0  0\n",
       "6  0  A   0  W  0  0  0  0  0  0  P  0\n",
       "7  0  0   0  W  0  0  0  0  0  0  0  0"
      ]
     },
     "execution_count": 141,
     "metadata": {},
     "output_type": "execute_result"
    }
   ],
   "source": [
    "env.grid"
   ]
  },
  {
   "cell_type": "code",
   "execution_count": 197,
   "metadata": {},
   "outputs": [],
   "source": [
    "class Agent():\n",
    "    def __init__(self,\n",
    "                 gamma: float = 0.1,  # undiscounted task\n",
    "                 step_size: float = 0.1,\n",
    "                 epsilon: float = 0.1,\n",
    "                 ) -> None:\n",
    "        self.env = Env()\n",
    "        self.gamma = gamma\n",
    "        self.step_size = step_size\n",
    "        self.epsilon = epsilon\n",
    "        self.n_actions = 4\n",
    "        self.actions = list(range(self.n_actions))\n",
    "        self.last_action = -1\n",
    "        self.last_state = -1\n",
    "        self.n_states = self.env.grid.size\n",
    "        self.start_position = self.coord_to_state(self.env.coordinates.get('A')[0][::-1])\n",
    "        self.position = self.start_position\n",
    "        self.q_values = self.init_q_values()\n",
    "        self.random_generator = np.random.RandomState(seed=17)\n",
    "        self.done = False\n",
    "        self.n_steps = []\n",
    "\n",
    "    def reset(self):\n",
    "        self.done = False\n",
    "        self.position = self.start_position\n",
    "        self.last_action = -1\n",
    "        self.last_state = -1\n",
    "\n",
    "    def coord_to_state(self, coordinates: tuple) -> int:\n",
    "        return coordinates[0]*10 + coordinates[1]\n",
    "\n",
    "    def state_to_coord(self, state: int):\n",
    "        return (int(state//10), state % 10)\n",
    "\n",
    "    def init_q_values(self) -> None:\n",
    "        q_values = {}\n",
    "        rows, cols = self.env.grid.index, self.env.grid.columns\n",
    "        for col in cols:\n",
    "            for row in rows:\n",
    "                q_values[self.coord_to_state((col, row))] = np.zeros(\n",
    "                    4, dtype=np.float32)\n",
    "        return q_values\n",
    "\n",
    "    def update_coord(self, coord: tuple, action: int) -> tuple:\n",
    "        \"\"\"\n",
    "        Given a state and an action, moves the agent on the grid\n",
    "        If the agent encounters a wall or the edge of the grid, the initial position is returned\n",
    "        If the agent falls into a whole ('T') or finds the goal ('G'), the episode ends\n",
    "        \"\"\"\n",
    "        assert action in [0, 1, 2, 3], f\"Invalid action {action}\"\n",
    "        x, y = coord\n",
    "        if action == 0:\n",
    "            y -= 1\n",
    "        elif action == 1:\n",
    "            x += 1\n",
    "        elif action == 2:\n",
    "            y += 1\n",
    "        elif action == 3:\n",
    "            x -= 1\n",
    "\n",
    "        # if the action moves the agent out of bounds\n",
    "        if x not in range(0, self.env.grid.shape[1]):\n",
    "            return coord\n",
    "        if y not in range(0, self.env.grid.shape[0]):\n",
    "            return coord\n",
    "\n",
    "        # /!\\ when parsing the dataframe x and y are reversed\n",
    "        # if the agent bumps into a wall\n",
    "        if self.env.grid.loc[y, x] == 'W':\n",
    "            return coord\n",
    "        # if the agent goes through the portal\n",
    "        if self.env.grid.loc[y, x] == 'P':\n",
    "            return (11, 0)\n",
    "        # if the agent encounters a terminal state (whole or goal)\n",
    "        if self.env.grid.loc[y, x] in ['T', 'G']:\n",
    "            self.done = True\n",
    "\n",
    "        self.position == (x, y)\n",
    "        return (x, y)\n",
    "\n",
    "    def update_state(self, state, action) -> int:\n",
    "        assert action in [0, 1, 2, 3], f\"Invalid action: {action}, should be in {[i for i in range(4)]}\"\n",
    "        coord = self.state_to_coord(state)\n",
    "        updated_coord = self.update_coord(coord, action)\n",
    "        updated_state = self.coord_to_state(updated_coord)\n",
    "        self.position = updated_state\n",
    "        return updated_state\n",
    "\n",
    "    def argmax(self, q_values) -> int:\n",
    "        \"\"\"\n",
    "        Selects the index of the highest action value\n",
    "        Breaks ties randomly\n",
    "        \"\"\"\n",
    "        return self.random_generator.choice(np.flatnonzero(q_values == np.max(q_values)))\n",
    "\n",
    "    def epsilon_greedy(self, state) -> int:\n",
    "        \"\"\"\n",
    "        Returns an action using an epsilon-greedy policy \n",
    "        w.r.t. the current action-value function\n",
    "        \"\"\"\n",
    "        # convert the state to coordinates to query the q_values\n",
    "        if self.random_generator.rand() < self.epsilon:\n",
    "            action = self.random_generator.choice(self.actions)\n",
    "        else:\n",
    "            values = self.q_values[state]\n",
    "            action = self.argmax(values)\n",
    "        return action\n",
    "\n",
    "    def agent_start(self, state: int):\n",
    "        \"\"\"\n",
    "        Called at the start of an episode, takes the first action \n",
    "        given the initial state\n",
    "        \"\"\"\n",
    "        self.past_state = state\n",
    "        self.past_action = self.epsilon_greedy(state)\n",
    "        # take the action\n",
    "        self.update_state(state, self.past_action)\n",
    "        return self.past_action\n"
   ]
  },
  {
   "cell_type": "code",
   "execution_count": 198,
   "metadata": {},
   "outputs": [],
   "source": [
    "class Dyna_Q_Agent(Agent):\n",
    "    def __init__(self, \n",
    "                 gamma: float = 1, \n",
    "                 step_size: float = 0.1, \n",
    "                 epsilon: float = 0.1, \n",
    "                 planning_steps: int = 100) -> None:\n",
    "        super().__init__(gamma, step_size, epsilon)\n",
    "        self.planning_steps = planning_steps\n",
    "        self.model = {}  # model[state][action] = (new state, reward)\n",
    "\n",
    "    def update_model(self, last_state: int, last_action: int, state: int, reward: int) -> None:\n",
    "        \"\"\"\n",
    "        Adds a new transition to the model, if the state is encountered for \n",
    "        the first time, creates a new key\n",
    "        \"\"\"\n",
    "        try:\n",
    "            self.model[last_state][last_action] = (state, reward)\n",
    "        except KeyError:\n",
    "            self.model[last_state] = {}\n",
    "            self.model[last_state][last_action] = (state, reward)\n",
    "\n",
    "    def planning_step(self) -> None:\n",
    "            \"\"\"\n",
    "            Performs planning (indirect RL)\n",
    "            \"\"\"\n",
    "            for _ in range(self.planning_steps):\n",
    "                # select a visited state\n",
    "                planning_state = self.random_generator.choice(\n",
    "                    list(self.model.keys()))\n",
    "                # select a recorded action\n",
    "                planning_action = self.random_generator.choice(\n",
    "                    list(self.model[planning_state].keys()))\n",
    "                # get the predicted next state and reward\n",
    "                next_state, reward = self.model[planning_state][planning_action]\n",
    "                # update the values in case of terminal state\n",
    "                if next_state == -1:\n",
    "                    update = self.q_values[planning_state][planning_action]\n",
    "                    update += self.step_size * (reward - update)\n",
    "                    self.q_values[planning_state][planning_action] = update\n",
    "                # update the values in case of non-terminal state\n",
    "                else:\n",
    "                    update = self.q_values[planning_state][planning_action]\n",
    "                    update += self.step_size * (reward + self.gamma \\\n",
    "                                                * np.max(self.q_values[next_state]) - update)\n",
    "                    self.q_values[planning_state][planning_action] = update\n",
    "\n",
    "    def step(self, state: int, reward: int) -> None:\n",
    "        # direct RL update\n",
    "        update = self.q_values[self.past_state][self.past_action]\n",
    "        update += self.step_size * \\\n",
    "            (reward + self.gamma * np.max(self.q_values[state]) - update)\n",
    "        self.q_values[self.past_state][self.past_action] = update\n",
    "        # model update\n",
    "        self.update_model(self.past_state, self.past_action, state, reward)\n",
    "        # planning step\n",
    "        self.planning_step()\n",
    "        # action selection using the e-greedy policy\n",
    "        action = self.epsilon_greedy(state)\n",
    "        self.update_state(state, action)\n",
    "        # before performing the action, save the current state and action\n",
    "        self.past_state = state\n",
    "        self.past_action = action\n",
    "\n",
    "        return self.past_action\n",
    "\n",
    "    def agent_end(self) -> None:\n",
    "        \"\"\"\n",
    "        Called once the agent reaches a terminal state \n",
    "        \"\"\"\n",
    "        terminal_coordinates = self.state_to_coord(self.position)\n",
    "        # the coordinates must be reversed when querying the dataframe\n",
    "        reward = self.env.get_reward(terminal_coordinates)\n",
    "        # direct RL update for a terminal state\n",
    "        update = self.q_values[self.past_state][self.past_action]\n",
    "        update += self.step_size * (reward - update)\n",
    "        self.q_values[self.past_state][self.past_action] = update\n",
    "        # model update with next_action = -1\n",
    "        self.update_model(self.past_state, self.past_action, -1, reward)\n",
    "        # planning step\n",
    "        self.planning_step()\n",
    "    \n",
    "    def play_episode(self) -> None:\n",
    "        self.agent_start(self.start_position)\n",
    "        episode_steps = 1\n",
    "        while not self.done:\n",
    "            self.step(self.position, \n",
    "                      self.env.get_reward(self.state_to_coord(self.position)))\n",
    "            episode_steps+=1\n",
    "        self.n_steps.append(episode_steps)\n",
    "        self.agent_end()\n",
    "        self.reset()\n",
    "    \n",
    "    def fit(self, n_episode) -> None:\n",
    "        self.episode_played = 0\n",
    "        for _ in tqdm(range(n_episode), position=0, leave=True):\n",
    "            self.play_episode()\n",
    "            self.episode_played +=1\n",
    "            # self.epsilon = \n",
    "        \n",
    "    def get_value_map(self) -> pd.DataFrame:\n",
    "        key_val = [(self.state_to_coord(key)[::-1], np.max(values)) \\\n",
    "            for (key, values) in list(self.q_values.items())]\n",
    "        value_map = pd.DataFrame(np.zeros((8,12)))\n",
    "        for key, value in key_val:\n",
    "            value_map.loc[key] = value\n",
    "        return value_map\n",
    "    \n",
    "    def report(self):\n",
    "        sns.heatmap(self.get_value_map(), cmap='viridis')\n",
    "        plt.title('State Value function')\n",
    "        plt.show()\n",
    "\n",
    "        n_steps = pd.DataFrame(self.n_steps)\n",
    "        n_steps['is_optimal'] = n_steps == 15\n",
    "        fig = px.bar(n_steps, color='is_optimal', title='Number of steps per episode')\n",
    "        fig.show()"
   ]
  },
  {
   "cell_type": "code",
   "execution_count": 199,
   "metadata": {},
   "outputs": [
    {
     "name": "stderr",
     "output_type": "stream",
     "text": [
      "100%|██████████| 40/40 [00:04<00:00,  8.04it/s]\n"
     ]
    },
    {
     "data": {
      "image/png": "[encoded data removed]",
      "text/plain": [
       "<Figure size 640x480 with 2 Axes>"
      ]
     },
     "metadata": {},
     "output_type": "display_data"
    },
    {
     "data": {
      "application/vnd.plotly.v1+json": {
       "config": {
        "plotlyServerURL": "https://plot.ly"
       },
       "data": [
        {
         "alignmentgroup": "True",
         "hovertemplate": "is_optimal=False<br>index=%{x}<br>value=%{y}<extra></extra>",
         "legendgroup": "False",
         "marker": {
          "color": "#636efa",
          "pattern": {
           "shape": ""
          }
         },
         "name": "False",
         "offsetgroup": "False",
         "orientation": "v",
         "showlegend": true,
         "textposition": "auto",
         "type": "bar",
         "x": [
          0,
          1,
          2,
          3,
          4,
          5,
          6,
          7,
          8,
          9,
          10,
          11,
          12,
          13,
          14,
          15,
          16,
          17,
          18,
          19,
          20,
          21,
          23,
          24,
          25,
          26,
          27,
          28,
          30,
          32,
          33,
          34,
          35,
          38
         ],
         "xaxis": "x",
         "y": [
          21,
          266,
          218,
          132,
          88,
          96,
          98,
          421,
          60,
          17,
          26,
          18,
          18,
          21,
          19,
          20,
          19,
          21,
          17,
          25,
          19,
          20,
          19,
          17,
          17,
          19,
          17,
          17,
          17,
          20,
          19,
          20,
          19,
          17
         ],
         "yaxis": "y"
        },
        {
         "alignmentgroup": "True",
         "hovertemplate": "is_optimal=True<br>index=%{x}<br>value=%{y}<extra></extra>",
         "legendgroup": "True",
         "marker": {
          "color": "#EF553B",
          "pattern": {
           "shape": ""
          }
         },
         "name": "True",
         "offsetgroup": "True",
         "orientation": "v",
         "showlegend": true,
         "textposition": "auto",
         "type": "bar",
         "x": [
          22,
          29,
          31,
          36,
          37,
          39
         ],
         "xaxis": "x",
         "y": [
          15,
          15,
          15,
          15,
          15,
          15
         ],
         "yaxis": "y"
        }
       ],
       "layout": {
        "barmode": "relative",
        "legend": {
         "title": {
          "text": "is_optimal"
         },
         "tracegroupgap": 0
        },
        "template": {
         "data": {
          "bar": [
           {
            "error_x": {
             "color": "#2a3f5f"
            },
            "error_y": {
             "color": "#2a3f5f"
            },
            "marker": {
             "line": {
              "color": "#E5ECF6",
              "width": 0.5
             },
             "pattern": {
              "fillmode": "overlay",
              "size": 10,
              "solidity": 0.2
             }
            },
            "type": "bar"
           }
          ],
          "barpolar": [
           {
            "marker": {
             "line": {
              "color": "#E5ECF6",
              "width": 0.5
             },
             "pattern": {
              "fillmode": "overlay",
              "size": 10,
              "solidity": 0.2
             }
            },
            "type": "barpolar"
           }
          ],
          "carpet": [
           {
            "aaxis": {
             "endlinecolor": "#2a3f5f",
             "gridcolor": "white",
             "linecolor": "white",
             "minorgridcolor": "white",
             "startlinecolor": "#2a3f5f"
            },
            "baxis": {
             "endlinecolor": "#2a3f5f",
             "gridcolor": "white",
             "linecolor": "white",
             "minorgridcolor": "white",
             "startlinecolor": "#2a3f5f"
            },
            "type": "carpet"
           }
          ],
          "choropleth": [
           {
            "colorbar": {
             "outlinewidth": 0,
             "ticks": ""
            },
            "type": "choropleth"
           }
          ],
          "contour": [
           {
            "colorbar": {
             "outlinewidth": 0,
             "ticks": ""
            },
            "colorscale": [
             [
              0,
              "#0d0887"
             ],
             [
              0.1111111111111111,
              "#46039f"
             ],
             [
              0.2222222222222222,
              "#7201a8"
             ],
             [
              0.3333333333333333,
              "#9c179e"
             ],
             [
              0.4444444444444444,
              "#bd3786"
             ],
             [
              0.5555555555555556,
              "#d8576b"
             ],
             [
              0.6666666666666666,
              "#ed7953"
             ],
             [
              0.7777777777777778,
              "#fb9f3a"
             ],
             [
              0.8888888888888888,
              "#fdca26"
             ],
             [
              1,
              "#f0f921"
             ]
            ],
            "type": "contour"
           }
          ],
          "contourcarpet": [
           {
            "colorbar": {
             "outlinewidth": 0,
             "ticks": ""
            },
            "type": "contourcarpet"
           }
          ],
          "heatmap": [
           {
            "colorbar": {
             "outlinewidth": 0,
             "ticks": ""
            },
            "colorscale": [
             [
              0,
              "#0d0887"
             ],
             [
              0.1111111111111111,
              "#46039f"
             ],
             [
              0.2222222222222222,
              "#7201a8"
             ],
             [
              0.3333333333333333,
              "#9c179e"
             ],
             [
              0.4444444444444444,
              "#bd3786"
             ],
             [
              0.5555555555555556,
              "#d8576b"
             ],
             [
              0.6666666666666666,
              "#ed7953"
             ],
             [
              0.7777777777777778,
              "#fb9f3a"
             ],
             [
              0.8888888888888888,
              "#fdca26"
             ],
             [
              1,
              "#f0f921"
             ]
            ],
            "type": "heatmap"
           }
          ],
          "heatmapgl": [
           {
            "colorbar": {
             "outlinewidth": 0,
             "ticks": ""
            },
            "colorscale": [
             [
              0,
              "#0d0887"
             ],
             [
              0.1111111111111111,
              "#46039f"
             ],
             [
              0.2222222222222222,
              "#7201a8"
             ],
             [
              0.3333333333333333,
              "#9c179e"
             ],
             [
              0.4444444444444444,
              "#bd3786"
             ],
             [
              0.5555555555555556,
              "#d8576b"
             ],
             [
              0.6666666666666666,
              "#ed7953"
             ],
             [
              0.7777777777777778,
              "#fb9f3a"
             ],
             [
              0.8888888888888888,
              "#fdca26"
             ],
             [
              1,
              "#f0f921"
             ]
            ],
            "type": "heatmapgl"
           }
          ],
          "histogram": [
           {
            "marker": {
             "pattern": {
              "fillmode": "overlay",
              "size": 10,
              "solidity": 0.2
             }
            },
            "type": "histogram"
           }
          ],
          "histogram2d": [
           {
            "colorbar": {
             "outlinewidth": 0,
             "ticks": ""
            },
            "colorscale": [
             [
              0,
              "#0d0887"
             ],
             [
              0.1111111111111111,
              "#46039f"
             ],
             [
              0.2222222222222222,
              "#7201a8"
             ],
             [
              0.3333333333333333,
              "#9c179e"
             ],
             [
              0.4444444444444444,
              "#bd3786"
             ],
             [
              0.5555555555555556,
              "#d8576b"
             ],
             [
              0.6666666666666666,
              "#ed7953"
             ],
             [
              0.7777777777777778,
              "#fb9f3a"
             ],
             [
              0.8888888888888888,
              "#fdca26"
             ],
             [
              1,
              "#f0f921"
             ]
            ],
            "type": "histogram2d"
           }
          ],
          "histogram2dcontour": [
           {
            "colorbar": {
             "outlinewidth": 0,
             "ticks": ""
            },
            "colorscale": [
             [
              0,
              "#0d0887"
             ],
             [
              0.1111111111111111,
              "#46039f"
             ],
             [
              0.2222222222222222,
              "#7201a8"
             ],
             [
              0.3333333333333333,
              "#9c179e"
             ],
             [
              0.4444444444444444,
              "#bd3786"
             ],
             [
              0.5555555555555556,
              "#d8576b"
             ],
             [
              0.6666666666666666,
              "#ed7953"
             ],
             [
              0.7777777777777778,
              "#fb9f3a"
             ],
             [
              0.8888888888888888,
              "#fdca26"
             ],
             [
              1,
              "#f0f921"
             ]
            ],
            "type": "histogram2dcontour"
           }
          ],
          "mesh3d": [
           {
            "colorbar": {
             "outlinewidth": 0,
             "ticks": ""
            },
            "type": "mesh3d"
           }
          ],
          "parcoords": [
           {
            "line": {
             "colorbar": {
              "outlinewidth": 0,
              "ticks": ""
             }
            },
            "type": "parcoords"
           }
          ],
          "pie": [
           {
            "automargin": true,
            "type": "pie"
           }
          ],
          "scatter": [
           {
            "fillpattern": {
             "fillmode": "overlay",
             "size": 10,
             "solidity": 0.2
            },
            "type": "scatter"
           }
          ],
          "scatter3d": [
           {
            "line": {
             "colorbar": {
              "outlinewidth": 0,
              "ticks": ""
             }
            },
            "marker": {
             "colorbar": {
              "outlinewidth": 0,
              "ticks": ""
             }
            },
            "type": "scatter3d"
           }
          ],
          "scattercarpet": [
           {
            "marker": {
             "colorbar": {
              "outlinewidth": 0,
              "ticks": ""
             }
            },
            "type": "scattercarpet"
           }
          ],
          "scattergeo": [
           {
            "marker": {
             "colorbar": {
              "outlinewidth": 0,
              "ticks": ""
             }
            },
            "type": "scattergeo"
           }
          ],
          "scattergl": [
           {
            "marker": {
             "colorbar": {
              "outlinewidth": 0,
              "ticks": ""
             }
            },
            "type": "scattergl"
           }
          ],
          "scattermapbox": [
           {
            "marker": {
             "colorbar": {
              "outlinewidth": 0,
              "ticks": ""
             }
            },
            "type": "scattermapbox"
           }
          ],
          "scatterpolar": [
           {
            "marker": {
             "colorbar": {
              "outlinewidth": 0,
              "ticks": ""
             }
            },
            "type": "scatterpolar"
           }
          ],
          "scatterpolargl": [
           {
            "marker": {
             "colorbar": {
              "outlinewidth": 0,
              "ticks": ""
             }
            },
            "type": "scatterpolargl"
           }
          ],
          "scatterternary": [
           {
            "marker": {
             "colorbar": {
              "outlinewidth": 0,
              "ticks": ""
             }
            },
            "type": "scatterternary"
           }
          ],
          "surface": [
           {
            "colorbar": {
             "outlinewidth": 0,
             "ticks": ""
            },
            "colorscale": [
             [
              0,
              "#0d0887"
             ],
             [
              0.1111111111111111,
              "#46039f"
             ],
             [
              0.2222222222222222,
              "#7201a8"
             ],
             [
              0.3333333333333333,
              "#9c179e"
             ],
             [
              0.4444444444444444,
              "#bd3786"
             ],
             [
              0.5555555555555556,
              "#d8576b"
             ],
             [
              0.6666666666666666,
              "#ed7953"
             ],
             [
              0.7777777777777778,
              "#fb9f3a"
             ],
             [
              0.8888888888888888,
              "#fdca26"
             ],
             [
              1,
              "#f0f921"
             ]
            ],
            "type": "surface"
           }
          ],
          "table": [
           {
            "cells": {
             "fill": {
              "color": "#EBF0F8"
             },
             "line": {
              "color": "white"
             }
            },
            "header": {
             "fill": {
              "color": "#C8D4E3"
             },
             "line": {
              "color": "white"
             }
            },
            "type": "table"
           }
          ]
         },
         "layout": {
          "annotationdefaults": {
           "arrowcolor": "#2a3f5f",
           "arrowhead": 0,
           "arrowwidth": 1
          },
          "autotypenumbers": "strict",
          "coloraxis": {
           "colorbar": {
            "outlinewidth": 0,
            "ticks": ""
           }
          },
          "colorscale": {
           "diverging": [
            [
             0,
             "#8e0152"
            ],
            [
             0.1,
             "#c51b7d"
            ],
            [
             0.2,
             "#de77ae"
            ],
            [
             0.3,
             "#f1b6da"
            ],
            [
             0.4,
             "#fde0ef"
            ],
            [
             0.5,
             "#f7f7f7"
            ],
            [
             0.6,
             "#e6f5d0"
            ],
            [
             0.7,
             "#b8e186"
            ],
            [
             0.8,
             "#7fbc41"
            ],
            [
             0.9,
             "#4d9221"
            ],
            [
             1,
             "#276419"
            ]
           ],
           "sequential": [
            [
             0,
             "#0d0887"
            ],
            [
             0.1111111111111111,
             "#46039f"
            ],
            [
             0.2222222222222222,
             "#7201a8"
            ],
            [
             0.3333333333333333,
             "#9c179e"
            ],
            [
             0.4444444444444444,
             "#bd3786"
            ],
            [
             0.5555555555555556,
             "#d8576b"
            ],
            [
             0.6666666666666666,
             "#ed7953"
            ],
            [
             0.7777777777777778,
             "#fb9f3a"
            ],
            [
             0.8888888888888888,
             "#fdca26"
            ],
            [
             1,
             "#f0f921"
            ]
           ],
           "sequentialminus": [
            [
             0,
             "#0d0887"
            ],
            [
             0.1111111111111111,
             "#46039f"
            ],
            [
             0.2222222222222222,
             "#7201a8"
            ],
            [
             0.3333333333333333,
             "#9c179e"
            ],
            [
             0.4444444444444444,
             "#bd3786"
            ],
            [
             0.5555555555555556,
             "#d8576b"
            ],
            [
             0.6666666666666666,
             "#ed7953"
            ],
            [
             0.7777777777777778,
             "#fb9f3a"
            ],
            [
             0.8888888888888888,
             "#fdca26"
            ],
            [
             1,
             "#f0f921"
            ]
           ]
          },
          "colorway": [
           "#636efa",
           "#EF553B",
           "#00cc96",
           "#ab63fa",
           "#FFA15A",
           "#19d3f3",
           "#FF6692",
           "#B6E880",
           "#FF97FF",
           "#FECB52"
          ],
          "font": {
           "color": "#2a3f5f"
          },
          "geo": {
           "bgcolor": "white",
           "lakecolor": "white",
           "landcolor": "#E5ECF6",
           "showlakes": true,
           "showland": true,
           "subunitcolor": "white"
          },
          "hoverlabel": {
           "align": "left"
          },
          "hovermode": "closest",
          "mapbox": {
           "style": "light"
          },
          "paper_bgcolor": "white",
          "plot_bgcolor": "#E5ECF6",
          "polar": {
           "angularaxis": {
            "gridcolor": "white",
            "linecolor": "white",
            "ticks": ""
           },
           "bgcolor": "#E5ECF6",
           "radialaxis": {
            "gridcolor": "white",
            "linecolor": "white",
            "ticks": ""
           }
          },
          "scene": {
           "xaxis": {
            "backgroundcolor": "#E5ECF6",
            "gridcolor": "white",
            "gridwidth": 2,
            "linecolor": "white",
            "showbackground": true,
            "ticks": "",
            "zerolinecolor": "white"
           },
           "yaxis": {
            "backgroundcolor": "#E5ECF6",
            "gridcolor": "white",
            "gridwidth": 2,
            "linecolor": "white",
            "showbackground": true,
            "ticks": "",
            "zerolinecolor": "white"
           },
           "zaxis": {
            "backgroundcolor": "#E5ECF6",
            "gridcolor": "white",
            "gridwidth": 2,
            "linecolor": "white",
            "showbackground": true,
            "ticks": "",
            "zerolinecolor": "white"
           }
          },
          "shapedefaults": {
           "line": {
            "color": "#2a3f5f"
           }
          },
          "ternary": {
           "aaxis": {
            "gridcolor": "white",
            "linecolor": "white",
            "ticks": ""
           },
           "baxis": {
            "gridcolor": "white",
            "linecolor": "white",
            "ticks": ""
           },
           "bgcolor": "#E5ECF6",
           "caxis": {
            "gridcolor": "white",
            "linecolor": "white",
            "ticks": ""
           }
          },
          "title": {
           "x": 0.05
          },
          "xaxis": {
           "automargin": true,
           "gridcolor": "white",
           "linecolor": "white",
           "ticks": "",
           "title": {
            "standoff": 15
           },
           "zerolinecolor": "white",
           "zerolinewidth": 2
          },
          "yaxis": {
           "automargin": true,
           "gridcolor": "white",
           "linecolor": "white",
           "ticks": "",
           "title": {
            "standoff": 15
           },
           "zerolinecolor": "white",
           "zerolinewidth": 2
          }
         }
        },
        "title": {
         "text": "Number of steps per episode"
        },
        "xaxis": {
         "anchor": "y",
         "domain": [
          0,
          1
         ],
         "title": {
          "text": "index"
         }
        },
        "yaxis": {
         "anchor": "x",
         "domain": [
          0,
          1
         ],
         "title": {
          "text": "value"
         }
        }
       }
      }
     },
     "metadata": {},
     "output_type": "display_data"
    }
   ],
   "source": [
    "a = Dyna_Q_Agent(planning_steps=30)\n",
    "a.fit(40)\n",
    "a.report()"
   ]
  }
 ],
 "metadata": {
  "kernelspec": {
   "display_name": "Python 3",
   "language": "python",
   "name": "python3"
  },
  "language_info": {
   "codemirror_mode": {
    "name": "ipython",
    "version": 3
   },
   "file_extension": ".py",
   "mimetype": "text/x-python",
   "name": "python",
   "nbconvert_exporter": "python",
   "pygments_lexer": "ipython3",
   "version": "3.10.7"
  },
  "orig_nbformat": 4
 },
 "nbformat": 4,
 "nbformat_minor": 2
}

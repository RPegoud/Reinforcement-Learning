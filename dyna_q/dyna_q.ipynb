{
 "cells": [
  {
   "attachments": {},
   "cell_type": "markdown",
   "metadata": {},
   "source": [
    "# **Dyna-Q**\n"
   ]
  },
  {
   "cell_type": "code",
   "execution_count": 30,
   "metadata": {},
   "outputs": [],
   "source": [
    "import numpy as np\n",
    "import pandas as pd\n",
    "from tqdm.auto import tqdm\n",
    "import seaborn as sns\n",
    "import matplotlib.pyplot as plt\n",
    "import plotly.express as px\n",
    "import plotly.graph_objects as go\n",
    "from plotly.subplots import make_subplots"
   ]
  },
  {
   "cell_type": "code",
   "execution_count": 31,
   "metadata": {},
   "outputs": [],
   "source": [
    "class Env():\n",
    "    def __init__(self) -> None:\n",
    "        self.coordinates = {\n",
    "            'A': ((6, 1),), # agent start position\n",
    "            'W': ((3, range(3)), (range(5, 8), 3)), # wall\n",
    "            'T': ((range(3), 8), (3, range(8, 12))), # trap\n",
    "            'P': ((6, 10), (0, 11)), # portal\n",
    "            'LP': ((1, 2),), # late portal\n",
    "            'G': ((2, 9),) # goal\n",
    "        }\n",
    "        self.generate_grid()\n",
    "        self.generate_reward_map()\n",
    "\n",
    "    def generate_grid(self) -> pd.DataFrame:\n",
    "        grid = np.zeros((8, 12), dtype=np.object0)\n",
    "        for key in list(self.coordinates.keys()):\n",
    "            for values in self.coordinates[key]:\n",
    "                grid[values] = key\n",
    "        self.grid = pd.DataFrame(grid)\n",
    "\n",
    "    def activate_late_portal(self):\n",
    "        late_portal_coord = self.coordinates.get('LP')[0]\n",
    "        self.grid.loc[late_portal_coord] = 'P'\n",
    "\n",
    "    def generate_reward_map(self) -> pd.DataFrame:\n",
    "        reward_map = np.zeros((8, 12), dtype=np.float32)\n",
    "        reward_map[self.coordinates['G'][0]] = 1\n",
    "        self.reward_map = pd.DataFrame(reward_map)\n",
    "\n",
    "    def get_reward(self, coordinates: tuple = None, reverse:bool=True) -> int:\n",
    "        \"\"\"\n",
    "        Queries the reward map and returns the reward associated to the coordinates\n",
    "        @reverse: - if the coordinates are derived from the agent state, set reverse to True\n",
    "                    They have to be reversed before querying the dataframe as \n",
    "                    agent(state) = (x,y) = pd.Dataframe.loc(y,x) with (x,y) = (col, row)\n",
    "                  - if the coordinates come from env.coordinates, then set reverse to False\n",
    "                    as they are already in the (row, col) format\n",
    "        \"\"\"\n",
    "        if reverse: return self.reward_map.loc[coordinates[::-1]]\n",
    "        else: return self.reward_map.loc[coordinates]"
   ]
  },
  {
   "cell_type": "code",
   "execution_count": 32,
   "metadata": {},
   "outputs": [
    {
     "data": {
      "text/html": [
       "<div>\n",
       "<style scoped>\n",
       "    .dataframe tbody tr th:only-of-type {\n",
       "        vertical-align: middle;\n",
       "    }\n",
       "\n",
       "    .dataframe tbody tr th {\n",
       "        vertical-align: top;\n",
       "    }\n",
       "\n",
       "    .dataframe thead th {\n",
       "        text-align: right;\n",
       "    }\n",
       "</style>\n",
       "<table border=\"1\" class=\"dataframe\">\n",
       "  <thead>\n",
       "    <tr style=\"text-align: right;\">\n",
       "      <th></th>\n",
       "      <th>0</th>\n",
       "      <th>1</th>\n",
       "      <th>2</th>\n",
       "      <th>3</th>\n",
       "      <th>4</th>\n",
       "      <th>5</th>\n",
       "      <th>6</th>\n",
       "      <th>7</th>\n",
       "      <th>8</th>\n",
       "      <th>9</th>\n",
       "      <th>10</th>\n",
       "      <th>11</th>\n",
       "    </tr>\n",
       "  </thead>\n",
       "  <tbody>\n",
       "    <tr>\n",
       "      <th>0</th>\n",
       "      <td>0</td>\n",
       "      <td>0</td>\n",
       "      <td>0</td>\n",
       "      <td>0</td>\n",
       "      <td>0</td>\n",
       "      <td>0</td>\n",
       "      <td>0</td>\n",
       "      <td>0</td>\n",
       "      <td>T</td>\n",
       "      <td>0</td>\n",
       "      <td>0</td>\n",
       "      <td>P</td>\n",
       "    </tr>\n",
       "    <tr>\n",
       "      <th>1</th>\n",
       "      <td>0</td>\n",
       "      <td>0</td>\n",
       "      <td>LP</td>\n",
       "      <td>0</td>\n",
       "      <td>0</td>\n",
       "      <td>0</td>\n",
       "      <td>0</td>\n",
       "      <td>0</td>\n",
       "      <td>T</td>\n",
       "      <td>0</td>\n",
       "      <td>0</td>\n",
       "      <td>0</td>\n",
       "    </tr>\n",
       "    <tr>\n",
       "      <th>2</th>\n",
       "      <td>0</td>\n",
       "      <td>0</td>\n",
       "      <td>0</td>\n",
       "      <td>0</td>\n",
       "      <td>0</td>\n",
       "      <td>0</td>\n",
       "      <td>0</td>\n",
       "      <td>0</td>\n",
       "      <td>T</td>\n",
       "      <td>G</td>\n",
       "      <td>0</td>\n",
       "      <td>0</td>\n",
       "    </tr>\n",
       "    <tr>\n",
       "      <th>3</th>\n",
       "      <td>W</td>\n",
       "      <td>W</td>\n",
       "      <td>W</td>\n",
       "      <td>0</td>\n",
       "      <td>0</td>\n",
       "      <td>0</td>\n",
       "      <td>0</td>\n",
       "      <td>0</td>\n",
       "      <td>T</td>\n",
       "      <td>T</td>\n",
       "      <td>T</td>\n",
       "      <td>T</td>\n",
       "    </tr>\n",
       "    <tr>\n",
       "      <th>4</th>\n",
       "      <td>0</td>\n",
       "      <td>0</td>\n",
       "      <td>0</td>\n",
       "      <td>0</td>\n",
       "      <td>0</td>\n",
       "      <td>0</td>\n",
       "      <td>0</td>\n",
       "      <td>0</td>\n",
       "      <td>0</td>\n",
       "      <td>0</td>\n",
       "      <td>0</td>\n",
       "      <td>0</td>\n",
       "    </tr>\n",
       "    <tr>\n",
       "      <th>5</th>\n",
       "      <td>0</td>\n",
       "      <td>0</td>\n",
       "      <td>0</td>\n",
       "      <td>W</td>\n",
       "      <td>0</td>\n",
       "      <td>0</td>\n",
       "      <td>0</td>\n",
       "      <td>0</td>\n",
       "      <td>0</td>\n",
       "      <td>0</td>\n",
       "      <td>0</td>\n",
       "      <td>0</td>\n",
       "    </tr>\n",
       "    <tr>\n",
       "      <th>6</th>\n",
       "      <td>0</td>\n",
       "      <td>A</td>\n",
       "      <td>0</td>\n",
       "      <td>W</td>\n",
       "      <td>0</td>\n",
       "      <td>0</td>\n",
       "      <td>0</td>\n",
       "      <td>0</td>\n",
       "      <td>0</td>\n",
       "      <td>0</td>\n",
       "      <td>P</td>\n",
       "      <td>0</td>\n",
       "    </tr>\n",
       "    <tr>\n",
       "      <th>7</th>\n",
       "      <td>0</td>\n",
       "      <td>0</td>\n",
       "      <td>0</td>\n",
       "      <td>W</td>\n",
       "      <td>0</td>\n",
       "      <td>0</td>\n",
       "      <td>0</td>\n",
       "      <td>0</td>\n",
       "      <td>0</td>\n",
       "      <td>0</td>\n",
       "      <td>0</td>\n",
       "      <td>0</td>\n",
       "    </tr>\n",
       "  </tbody>\n",
       "</table>\n",
       "</div>"
      ],
      "text/plain": [
       "  0  1   2  3  4  5  6  7  8  9  10 11\n",
       "0  0  0   0  0  0  0  0  0  T  0  0  P\n",
       "1  0  0  LP  0  0  0  0  0  T  0  0  0\n",
       "2  0  0   0  0  0  0  0  0  T  G  0  0\n",
       "3  W  W   W  0  0  0  0  0  T  T  T  T\n",
       "4  0  0   0  0  0  0  0  0  0  0  0  0\n",
       "5  0  0   0  W  0  0  0  0  0  0  0  0\n",
       "6  0  A   0  W  0  0  0  0  0  0  P  0\n",
       "7  0  0   0  W  0  0  0  0  0  0  0  0"
      ]
     },
     "execution_count": 32,
     "metadata": {},
     "output_type": "execute_result"
    }
   ],
   "source": [
    "env = Env()\n",
    "env.grid"
   ]
  },
  {
   "cell_type": "code",
   "execution_count": 33,
   "metadata": {},
   "outputs": [],
   "source": [
    "class Agent():\n",
    "    def __init__(self,\n",
    "                 gamma: float = 0.1,  # undiscounted task\n",
    "                 step_size: float = 0.1,\n",
    "                 epsilon: float = 0.1,\n",
    "                 ) -> None:\n",
    "        self.env = Env()\n",
    "        self.gamma = gamma\n",
    "        self.step_size = step_size\n",
    "        self.epsilon = epsilon\n",
    "        self.n_actions = 4\n",
    "        self.actions = list(range(self.n_actions))\n",
    "        self.last_action = -1\n",
    "        self.last_state = -1\n",
    "        self.n_states = self.env.grid.size\n",
    "        self.start_position = self.coord_to_state(self.env.coordinates.get('A')[0][::-1])\n",
    "        self.position = self.start_position\n",
    "        self.q_values = self.init_state_action_dict()\n",
    "        self.state_visits = self.init_state_dict(initial_value=0)\n",
    "        self.random_generator = np.random.RandomState(seed=17)\n",
    "        self.done = False\n",
    "        self.n_steps = []\n",
    "\n",
    "    def reset(self):\n",
    "        self.done = False\n",
    "        self.position = self.start_position\n",
    "        self.last_action = -1\n",
    "        self.last_state = -1\n",
    "\n",
    "    def coord_to_state(self, coordinates: tuple) -> int:\n",
    "        return coordinates[0]*10 + coordinates[1]\n",
    "\n",
    "    def state_to_coord(self, state: int):\n",
    "        return (int(state//10), state % 10)\n",
    "\n",
    "    def init_state_action_dict(self) -> dict:\n",
    "        output_dict = {}\n",
    "        rows, cols = self.env.grid.index, self.env.grid.columns\n",
    "        for col in cols:\n",
    "            for row in rows:\n",
    "                output_dict[self.coord_to_state((col, row))] = np.zeros(4, dtype=np.float32)\n",
    "        return output_dict\n",
    "\n",
    "    def init_state_dict(self, initial_value) -> dict:\n",
    "        output_dict = {}\n",
    "        rows, cols = self.env.grid.index, self.env.grid.columns\n",
    "        for col in cols:\n",
    "            for row in rows:\n",
    "                output_dict[self.coord_to_state((col, row))] = initial_value\n",
    "        return output_dict\n",
    "\n",
    "    def update_coord(self, coord: tuple, action: int) -> tuple:\n",
    "        \"\"\"\n",
    "        Given a state and an action, moves the agent on the grid\n",
    "        If the agent encounters a wall or the edge of the grid, the initial position is returned\n",
    "        If the agent falls into a whole ('T') or finds the goal ('G'), the episode ends\n",
    "        \"\"\"\n",
    "        assert action in [0, 1, 2, 3], f\"Invalid action {action}\"\n",
    "        x, y = coord\n",
    "        if action == 0:\n",
    "            y -= 1\n",
    "        elif action == 1:\n",
    "            x += 1\n",
    "        elif action == 2:\n",
    "            y += 1\n",
    "        elif action == 3:\n",
    "            x -= 1\n",
    "\n",
    "        # if the action moves the agent out of bounds\n",
    "        if x not in range(0, self.env.grid.shape[1]):\n",
    "            return coord\n",
    "        if y not in range(0, self.env.grid.shape[0]):\n",
    "            return coord\n",
    "\n",
    "        # /!\\ when parsing the dataframe x and y are reversed\n",
    "        # if the agent bumps into a wall\n",
    "        if self.env.grid.loc[y, x] == 'W':\n",
    "            return coord\n",
    "        # if the agent goes through the portal\n",
    "        if self.env.grid.loc[y, x] == 'P':\n",
    "            return (11, 0)\n",
    "        # if the agent encounters falls into a trao\n",
    "        if self.env.grid.loc[y, x] == 'T':\n",
    "            self.done = True\n",
    "        # if the agent finds the treasure\n",
    "        if self.env.grid.loc[y,x] == 'G':\n",
    "            self.done = True\n",
    "\n",
    "        self.position == (x, y)\n",
    "        return (x, y)\n",
    "\n",
    "    def update_state(self, state, action) -> int:\n",
    "        assert action in [0, 1, 2, 3], f\"Invalid action: {action}, should be in {[i for i in range(4)]}\"\n",
    "        coord = self.state_to_coord(state)\n",
    "        updated_coord = self.update_coord(coord, action)\n",
    "        updated_state = self.coord_to_state(updated_coord)\n",
    "        self.position = updated_state\n",
    "        self.state_visits[self.position] += 1\n",
    "        return updated_state\n",
    "\n",
    "    def argmax(self, action_values) -> int:\n",
    "        \"\"\"\n",
    "        Selects the index of the highest action value\n",
    "        Breaks ties randomly\n",
    "        \"\"\"\n",
    "        return self.random_generator.choice(np.flatnonzero(action_values == np.max(action_values)))\n",
    "\n",
    "    def epsilon_greedy(self, state) -> int:\n",
    "        \"\"\"\n",
    "        Returns an action using an epsilon-greedy policy \n",
    "        w.r.t. the current action-value function\n",
    "        \"\"\"\n",
    "        # probability of epsilon of picking a random action\n",
    "        if self.random_generator.rand() < self.epsilon:\n",
    "            action = self.random_generator.choice(self.actions)\n",
    "        # picking the action greedily w.r.t state action values\n",
    "        else:\n",
    "            action_values = self.q_values[state]\n",
    "            action = self.argmax(action_values)\n",
    "        return action\n",
    "\n",
    "    def agent_start(self, state: int):\n",
    "        \"\"\"\n",
    "        Called at the start of an episode, takes the first action \n",
    "        given the initial state\n",
    "        \"\"\"\n",
    "        self.past_state = state\n",
    "        self.past_action = self.epsilon_greedy(state)\n",
    "        # take the action\n",
    "        self.update_state(state, self.past_action)\n",
    "        return self.past_action"
   ]
  },
  {
   "cell_type": "code",
   "execution_count": 34,
   "metadata": {},
   "outputs": [],
   "source": [
    "def plot_heatmap(matrix, **kwargs):\n",
    "        return go.Heatmap(z=matrix.values[::-1],\n",
    "                          x=matrix.columns,\n",
    "                          y=matrix.index[::-1],\n",
    "                          colorscale='Viridis', \n",
    "                          **kwargs)\n",
    "\n",
    "def plot_bar_chart(dataframe:pd.DataFrame, attribute:'str', color:str):\n",
    "        return go.Bar(y=dataframe[attribute], \n",
    "                      marker=dict(color=dataframe[color]))\n",
    "\n",
    "def plot_agent_performances_(agent:Agent) -> None:\n",
    "    q_values = agent.state_to_matrix(agent.q_values)\n",
    "    state_visits = agent.state_to_matrix(agent.state_visits)\n",
    "\n",
    "    n_steps = pd.DataFrame(agent.n_steps, columns=['steps'])\n",
    "    n_steps['is_optimal'] = np.where(n_steps.steps == 17,'#EF553B', '#636EFA')\n",
    "\n",
    "    # create the plots\n",
    "    heatmap1 = plot_heatmap(q_values, **{'colorbar':dict(x=0.45, y=0.78, len=0.473)})\n",
    "    heatmap2 = plot_heatmap(state_visits, **{'colorbar':dict(x=1, y=0.78, len=0.473)})\n",
    "    bar_chart = plot_bar_chart(n_steps, attribute='steps', color='is_optimal')\n",
    "\n",
    "    # Create subplot figure\n",
    "    fig = make_subplots(rows=2, cols=2, shared_xaxes=False, \n",
    "                        vertical_spacing=0.13, specs=[[{}, {}],[{\"colspan\": 2}, None]],\n",
    "                        subplot_titles=(\"State value function\",\"Number of total visits\", \"Number of steps per episode\")\n",
    "                        )\n",
    "\n",
    "    # Add the heatmaps and bar chart to the subplot figure\n",
    "    fig.add_trace(heatmap1, row=1, col=1)\n",
    "    fig.add_trace(heatmap2, row=1, col=2)\n",
    "    fig.add_trace(bar_chart, row=2, col=1)\n",
    "\n",
    "    title = f\"Agent: {agent.__class__} Number of episodes: {agent.episode_played}<br>\\\n",
    "    <span style='font-size: 13px'>Model parameters: [learning rate: {agent.step_size}, epsilon: {agent.epsilon}, discount: {agent.gamma}]</span>\"\n",
    "    fig.update_layout(height=900, width=1200, title=title)\n",
    "\n",
    "    fig.show()"
   ]
  },
  {
   "cell_type": "code",
   "execution_count": 45,
   "metadata": {},
   "outputs": [],
   "source": [
    "class Q_learning_Agent(Agent):\n",
    "    def __init__(self, \n",
    "                 gamma: float = 1, \n",
    "                 step_size: float = 0.1, \n",
    "                 epsilon: float = 0.1\n",
    "                 ) -> None:\n",
    "        super().__init__(gamma, step_size, epsilon)\n",
    "        self.name = \"Q-learning\"    \n",
    "\n",
    "    def step(self, state: int, reward: int) -> None:\n",
    "        # direct RL update\n",
    "        update = self.q_values[self.past_state][self.past_action]\n",
    "        update += self.step_size * \\\n",
    "            (reward + self.gamma * np.max(self.q_values[state]) - update)\n",
    "        self.q_values[self.past_state][self.past_action] = update\n",
    "        # model update\n",
    "        # action selection using the e-greedy policy\n",
    "        action = self.epsilon_greedy(state)\n",
    "        self.update_state(state, action)\n",
    "        # before performing the action, save the current state and action\n",
    "        self.past_state = state\n",
    "        self.past_action = action\n",
    "\n",
    "        return self.past_action\n",
    "\n",
    "    def agent_end(self) -> None:\n",
    "        \"\"\"\n",
    "        Called once the agent reaches a terminal state \n",
    "        \"\"\"\n",
    "        terminal_coordinates = self.state_to_coord(self.position)\n",
    "        # the coordinates must be reversed when querying the dataframe\n",
    "        reward = self.env.get_reward(terminal_coordinates)\n",
    "        # direct RL update for a terminal state\n",
    "        update = self.q_values[self.past_state][self.past_action]\n",
    "        update += self.step_size * (reward - update)\n",
    "        self.q_values[self.past_state][self.past_action] = update\n",
    "        # model update with next_action = -1\n",
    "        self.state_visits[self.past_state] += 1\n",
    "    \n",
    "    def play_episode(self) -> None:\n",
    "        \"\"\"\n",
    "        Plays one episode (agent_start, agent_step, agent_end)\n",
    "        Records the number of step during the episode\n",
    "        \"\"\"\n",
    "        self.agent_start(self.start_position)\n",
    "        episode_steps = 1\n",
    "        while not self.done:\n",
    "            self.step(self.position, \n",
    "                      self.env.get_reward(self.state_to_coord(self.position)))\n",
    "            episode_steps+=1\n",
    "        if self.position == self.coord_to_state(self.env.coordinates.get('G')[0]):\n",
    "            self.cumulative_reward +=1\n",
    "        self.n_steps.append(episode_steps)\n",
    "        self.agent_end()\n",
    "        self.reset()\n",
    "    \n",
    "    def fit(self, n_episode:int, plot_progress:list=None) -> None:\n",
    "        \"\"\"\n",
    "        Plays n_episode episodes\n",
    "        @plot_progress (list): calls the plot_agent_performances function for each episode in the list\n",
    "        \"\"\"\n",
    "        self.episode_played = 0\n",
    "        for idx in tqdm(range(n_episode), position=0, leave=True):\n",
    "            if self.episode_played == 100:\n",
    "                 self.env.activate_late_portal()\n",
    "            self.play_episode()\n",
    "            self.episode_played +=1\n",
    "            if plot_progress != None:\n",
    "                if idx in plot_progress:\n",
    "                    self.plot_agent_performances()\n",
    "        \n",
    "    def state_to_matrix(self, dictionary:dict) -> pd.DataFrame:\n",
    "        \"\"\"\n",
    "        Convert a dictionary of states (e.g. q_values and n_visits) to a \n",
    "        matrix representation matching the environment's grid representation\n",
    "        \"\"\"\n",
    "        key_val = [(self.state_to_coord(key)[::-1], np.max(values)) \\\n",
    "            for (key, values) in list(dictionary.items())]\n",
    "        matrix = pd.DataFrame(np.zeros((8,12)))\n",
    "        for key, value in key_val:\n",
    "            matrix.loc[key] = value\n",
    "        matrix.index = [str(i) for i in matrix.index]\n",
    "        matrix.columns = [str(c) for c in matrix.columns]\n",
    "        return matrix\n",
    "    \n",
    "    def plot_agent_performances(self) -> None:\n",
    "        q_values = self.state_to_matrix(self.q_values)\n",
    "        state_visits = self.state_to_matrix(self.state_visits)\n",
    "\n",
    "        n_steps = pd.DataFrame(self.n_steps, columns=['steps'])\n",
    "        color_mapping = {17: '#EF553B', 12: '#00CC96'}\n",
    "        n_steps['is_optimal'] = n_steps['steps'].apply(lambda x: color_mapping.get(x, '#636EFA'))\n",
    "        n_steps['is_optimal'] = pd.Categorical(n_steps['is_optimal'])\n",
    "\n",
    "        # create the plots\n",
    "        heatmap1 = plot_heatmap(q_values, **{'colorbar':dict(x=0.45, y=0.78, len=0.473)})\n",
    "        heatmap2 = plot_heatmap(state_visits, **{'colorbar':dict(x=1, y=0.78, len=0.473)})\n",
    "        bar_chart = plot_bar_chart(n_steps, attribute='steps', color='is_optimal')\n",
    "\n",
    "        # Create subplot figure\n",
    "        fig = make_subplots(rows=2, cols=2, shared_xaxes=False, \n",
    "                            vertical_spacing=0.13, specs=[[{}, {}],[{\"colspan\": 2}, None]],\n",
    "                            subplot_titles=(\"State value function\",\"Number of total visits\", \"Number of steps per episode\")\n",
    "                            )\n",
    "\n",
    "        # Add the heatmaps and bar chart to the subplot figure\n",
    "        fig.add_trace(heatmap1, row=1, col=1)\n",
    "        fig.add_trace(heatmap2, row=1, col=2)\n",
    "        fig.add_trace(bar_chart, row=2, col=1)\n",
    "\n",
    "        title = f\"Agent: {self.name}, Number of episodes: {self.episode_played}<br>\\\n",
    "        <span style='font-size: 13px'>Model parameters: [learning rate: {self.step_size}, epsilon: {self.epsilon}, discount: {self.gamma}]</span>\"\n",
    "        fig.update_layout(height=900, width=1200, title=title)\n",
    "\n",
    "        fig.show()"
   ]
  },
  {
   "cell_type": "code",
   "execution_count": 46,
   "metadata": {},
   "outputs": [],
   "source": [
    "class Dyna_Q_Agent(Q_learning_Agent):\n",
    "    def __init__(self, \n",
    "                 gamma: float = 1, \n",
    "                 step_size: float = 0.1, \n",
    "                 epsilon: float = 0.1, \n",
    "                 planning_steps: int = 100) -> None:\n",
    "        super().__init__(gamma, step_size, epsilon)\n",
    "        self.planning_steps = planning_steps\n",
    "        self.model = {}  # model[state][action] = (new state, reward)\n",
    "        self.name = \"Dyna Q\"    \n",
    "\n",
    "    def update_model(self, last_state: int, last_action: int, state: int, reward: int) -> None:\n",
    "        \"\"\"\n",
    "        Adds a new transition to the model, if the state is encountered for \n",
    "        the first time, creates a new key\n",
    "        \"\"\"\n",
    "        try:\n",
    "            self.model[last_state][last_action] = (state, reward)\n",
    "            self.state_visits[last_state] += 1\n",
    "        except KeyError:\n",
    "            self.model[last_state] = {}\n",
    "            self.model[last_state][last_action] = (state, reward)\n",
    "\n",
    "    def planning_step(self) -> None:\n",
    "            \"\"\"\n",
    "            Performs planning (indirect RL)\n",
    "            \"\"\"\n",
    "            for _ in range(self.planning_steps):\n",
    "                # select a visited state\n",
    "                planning_state = self.random_generator.choice(\n",
    "                    list(self.model.keys()))\n",
    "                # select a recorded action\n",
    "                planning_action = self.random_generator.choice(\n",
    "                    list(self.model[planning_state].keys()))\n",
    "                # get the predicted next state and reward\n",
    "                next_state, reward = self.model[planning_state][planning_action]\n",
    "                # update the values in case of terminal state\n",
    "                if next_state == -1:\n",
    "                    update = self.q_values[planning_state][planning_action]\n",
    "                    update += self.step_size * (reward - update)\n",
    "                    self.q_values[planning_state][planning_action] = update\n",
    "                # update the values in case of non-terminal state\n",
    "                else:\n",
    "                    update = self.q_values[planning_state][planning_action]\n",
    "                    update += self.step_size * (reward + self.gamma \\\n",
    "                                                * np.max(self.q_values[next_state]) - update)\n",
    "                    self.q_values[planning_state][planning_action] = update\n",
    "\n",
    "    def step(self, state: int, reward: int) -> None:\n",
    "        \"\"\"\n",
    "        A step performed by the agent\n",
    "        \"\"\"\n",
    "        # direct RL update\n",
    "        update = self.q_values[self.past_state][self.past_action]\n",
    "        update += self.step_size * \\\n",
    "            (reward + self.gamma * np.max(self.q_values[state]) - update)\n",
    "        self.q_values[self.past_state][self.past_action] = update\n",
    "        # model update\n",
    "        self.update_model(self.past_state, self.past_action, state, reward)\n",
    "        # planning step\n",
    "        self.planning_step()\n",
    "        # action selection using the e-greedy policy\n",
    "        action = self.epsilon_greedy(state)\n",
    "        self.update_state(state, action)\n",
    "        # before performing the action, save the current state and action\n",
    "        self.past_state = state\n",
    "        self.past_action = action\n",
    "\n",
    "        return self.past_action\n",
    "\n",
    "    def agent_end(self) -> None:\n",
    "        \"\"\"\n",
    "        Called once the agent reaches a terminal state \n",
    "        \"\"\"\n",
    "        terminal_coordinates = self.state_to_coord(self.position)\n",
    "        # the coordinates must be reversed when querying the dataframe\n",
    "        reward = self.env.get_reward(terminal_coordinates)\n",
    "        # direct RL update for a terminal state\n",
    "        update = self.q_values[self.past_state][self.past_action]\n",
    "        update += self.step_size * (reward - update)\n",
    "        self.q_values[self.past_state][self.past_action] = update\n",
    "        # model update with next_action = -1\n",
    "        self.update_model(self.past_state, self.past_action, -1, reward)\n",
    "        self.state_visits[self.past_state] += 1\n",
    "        # planning step\n",
    "        self.planning_step()"
   ]
  },
  {
   "cell_type": "code",
   "execution_count": 47,
   "metadata": {},
   "outputs": [],
   "source": [
    "class Dyna_Q_plus_Agent(Dyna_Q_Agent):\n",
    "    \"\"\"\n",
    "    In Dyna-Q+, a bonus reward is given for actions that haven't been tried for a long time\n",
    "    as there are greater chances that the environment dynamics have changed\n",
    "    The number of transitions since the last time (state, action) was tried is given by tau(state, action)\n",
    "    The associated reward is given by: reward + kappa * sqrt(tau(state, action))\n",
    "    \"\"\"\n",
    "    def __init__(self, \n",
    "                 gamma: float = 1, \n",
    "                 step_size: float = 0.1, \n",
    "                 epsilon: float = 0.1, \n",
    "                 planning_steps: int = 100,\n",
    "                 kappa: float = 1e-3,\n",
    "                 ) -> None:\n",
    "        super().__init__(gamma, step_size, epsilon, planning_steps)\n",
    "        self.name = \"Dyna-Q+\"\n",
    "        self.kappa = kappa\n",
    "        self.tau = self.init_state_action_dict()\n",
    "        \n",
    "    def update_model(self, last_state: int, last_action: int, state: int, reward: int) -> None:\n",
    "        \"\"\"\n",
    "        Overwrite the Dyna-Q update_model function\n",
    "        Now, when we visit a state for the first time, all the action that were not selected\n",
    "        are initialized with 0, they will be updated at each time steps according to the Dyna-Q+ algorithm\n",
    "        \"\"\"\n",
    "        if last_state not in self.model:\n",
    "            self.model[last_state] = {last_action : (state, reward)}\n",
    "        for action in self.actions:\n",
    "            if action != last_action:\n",
    "                self.model[last_state][action] = (last_state, 0)\n",
    "        else:\n",
    "            self.model[last_state][last_action] = (state, reward) \n",
    "\n",
    "    def update_tau(self, state:int, action:int) -> None:\n",
    "        for key in list(self.tau.keys()):\n",
    "            self.tau[key] +=1\n",
    "        self.tau[state][action] = 0\n",
    "            \n",
    "\n",
    "    def planning_step(self) -> None:  \n",
    "        \"\"\"\n",
    "        Overwrite the Dyna-Q planning_step function\n",
    "        Performs planning (indirect RL) and adds a bonus to the transition reward\n",
    "        The bonus is given by kappa * sqrt(tau(state, action))\n",
    "        \"\"\"\n",
    "        for _ in range(self.planning_steps):\n",
    "            # select a visited state\n",
    "            planning_state = self.random_generator.choice(list(self.model.keys()))\n",
    "            # select a recorded action\n",
    "            planning_action = self.random_generator.choice(list(self.model[planning_state].keys()))\n",
    "            # get the predicted next state and reward\n",
    "            next_state, reward = self.model[planning_state][planning_action]\n",
    "            # add the bonus reward\n",
    "            reward += self.kappa * np.sqrt(self.tau[planning_state][planning_action])\n",
    "            # update the values in case of terminal state\n",
    "            if next_state == -1:\n",
    "                update = self.q_values[planning_state][planning_action]\n",
    "                update += self.step_size * (reward - update)\n",
    "                self.q_values[planning_state][planning_action] = update\n",
    "            # update the values in case of non-terminal state\n",
    "            else:\n",
    "                update = self.q_values[planning_state][planning_action]\n",
    "                update += self.step_size * (reward + self.gamma \\\n",
    "                                            * np.max(self.q_values[next_state]) - update)\n",
    "                self.q_values[planning_state][planning_action] = update\n",
    "    \n",
    "    def step(self, state: int, reward: int) -> None:\n",
    "        \"\"\"\n",
    "        Overwrite the Dyna-Q step function\n",
    "        At every step, we increment the last visit counter for every state action by 1\n",
    "        The current state action pair is reset to 0\n",
    "        \"\"\"\n",
    "        # direct RL update\n",
    "        update = self.q_values[self.past_state][self.past_action]\n",
    "        update += self.step_size * \\\n",
    "            (reward + self.gamma * np.max(self.q_values[state]) - update)\n",
    "        self.q_values[self.past_state][self.past_action] = update\n",
    "        # model update\n",
    "        self.update_model(self.past_state, self.past_action, state, reward)\n",
    "        # planning step\n",
    "        self.planning_step()\n",
    "        # action selection using the e-greedy policy\n",
    "        action = self.epsilon_greedy(state)\n",
    "        self.update_tau(state, action)\n",
    "        self.update_state(state, action)\n",
    "        # before performing the action, save the current state and action\n",
    "        self.past_state = state\n",
    "        self.past_action = action\n",
    "\n",
    "        return self.past_action"
   ]
  },
  {
   "cell_type": "code",
   "execution_count": 22,
   "metadata": {},
   "outputs": [
    {
     "name": "stderr",
     "output_type": "stream",
     "text": [
      " 25%|██▍       | 99/401 [00:09<00:21, 14.11it/s]"
     ]
    },
    {
     "data": {
      "application/vnd.plotly.v1+json": {
       "config": {
        "plotlyServerURL": "https://plot.ly"
       },
       "data": [
        {
         "colorbar": {
          "len": 0.473,
          "x": 0.45,
          "y": 0.78
         },
         "colorscale": [
          [
           0,
           "#440154"
          ],
          [
           0.1111111111111111,
           "#482878"
          ],
          [
           0.2222222222222222,
           "#3e4989"
          ],
          [
           0.3333333333333333,
           "#31688e"
          ],
          [
           0.4444444444444444,
           "#26828e"
          ],
          [
           0.5555555555555556,
           "#1f9e89"
          ],
          [
           0.6666666666666666,
           "#35b779"
          ],
          [
           0.7777777777777778,
           "#6ece58"
          ],
          [
           0.8888888888888888,
           "#b5de2b"
          ],
          [
           1,
           "#fde725"
          ]
         ],
         "type": "heatmap",
         "x": [
          "0",
          "1",
          "2",
          "3",
          "4",
          "5",
          "6",
          "7",
          "8",
          "9",
          "10",
          "11"
         ],
         "xaxis": "x",
         "y": [
          "7",
          "6",
          "5",
          "4",
          "3",
          "2",
          "1",
          "0"
         ],
         "yaxis": "y",
         "z": [
          [
           0.15009377896785736,
           0.16677092015743256,
           0.18530108034610748,
           0,
           0.28242844343185425,
           0.31380951404571533,
           0.4304661154747009,
           0.47829580307006836,
           0.5314399003982544,
           0.5904890298843384,
           0.6560991406440735,
           0.5904890298843384
          ],
          [
           0.16677092015743256,
           0.18530108034610748,
           0.20589014887809753,
           0,
           0.31380951404571533,
           0.3486773669719696,
           0.3874194025993347,
           0.4304661154747009,
           0.5904890298843384,
           0.6560991406440735,
           0,
           0.6560991406440735
          ],
          [
           0.18530108034610748,
           0.20589014887809753,
           0.22876688838005066,
           0,
           0.3486773669719696,
           0.3874194025993347,
           0.4304661154747009,
           0.47829580307006836,
           0.5314399003982544,
           0.47829580307006836,
           0,
           0
          ],
          [
           0.20589014887809753,
           0.22876688838005066,
           0.2541854977607727,
           0.28242844343185425,
           0.31380951404571533,
           0.3486773669719696,
           0.3874194025993347,
           0.4304661154747009,
           0,
           0,
           0,
           0
          ],
          [
           0,
           0,
           0,
           0.2541854977607727,
           0.28242844343185425,
           0.31380951404571533,
           0.3486773669719696,
           0.3874194025993347,
           0,
           0,
           0,
           0
          ],
          [
           0,
           0.15009377896785736,
           0.20589014887809753,
           0.22876688838005066,
           0.2541854977607727,
           0,
           0,
           0,
           0,
           0,
           0.9999997615814209,
           0.8999995589256287
          ],
          [
           0.15009377896785736,
           0.16677092015743256,
           0.18530108034610748,
           0.16677092015743256,
           0,
           0,
           0,
           0,
           0,
           0.9999997615814209,
           0.8999995589256287,
           0.809999406337738
          ],
          [
           0.1350843459367752,
           0.15009377896785736,
           0.16677092015743256,
           0.15009377896785736,
           0,
           0,
           0,
           0,
           0,
           0.8999995589256287,
           0.809999406337738,
           0.7289992570877075
          ]
         ]
        },
        {
         "colorbar": {
          "len": 0.473,
          "x": 1,
          "y": 0.78
         },
         "colorscale": [
          [
           0,
           "#440154"
          ],
          [
           0.1111111111111111,
           "#482878"
          ],
          [
           0.2222222222222222,
           "#3e4989"
          ],
          [
           0.3333333333333333,
           "#31688e"
          ],
          [
           0.4444444444444444,
           "#26828e"
          ],
          [
           0.5555555555555556,
           "#1f9e89"
          ],
          [
           0.6666666666666666,
           "#35b779"
          ],
          [
           0.7777777777777778,
           "#6ece58"
          ],
          [
           0.8888888888888888,
           "#b5de2b"
          ],
          [
           1,
           "#fde725"
          ]
         ],
         "type": "heatmap",
         "x": [
          "0",
          "1",
          "2",
          "3",
          "4",
          "5",
          "6",
          "7",
          "8",
          "9",
          "10",
          "11"
         ],
         "xaxis": "x2",
         "y": [
          "7",
          "6",
          "5",
          "4",
          "3",
          "2",
          "1",
          "0"
         ],
         "yaxis": "y2",
         "z": [
          [
           119,
           115,
           105,
           0,
           21,
           25,
           15,
           47,
           31,
           53,
           51,
           7
          ],
          [
           137,
           240,
           225,
           0,
           25,
           35,
           33,
           35,
           199,
           195,
           0,
           3
          ],
          [
           101,
           189,
           243,
           0,
           87,
           119,
           215,
           221,
           203,
           13,
           0,
           0
          ],
          [
           79,
           127,
           279,
           239,
           227,
           157,
           121,
           19,
           1,
           3,
           5,
           0
          ],
          [
           0,
           0,
           0,
           39,
           17,
           3,
           9,
           8,
           1,
           0,
           3,
           0
          ],
          [
           0,
           3,
           5,
           15,
           1,
           0,
           0,
           0,
           0,
           95,
           216,
           45
          ],
          [
           3,
           3,
           5,
           1,
           0,
           0,
           0,
           0,
           2,
           88,
           169,
           39
          ],
          [
           13,
           11,
           13,
           1,
           0,
           0,
           0,
           0,
           0,
           3,
           175,
           227
          ]
         ]
        },
        {
         "marker": {
          "color": [
           "#636EFA",
           "#636EFA",
           "#636EFA",
           "#636EFA",
           "#636EFA",
           "#636EFA",
           "#636EFA",
           "#636EFA",
           "#636EFA",
           "#636EFA",
           "#636EFA",
           "#636EFA",
           "#636EFA",
           "#636EFA",
           "#636EFA",
           "#636EFA",
           "#636EFA",
           "#EF553B",
           "#636EFA",
           "#636EFA",
           "#636EFA",
           "#636EFA",
           "#636EFA",
           "#636EFA",
           "#636EFA",
           "#636EFA",
           "#636EFA",
           "#EF553B",
           "#636EFA",
           "#EF553B",
           "#636EFA",
           "#EF553B",
           "#636EFA",
           "#636EFA",
           "#636EFA",
           "#636EFA",
           "#EF553B",
           "#636EFA",
           "#636EFA",
           "#636EFA",
           "#EF553B",
           "#636EFA",
           "#EF553B",
           "#EF553B",
           "#636EFA",
           "#EF553B",
           "#636EFA",
           "#636EFA",
           "#EF553B",
           "#EF553B",
           "#EF553B",
           "#636EFA",
           "#636EFA",
           "#EF553B",
           "#EF553B",
           "#EF553B",
           "#636EFA",
           "#636EFA",
           "#636EFA",
           "#636EFA",
           "#EF553B",
           "#636EFA",
           "#EF553B",
           "#EF553B",
           "#636EFA",
           "#EF553B",
           "#636EFA",
           "#EF553B",
           "#EF553B",
           "#EF553B",
           "#636EFA",
           "#636EFA",
           "#636EFA",
           "#636EFA",
           "#636EFA",
           "#636EFA",
           "#636EFA",
           "#636EFA",
           "#EF553B",
           "#636EFA",
           "#636EFA",
           "#636EFA",
           "#EF553B",
           "#636EFA",
           "#636EFA",
           "#636EFA",
           "#636EFA",
           "#EF553B",
           "#636EFA",
           "#636EFA",
           "#636EFA",
           "#636EFA",
           "#636EFA",
           "#EF553B",
           "#EF553B",
           "#636EFA",
           "#636EFA",
           "#EF553B",
           "#636EFA",
           "#EF553B",
           "#EF553B"
          ]
         },
         "type": "bar",
         "xaxis": "x3",
         "y": [
          229,
          593,
          45,
          19,
          23,
          25,
          23,
          19,
          21,
          23,
          22,
          19,
          16,
          19,
          21,
          21,
          19,
          17,
          23,
          19,
          19,
          19,
          24,
          21,
          23,
          19,
          19,
          17,
          21,
          17,
          21,
          17,
          19,
          19,
          19,
          19,
          17,
          21,
          25,
          19,
          17,
          21,
          17,
          17,
          19,
          17,
          21,
          21,
          17,
          17,
          17,
          19,
          21,
          17,
          17,
          17,
          21,
          20,
          19,
          25,
          17,
          23,
          17,
          17,
          16,
          17,
          22,
          17,
          17,
          17,
          19,
          19,
          19,
          21,
          21,
          21,
          21,
          20,
          17,
          18,
          27,
          19,
          17,
          21,
          19,
          19,
          21,
          17,
          21,
          20,
          20,
          19,
          21,
          17,
          17,
          20,
          18,
          17,
          23,
          17,
          17
         ],
         "yaxis": "y3"
        }
       ],
       "layout": {
        "annotations": [
         {
          "font": {
           "size": 16
          },
          "showarrow": false,
          "text": "State value function",
          "x": 0.225,
          "xanchor": "center",
          "xref": "paper",
          "y": 1,
          "yanchor": "bottom",
          "yref": "paper"
         },
         {
          "font": {
           "size": 16
          },
          "showarrow": false,
          "text": "Number of total visits",
          "x": 0.775,
          "xanchor": "center",
          "xref": "paper",
          "y": 1,
          "yanchor": "bottom",
          "yref": "paper"
         },
         {
          "font": {
           "size": 16
          },
          "showarrow": false,
          "text": "Number of steps per episode",
          "x": 0.5,
          "xanchor": "center",
          "xref": "paper",
          "y": 0.435,
          "yanchor": "bottom",
          "yref": "paper"
         }
        ],
        "height": 900,
        "template": {
         "data": {
          "bar": [
           {
            "error_x": {
             "color": "#2a3f5f"
            },
            "error_y": {
             "color": "#2a3f5f"
            },
            "marker": {
             "line": {
              "color": "#E5ECF6",
              "width": 0.5
             },
             "pattern": {
              "fillmode": "overlay",
              "size": 10,
              "solidity": 0.2
             }
            },
            "type": "bar"
           }
          ],
          "barpolar": [
           {
            "marker": {
             "line": {
              "color": "#E5ECF6",
              "width": 0.5
             },
             "pattern": {
              "fillmode": "overlay",
              "size": 10,
              "solidity": 0.2
             }
            },
            "type": "barpolar"
           }
          ],
          "carpet": [
           {
            "aaxis": {
             "endlinecolor": "#2a3f5f",
             "gridcolor": "white",
             "linecolor": "white",
             "minorgridcolor": "white",
             "startlinecolor": "#2a3f5f"
            },
            "baxis": {
             "endlinecolor": "#2a3f5f",
             "gridcolor": "white",
             "linecolor": "white",
             "minorgridcolor": "white",
             "startlinecolor": "#2a3f5f"
            },
            "type": "carpet"
           }
          ],
          "choropleth": [
           {
            "colorbar": {
             "outlinewidth": 0,
             "ticks": ""
            },
            "type": "choropleth"
           }
          ],
          "contour": [
           {
            "colorbar": {
             "outlinewidth": 0,
             "ticks": ""
            },
            "colorscale": [
             [
              0,
              "#0d0887"
             ],
             [
              0.1111111111111111,
              "#46039f"
             ],
             [
              0.2222222222222222,
              "#7201a8"
             ],
             [
              0.3333333333333333,
              "#9c179e"
             ],
             [
              0.4444444444444444,
              "#bd3786"
             ],
             [
              0.5555555555555556,
              "#d8576b"
             ],
             [
              0.6666666666666666,
              "#ed7953"
             ],
             [
              0.7777777777777778,
              "#fb9f3a"
             ],
             [
              0.8888888888888888,
              "#fdca26"
             ],
             [
              1,
              "#f0f921"
             ]
            ],
            "type": "contour"
           }
          ],
          "contourcarpet": [
           {
            "colorbar": {
             "outlinewidth": 0,
             "ticks": ""
            },
            "type": "contourcarpet"
           }
          ],
          "heatmap": [
           {
            "colorbar": {
             "outlinewidth": 0,
             "ticks": ""
            },
            "colorscale": [
             [
              0,
              "#0d0887"
             ],
             [
              0.1111111111111111,
              "#46039f"
             ],
             [
              0.2222222222222222,
              "#7201a8"
             ],
             [
              0.3333333333333333,
              "#9c179e"
             ],
             [
              0.4444444444444444,
              "#bd3786"
             ],
             [
              0.5555555555555556,
              "#d8576b"
             ],
             [
              0.6666666666666666,
              "#ed7953"
             ],
             [
              0.7777777777777778,
              "#fb9f3a"
             ],
             [
              0.8888888888888888,
              "#fdca26"
             ],
             [
              1,
              "#f0f921"
             ]
            ],
            "type": "heatmap"
           }
          ],
          "heatmapgl": [
           {
            "colorbar": {
             "outlinewidth": 0,
             "ticks": ""
            },
            "colorscale": [
             [
              0,
              "#0d0887"
             ],
             [
              0.1111111111111111,
              "#46039f"
             ],
             [
              0.2222222222222222,
              "#7201a8"
             ],
             [
              0.3333333333333333,
              "#9c179e"
             ],
             [
              0.4444444444444444,
              "#bd3786"
             ],
             [
              0.5555555555555556,
              "#d8576b"
             ],
             [
              0.6666666666666666,
              "#ed7953"
             ],
             [
              0.7777777777777778,
              "#fb9f3a"
             ],
             [
              0.8888888888888888,
              "#fdca26"
             ],
             [
              1,
              "#f0f921"
             ]
            ],
            "type": "heatmapgl"
           }
          ],
          "histogram": [
           {
            "marker": {
             "pattern": {
              "fillmode": "overlay",
              "size": 10,
              "solidity": 0.2
             }
            },
            "type": "histogram"
           }
          ],
          "histogram2d": [
           {
            "colorbar": {
             "outlinewidth": 0,
             "ticks": ""
            },
            "colorscale": [
             [
              0,
              "#0d0887"
             ],
             [
              0.1111111111111111,
              "#46039f"
             ],
             [
              0.2222222222222222,
              "#7201a8"
             ],
             [
              0.3333333333333333,
              "#9c179e"
             ],
             [
              0.4444444444444444,
              "#bd3786"
             ],
             [
              0.5555555555555556,
              "#d8576b"
             ],
             [
              0.6666666666666666,
              "#ed7953"
             ],
             [
              0.7777777777777778,
              "#fb9f3a"
             ],
             [
              0.8888888888888888,
              "#fdca26"
             ],
             [
              1,
              "#f0f921"
             ]
            ],
            "type": "histogram2d"
           }
          ],
          "histogram2dcontour": [
           {
            "colorbar": {
             "outlinewidth": 0,
             "ticks": ""
            },
            "colorscale": [
             [
              0,
              "#0d0887"
             ],
             [
              0.1111111111111111,
              "#46039f"
             ],
             [
              0.2222222222222222,
              "#7201a8"
             ],
             [
              0.3333333333333333,
              "#9c179e"
             ],
             [
              0.4444444444444444,
              "#bd3786"
             ],
             [
              0.5555555555555556,
              "#d8576b"
             ],
             [
              0.6666666666666666,
              "#ed7953"
             ],
             [
              0.7777777777777778,
              "#fb9f3a"
             ],
             [
              0.8888888888888888,
              "#fdca26"
             ],
             [
              1,
              "#f0f921"
             ]
            ],
            "type": "histogram2dcontour"
           }
          ],
          "mesh3d": [
           {
            "colorbar": {
             "outlinewidth": 0,
             "ticks": ""
            },
            "type": "mesh3d"
           }
          ],
          "parcoords": [
           {
            "line": {
             "colorbar": {
              "outlinewidth": 0,
              "ticks": ""
             }
            },
            "type": "parcoords"
           }
          ],
          "pie": [
           {
            "automargin": true,
            "type": "pie"
           }
          ],
          "scatter": [
           {
            "fillpattern": {
             "fillmode": "overlay",
             "size": 10,
             "solidity": 0.2
            },
            "type": "scatter"
           }
          ],
          "scatter3d": [
           {
            "line": {
             "colorbar": {
              "outlinewidth": 0,
              "ticks": ""
             }
            },
            "marker": {
             "colorbar": {
              "outlinewidth": 0,
              "ticks": ""
             }
            },
            "type": "scatter3d"
           }
          ],
          "scattercarpet": [
           {
            "marker": {
             "colorbar": {
              "outlinewidth": 0,
              "ticks": ""
             }
            },
            "type": "scattercarpet"
           }
          ],
          "scattergeo": [
           {
            "marker": {
             "colorbar": {
              "outlinewidth": 0,
              "ticks": ""
             }
            },
            "type": "scattergeo"
           }
          ],
          "scattergl": [
           {
            "marker": {
             "colorbar": {
              "outlinewidth": 0,
              "ticks": ""
             }
            },
            "type": "scattergl"
           }
          ],
          "scattermapbox": [
           {
            "marker": {
             "colorbar": {
              "outlinewidth": 0,
              "ticks": ""
             }
            },
            "type": "scattermapbox"
           }
          ],
          "scatterpolar": [
           {
            "marker": {
             "colorbar": {
              "outlinewidth": 0,
              "ticks": ""
             }
            },
            "type": "scatterpolar"
           }
          ],
          "scatterpolargl": [
           {
            "marker": {
             "colorbar": {
              "outlinewidth": 0,
              "ticks": ""
             }
            },
            "type": "scatterpolargl"
           }
          ],
          "scatterternary": [
           {
            "marker": {
             "colorbar": {
              "outlinewidth": 0,
              "ticks": ""
             }
            },
            "type": "scatterternary"
           }
          ],
          "surface": [
           {
            "colorbar": {
             "outlinewidth": 0,
             "ticks": ""
            },
            "colorscale": [
             [
              0,
              "#0d0887"
             ],
             [
              0.1111111111111111,
              "#46039f"
             ],
             [
              0.2222222222222222,
              "#7201a8"
             ],
             [
              0.3333333333333333,
              "#9c179e"
             ],
             [
              0.4444444444444444,
              "#bd3786"
             ],
             [
              0.5555555555555556,
              "#d8576b"
             ],
             [
              0.6666666666666666,
              "#ed7953"
             ],
             [
              0.7777777777777778,
              "#fb9f3a"
             ],
             [
              0.8888888888888888,
              "#fdca26"
             ],
             [
              1,
              "#f0f921"
             ]
            ],
            "type": "surface"
           }
          ],
          "table": [
           {
            "cells": {
             "fill": {
              "color": "#EBF0F8"
             },
             "line": {
              "color": "white"
             }
            },
            "header": {
             "fill": {
              "color": "#C8D4E3"
             },
             "line": {
              "color": "white"
             }
            },
            "type": "table"
           }
          ]
         },
         "layout": {
          "annotationdefaults": {
           "arrowcolor": "#2a3f5f",
           "arrowhead": 0,
           "arrowwidth": 1
          },
          "autotypenumbers": "strict",
          "coloraxis": {
           "colorbar": {
            "outlinewidth": 0,
            "ticks": ""
           }
          },
          "colorscale": {
           "diverging": [
            [
             0,
             "#8e0152"
            ],
            [
             0.1,
             "#c51b7d"
            ],
            [
             0.2,
             "#de77ae"
            ],
            [
             0.3,
             "#f1b6da"
            ],
            [
             0.4,
             "#fde0ef"
            ],
            [
             0.5,
             "#f7f7f7"
            ],
            [
             0.6,
             "#e6f5d0"
            ],
            [
             0.7,
             "#b8e186"
            ],
            [
             0.8,
             "#7fbc41"
            ],
            [
             0.9,
             "#4d9221"
            ],
            [
             1,
             "#276419"
            ]
           ],
           "sequential": [
            [
             0,
             "#0d0887"
            ],
            [
             0.1111111111111111,
             "#46039f"
            ],
            [
             0.2222222222222222,
             "#7201a8"
            ],
            [
             0.3333333333333333,
             "#9c179e"
            ],
            [
             0.4444444444444444,
             "#bd3786"
            ],
            [
             0.5555555555555556,
             "#d8576b"
            ],
            [
             0.6666666666666666,
             "#ed7953"
            ],
            [
             0.7777777777777778,
             "#fb9f3a"
            ],
            [
             0.8888888888888888,
             "#fdca26"
            ],
            [
             1,
             "#f0f921"
            ]
           ],
           "sequentialminus": [
            [
             0,
             "#0d0887"
            ],
            [
             0.1111111111111111,
             "#46039f"
            ],
            [
             0.2222222222222222,
             "#7201a8"
            ],
            [
             0.3333333333333333,
             "#9c179e"
            ],
            [
             0.4444444444444444,
             "#bd3786"
            ],
            [
             0.5555555555555556,
             "#d8576b"
            ],
            [
             0.6666666666666666,
             "#ed7953"
            ],
            [
             0.7777777777777778,
             "#fb9f3a"
            ],
            [
             0.8888888888888888,
             "#fdca26"
            ],
            [
             1,
             "#f0f921"
            ]
           ]
          },
          "colorway": [
           "#636efa",
           "#EF553B",
           "#00cc96",
           "#ab63fa",
           "#FFA15A",
           "#19d3f3",
           "#FF6692",
           "#B6E880",
           "#FF97FF",
           "#FECB52"
          ],
          "font": {
           "color": "#2a3f5f"
          },
          "geo": {
           "bgcolor": "white",
           "lakecolor": "white",
           "landcolor": "#E5ECF6",
           "showlakes": true,
           "showland": true,
           "subunitcolor": "white"
          },
          "hoverlabel": {
           "align": "left"
          },
          "hovermode": "closest",
          "mapbox": {
           "style": "light"
          },
          "paper_bgcolor": "white",
          "plot_bgcolor": "#E5ECF6",
          "polar": {
           "angularaxis": {
            "gridcolor": "white",
            "linecolor": "white",
            "ticks": ""
           },
           "bgcolor": "#E5ECF6",
           "radialaxis": {
            "gridcolor": "white",
            "linecolor": "white",
            "ticks": ""
           }
          },
          "scene": {
           "xaxis": {
            "backgroundcolor": "#E5ECF6",
            "gridcolor": "white",
            "gridwidth": 2,
            "linecolor": "white",
            "showbackground": true,
            "ticks": "",
            "zerolinecolor": "white"
           },
           "yaxis": {
            "backgroundcolor": "#E5ECF6",
            "gridcolor": "white",
            "gridwidth": 2,
            "linecolor": "white",
            "showbackground": true,
            "ticks": "",
            "zerolinecolor": "white"
           },
           "zaxis": {
            "backgroundcolor": "#E5ECF6",
            "gridcolor": "white",
            "gridwidth": 2,
            "linecolor": "white",
            "showbackground": true,
            "ticks": "",
            "zerolinecolor": "white"
           }
          },
          "shapedefaults": {
           "line": {
            "color": "#2a3f5f"
           }
          },
          "ternary": {
           "aaxis": {
            "gridcolor": "white",
            "linecolor": "white",
            "ticks": ""
           },
           "baxis": {
            "gridcolor": "white",
            "linecolor": "white",
            "ticks": ""
           },
           "bgcolor": "#E5ECF6",
           "caxis": {
            "gridcolor": "white",
            "linecolor": "white",
            "ticks": ""
           }
          },
          "title": {
           "x": 0.05
          },
          "xaxis": {
           "automargin": true,
           "gridcolor": "white",
           "linecolor": "white",
           "ticks": "",
           "title": {
            "standoff": 15
           },
           "zerolinecolor": "white",
           "zerolinewidth": 2
          },
          "yaxis": {
           "automargin": true,
           "gridcolor": "white",
           "linecolor": "white",
           "ticks": "",
           "title": {
            "standoff": 15
           },
           "zerolinecolor": "white",
           "zerolinewidth": 2
          }
         }
        },
        "title": {
         "text": "Agent: Dyna Q, Number of episodes: 101<br>        <span style='font-size: 13px'>Model parameters: [learning rate: 0.125, epsilon: 0.1, discount: 0.9]</span>"
        },
        "width": 1200,
        "xaxis": {
         "anchor": "y",
         "domain": [
          0,
          0.45
         ]
        },
        "xaxis2": {
         "anchor": "y2",
         "domain": [
          0.55,
          1
         ]
        },
        "xaxis3": {
         "anchor": "y3",
         "domain": [
          0,
          1
         ]
        },
        "yaxis": {
         "anchor": "x",
         "domain": [
          0.565,
          1
         ]
        },
        "yaxis2": {
         "anchor": "x2",
         "domain": [
          0.565,
          1
         ]
        },
        "yaxis3": {
         "anchor": "x3",
         "domain": [
          0,
          0.435
         ]
        }
       }
      }
     },
     "metadata": {},
     "output_type": "display_data"
    },
    {
     "name": "stderr",
     "output_type": "stream",
     "text": [
      " 62%|██████▏   | 249/401 [00:20<00:10, 14.43it/s]"
     ]
    },
    {
     "data": {
      "application/vnd.plotly.v1+json": {
       "config": {
        "plotlyServerURL": "https://plot.ly"
       },
       "data": [
        {
         "colorbar": {
          "len": 0.473,
          "x": 0.45,
          "y": 0.78
         },
         "colorscale": [
          [
           0,
           "#440154"
          ],
          [
           0.1111111111111111,
           "#482878"
          ],
          [
           0.2222222222222222,
           "#3e4989"
          ],
          [
           0.3333333333333333,
           "#31688e"
          ],
          [
           0.4444444444444444,
           "#26828e"
          ],
          [
           0.5555555555555556,
           "#1f9e89"
          ],
          [
           0.6666666666666666,
           "#35b779"
          ],
          [
           0.7777777777777778,
           "#6ece58"
          ],
          [
           0.8888888888888888,
           "#b5de2b"
          ],
          [
           1,
           "#fde725"
          ]
         ],
         "type": "heatmap",
         "x": [
          "0",
          "1",
          "2",
          "3",
          "4",
          "5",
          "6",
          "7",
          "8",
          "9",
          "10",
          "11"
         ],
         "xaxis": "x",
         "y": [
          "7",
          "6",
          "5",
          "4",
          "3",
          "2",
          "1",
          "0"
         ],
         "yaxis": "y",
         "z": [
          [
           0.15009377896785736,
           0.16677092015743256,
           0.18530108034610748,
           0,
           0.28242844343185425,
           0.31380951404571533,
           0.4304661154747009,
           0.47829580307006836,
           0.5314399003982544,
           0.5904890298843384,
           0.6560991406440735,
           0.5904890298843384
          ],
          [
           0.16677092015743256,
           0.18530108034610748,
           0.20589014887809753,
           0,
           0.31380951404571533,
           0.3486773669719696,
           0.3874194025993347,
           0.4304661154747009,
           0.5904890298843384,
           0.6560991406440735,
           0,
           0.6560991406440735
          ],
          [
           0.18530108034610748,
           0.20589014887809753,
           0.22876688838005066,
           0,
           0.3486773669719696,
           0.3874194025993347,
           0.4304661154747009,
           0.47829580307006836,
           0.5314399003982544,
           0.47829580307006836,
           0,
           0
          ],
          [
           0.20589014887809753,
           0.22876688838005066,
           0.2541854977607727,
           0.28242844343185425,
           0.31380951404571533,
           0.3486773669719696,
           0.3874194025993347,
           0.4304661154747009,
           0.47829580307006836,
           0,
           0,
           0
          ],
          [
           0,
           0,
           0,
           0.2541854977607727,
           0.28242844343185425,
           0.31380951404571533,
           0.3486773669719696,
           0.3874194025993347,
           0,
           0,
           0,
           0
          ],
          [
           0,
           0.15009377896785736,
           0.20589014887809753,
           0.22876688838005066,
           0.2541854977607727,
           0,
           0,
           0,
           0,
           0,
           0.9999997615814209,
           0.8999995589256287
          ],
          [
           0.15009377896785736,
           0.16677092015743256,
           0.18530108034610748,
           0.16677092015743256,
           0,
           0,
           0,
           0,
           0,
           0.9999997615814209,
           0.8999995589256287,
           0.809999406337738
          ],
          [
           0.1350843459367752,
           0.15009377896785736,
           0.16677092015743256,
           0.15009377896785736,
           0,
           0,
           0,
           0,
           0,
           0.8999995589256287,
           0.809999406337738,
           0.7289992570877075
          ]
         ]
        },
        {
         "colorbar": {
          "len": 0.473,
          "x": 1,
          "y": 0.78
         },
         "colorscale": [
          [
           0,
           "#440154"
          ],
          [
           0.1111111111111111,
           "#482878"
          ],
          [
           0.2222222222222222,
           "#3e4989"
          ],
          [
           0.3333333333333333,
           "#31688e"
          ],
          [
           0.4444444444444444,
           "#26828e"
          ],
          [
           0.5555555555555556,
           "#1f9e89"
          ],
          [
           0.6666666666666666,
           "#35b779"
          ],
          [
           0.7777777777777778,
           "#6ece58"
          ],
          [
           0.8888888888888888,
           "#b5de2b"
          ],
          [
           1,
           "#fde725"
          ]
         ],
         "type": "heatmap",
         "x": [
          "0",
          "1",
          "2",
          "3",
          "4",
          "5",
          "6",
          "7",
          "8",
          "9",
          "10",
          "11"
         ],
         "xaxis": "x2",
         "y": [
          "7",
          "6",
          "5",
          "4",
          "3",
          "2",
          "1",
          "0"
         ],
         "yaxis": "y2",
         "z": [
          [
           119,
           127,
           115,
           0,
           21,
           25,
           19,
           63,
           51,
           63,
           57,
           7
          ],
          [
           141,
           404,
           393,
           0,
           29,
           43,
           45,
           55,
           531,
           509,
           0,
           3
          ],
          [
           115,
           335,
           493,
           0,
           249,
           373,
           509,
           547,
           549,
           31,
           0,
           0
          ],
          [
           85,
           201,
           611,
           557,
           539,
           313,
           193,
           57,
           21,
           3,
           5,
           0
          ],
          [
           0,
           0,
           0,
           51,
           31,
           3,
           11,
           10,
           1,
           0,
           5,
           2
          ],
          [
           0,
           3,
           5,
           15,
           1,
           0,
           0,
           0,
           0,
           239,
           514,
           217
          ],
          [
           3,
           3,
           5,
           1,
           0,
           0,
           0,
           0,
           4,
           250,
           239,
           217
          ],
          [
           13,
           11,
           13,
           1,
           0,
           0,
           0,
           0,
           0,
           91,
           315,
           555
          ]
         ]
        },
        {
         "marker": {
          "color": [
           "#636EFA",
           "#636EFA",
           "#636EFA",
           "#636EFA",
           "#636EFA",
           "#636EFA",
           "#636EFA",
           "#636EFA",
           "#636EFA",
           "#636EFA",
           "#636EFA",
           "#636EFA",
           "#636EFA",
           "#636EFA",
           "#636EFA",
           "#636EFA",
           "#636EFA",
           "#EF553B",
           "#636EFA",
           "#636EFA",
           "#636EFA",
           "#636EFA",
           "#636EFA",
           "#636EFA",
           "#636EFA",
           "#636EFA",
           "#636EFA",
           "#EF553B",
           "#636EFA",
           "#EF553B",
           "#636EFA",
           "#EF553B",
           "#636EFA",
           "#636EFA",
           "#636EFA",
           "#636EFA",
           "#EF553B",
           "#636EFA",
           "#636EFA",
           "#636EFA",
           "#EF553B",
           "#636EFA",
           "#EF553B",
           "#EF553B",
           "#636EFA",
           "#EF553B",
           "#636EFA",
           "#636EFA",
           "#EF553B",
           "#EF553B",
           "#EF553B",
           "#636EFA",
           "#636EFA",
           "#EF553B",
           "#EF553B",
           "#EF553B",
           "#636EFA",
           "#636EFA",
           "#636EFA",
           "#636EFA",
           "#EF553B",
           "#636EFA",
           "#EF553B",
           "#EF553B",
           "#636EFA",
           "#EF553B",
           "#636EFA",
           "#EF553B",
           "#EF553B",
           "#EF553B",
           "#636EFA",
           "#636EFA",
           "#636EFA",
           "#636EFA",
           "#636EFA",
           "#636EFA",
           "#636EFA",
           "#636EFA",
           "#EF553B",
           "#636EFA",
           "#636EFA",
           "#636EFA",
           "#EF553B",
           "#636EFA",
           "#636EFA",
           "#636EFA",
           "#636EFA",
           "#EF553B",
           "#636EFA",
           "#636EFA",
           "#636EFA",
           "#636EFA",
           "#636EFA",
           "#EF553B",
           "#EF553B",
           "#636EFA",
           "#636EFA",
           "#EF553B",
           "#636EFA",
           "#EF553B",
           "#EF553B",
           "#EF553B",
           "#EF553B",
           "#636EFA",
           "#636EFA",
           "#636EFA",
           "#636EFA",
           "#636EFA",
           "#636EFA",
           "#636EFA",
           "#EF553B",
           "#EF553B",
           "#636EFA",
           "#636EFA",
           "#636EFA",
           "#EF553B",
           "#636EFA",
           "#636EFA",
           "#636EFA",
           "#EF553B",
           "#636EFA",
           "#636EFA",
           "#636EFA",
           "#EF553B",
           "#EF553B",
           "#636EFA",
           "#EF553B",
           "#636EFA",
           "#EF553B",
           "#636EFA",
           "#636EFA",
           "#636EFA",
           "#636EFA",
           "#636EFA",
           "#636EFA",
           "#EF553B",
           "#636EFA",
           "#636EFA",
           "#636EFA",
           "#636EFA",
           "#636EFA",
           "#EF553B",
           "#EF553B",
           "#636EFA",
           "#636EFA",
           "#636EFA",
           "#EF553B",
           "#EF553B",
           "#636EFA",
           "#636EFA",
           "#636EFA",
           "#636EFA",
           "#636EFA",
           "#636EFA",
           "#EF553B",
           "#636EFA",
           "#EF553B",
           "#636EFA",
           "#636EFA",
           "#636EFA",
           "#EF553B",
           "#636EFA",
           "#636EFA",
           "#EF553B",
           "#636EFA",
           "#636EFA",
           "#636EFA",
           "#636EFA",
           "#636EFA",
           "#EF553B",
           "#636EFA",
           "#EF553B",
           "#636EFA",
           "#636EFA",
           "#636EFA",
           "#636EFA",
           "#636EFA",
           "#EF553B",
           "#EF553B",
           "#636EFA",
           "#EF553B",
           "#636EFA",
           "#636EFA",
           "#EF553B",
           "#636EFA",
           "#636EFA",
           "#636EFA",
           "#636EFA",
           "#636EFA",
           "#EF553B",
           "#636EFA",
           "#EF553B",
           "#EF553B",
           "#636EFA",
           "#EF553B",
           "#636EFA",
           "#636EFA",
           "#EF553B",
           "#EF553B",
           "#636EFA",
           "#EF553B",
           "#EF553B",
           "#636EFA",
           "#636EFA",
           "#636EFA",
           "#636EFA",
           "#636EFA",
           "#EF553B",
           "#EF553B",
           "#636EFA",
           "#EF553B",
           "#EF553B",
           "#636EFA",
           "#636EFA",
           "#636EFA",
           "#EF553B",
           "#EF553B",
           "#636EFA",
           "#636EFA",
           "#636EFA",
           "#EF553B",
           "#636EFA",
           "#EF553B",
           "#636EFA",
           "#EF553B",
           "#636EFA",
           "#636EFA",
           "#636EFA",
           "#636EFA",
           "#EF553B",
           "#636EFA",
           "#EF553B",
           "#636EFA",
           "#EF553B",
           "#636EFA",
           "#636EFA",
           "#636EFA",
           "#636EFA",
           "#636EFA",
           "#636EFA",
           "#EF553B",
           "#EF553B",
           "#636EFA",
           "#636EFA",
           "#636EFA",
           "#EF553B",
           "#636EFA",
           "#EF553B",
           "#636EFA",
           "#EF553B",
           "#636EFA"
          ]
         },
         "type": "bar",
         "xaxis": "x3",
         "y": [
          229,
          593,
          45,
          19,
          23,
          25,
          23,
          19,
          21,
          23,
          22,
          19,
          16,
          19,
          21,
          21,
          19,
          17,
          23,
          19,
          19,
          19,
          24,
          21,
          23,
          19,
          19,
          17,
          21,
          17,
          21,
          17,
          19,
          19,
          19,
          19,
          17,
          21,
          25,
          19,
          17,
          21,
          17,
          17,
          19,
          17,
          21,
          21,
          17,
          17,
          17,
          19,
          21,
          17,
          17,
          17,
          21,
          20,
          19,
          25,
          17,
          23,
          17,
          17,
          16,
          17,
          22,
          17,
          17,
          17,
          19,
          19,
          19,
          21,
          21,
          21,
          21,
          20,
          17,
          18,
          27,
          19,
          17,
          21,
          19,
          19,
          21,
          17,
          21,
          20,
          20,
          19,
          21,
          17,
          17,
          20,
          18,
          17,
          23,
          17,
          17,
          17,
          17,
          18,
          21,
          19,
          18,
          19,
          23,
          19,
          17,
          17,
          21,
          18,
          21,
          17,
          22,
          19,
          21,
          17,
          19,
          19,
          19,
          17,
          17,
          19,
          17,
          19,
          17,
          22,
          19,
          18,
          19,
          19,
          19,
          17,
          18,
          19,
          20,
          19,
          21,
          17,
          17,
          19,
          25,
          19,
          17,
          17,
          20,
          21,
          16,
          19,
          21,
          19,
          17,
          19,
          17,
          19,
          23,
          22,
          17,
          19,
          21,
          17,
          19,
          19,
          21,
          19,
          19,
          17,
          19,
          17,
          19,
          19,
          21,
          19,
          19,
          17,
          17,
          19,
          17,
          19,
          21,
          17,
          18,
          21,
          19,
          19,
          24,
          17,
          19,
          17,
          17,
          19,
          17,
          16,
          19,
          17,
          17,
          19,
          17,
          17,
          18,
          19,
          20,
          19,
          19,
          17,
          17,
          21,
          17,
          17,
          19,
          21,
          21,
          17,
          17,
          23,
          25,
          21,
          17,
          19,
          17,
          23,
          17,
          24,
          23,
          19,
          23,
          17,
          19,
          17,
          19,
          17,
          23,
          25,
          19,
          21,
          19,
          20,
          17,
          17,
          21,
          23,
          21,
          17,
          18,
          17,
          21,
          17,
          24
         ],
         "yaxis": "y3"
        }
       ],
       "layout": {
        "annotations": [
         {
          "font": {
           "size": 16
          },
          "showarrow": false,
          "text": "State value function",
          "x": 0.225,
          "xanchor": "center",
          "xref": "paper",
          "y": 1,
          "yanchor": "bottom",
          "yref": "paper"
         },
         {
          "font": {
           "size": 16
          },
          "showarrow": false,
          "text": "Number of total visits",
          "x": 0.775,
          "xanchor": "center",
          "xref": "paper",
          "y": 1,
          "yanchor": "bottom",
          "yref": "paper"
         },
         {
          "font": {
           "size": 16
          },
          "showarrow": false,
          "text": "Number of steps per episode",
          "x": 0.5,
          "xanchor": "center",
          "xref": "paper",
          "y": 0.435,
          "yanchor": "bottom",
          "yref": "paper"
         }
        ],
        "height": 900,
        "template": {
         "data": {
          "bar": [
           {
            "error_x": {
             "color": "#2a3f5f"
            },
            "error_y": {
             "color": "#2a3f5f"
            },
            "marker": {
             "line": {
              "color": "#E5ECF6",
              "width": 0.5
             },
             "pattern": {
              "fillmode": "overlay",
              "size": 10,
              "solidity": 0.2
             }
            },
            "type": "bar"
           }
          ],
          "barpolar": [
           {
            "marker": {
             "line": {
              "color": "#E5ECF6",
              "width": 0.5
             },
             "pattern": {
              "fillmode": "overlay",
              "size": 10,
              "solidity": 0.2
             }
            },
            "type": "barpolar"
           }
          ],
          "carpet": [
           {
            "aaxis": {
             "endlinecolor": "#2a3f5f",
             "gridcolor": "white",
             "linecolor": "white",
             "minorgridcolor": "white",
             "startlinecolor": "#2a3f5f"
            },
            "baxis": {
             "endlinecolor": "#2a3f5f",
             "gridcolor": "white",
             "linecolor": "white",
             "minorgridcolor": "white",
             "startlinecolor": "#2a3f5f"
            },
            "type": "carpet"
           }
          ],
          "choropleth": [
           {
            "colorbar": {
             "outlinewidth": 0,
             "ticks": ""
            },
            "type": "choropleth"
           }
          ],
          "contour": [
           {
            "colorbar": {
             "outlinewidth": 0,
             "ticks": ""
            },
            "colorscale": [
             [
              0,
              "#0d0887"
             ],
             [
              0.1111111111111111,
              "#46039f"
             ],
             [
              0.2222222222222222,
              "#7201a8"
             ],
             [
              0.3333333333333333,
              "#9c179e"
             ],
             [
              0.4444444444444444,
              "#bd3786"
             ],
             [
              0.5555555555555556,
              "#d8576b"
             ],
             [
              0.6666666666666666,
              "#ed7953"
             ],
             [
              0.7777777777777778,
              "#fb9f3a"
             ],
             [
              0.8888888888888888,
              "#fdca26"
             ],
             [
              1,
              "#f0f921"
             ]
            ],
            "type": "contour"
           }
          ],
          "contourcarpet": [
           {
            "colorbar": {
             "outlinewidth": 0,
             "ticks": ""
            },
            "type": "contourcarpet"
           }
          ],
          "heatmap": [
           {
            "colorbar": {
             "outlinewidth": 0,
             "ticks": ""
            },
            "colorscale": [
             [
              0,
              "#0d0887"
             ],
             [
              0.1111111111111111,
              "#46039f"
             ],
             [
              0.2222222222222222,
              "#7201a8"
             ],
             [
              0.3333333333333333,
              "#9c179e"
             ],
             [
              0.4444444444444444,
              "#bd3786"
             ],
             [
              0.5555555555555556,
              "#d8576b"
             ],
             [
              0.6666666666666666,
              "#ed7953"
             ],
             [
              0.7777777777777778,
              "#fb9f3a"
             ],
             [
              0.8888888888888888,
              "#fdca26"
             ],
             [
              1,
              "#f0f921"
             ]
            ],
            "type": "heatmap"
           }
          ],
          "heatmapgl": [
           {
            "colorbar": {
             "outlinewidth": 0,
             "ticks": ""
            },
            "colorscale": [
             [
              0,
              "#0d0887"
             ],
             [
              0.1111111111111111,
              "#46039f"
             ],
             [
              0.2222222222222222,
              "#7201a8"
             ],
             [
              0.3333333333333333,
              "#9c179e"
             ],
             [
              0.4444444444444444,
              "#bd3786"
             ],
             [
              0.5555555555555556,
              "#d8576b"
             ],
             [
              0.6666666666666666,
              "#ed7953"
             ],
             [
              0.7777777777777778,
              "#fb9f3a"
             ],
             [
              0.8888888888888888,
              "#fdca26"
             ],
             [
              1,
              "#f0f921"
             ]
            ],
            "type": "heatmapgl"
           }
          ],
          "histogram": [
           {
            "marker": {
             "pattern": {
              "fillmode": "overlay",
              "size": 10,
              "solidity": 0.2
             }
            },
            "type": "histogram"
           }
          ],
          "histogram2d": [
           {
            "colorbar": {
             "outlinewidth": 0,
             "ticks": ""
            },
            "colorscale": [
             [
              0,
              "#0d0887"
             ],
             [
              0.1111111111111111,
              "#46039f"
             ],
             [
              0.2222222222222222,
              "#7201a8"
             ],
             [
              0.3333333333333333,
              "#9c179e"
             ],
             [
              0.4444444444444444,
              "#bd3786"
             ],
             [
              0.5555555555555556,
              "#d8576b"
             ],
             [
              0.6666666666666666,
              "#ed7953"
             ],
             [
              0.7777777777777778,
              "#fb9f3a"
             ],
             [
              0.8888888888888888,
              "#fdca26"
             ],
             [
              1,
              "#f0f921"
             ]
            ],
            "type": "histogram2d"
           }
          ],
          "histogram2dcontour": [
           {
            "colorbar": {
             "outlinewidth": 0,
             "ticks": ""
            },
            "colorscale": [
             [
              0,
              "#0d0887"
             ],
             [
              0.1111111111111111,
              "#46039f"
             ],
             [
              0.2222222222222222,
              "#7201a8"
             ],
             [
              0.3333333333333333,
              "#9c179e"
             ],
             [
              0.4444444444444444,
              "#bd3786"
             ],
             [
              0.5555555555555556,
              "#d8576b"
             ],
             [
              0.6666666666666666,
              "#ed7953"
             ],
             [
              0.7777777777777778,
              "#fb9f3a"
             ],
             [
              0.8888888888888888,
              "#fdca26"
             ],
             [
              1,
              "#f0f921"
             ]
            ],
            "type": "histogram2dcontour"
           }
          ],
          "mesh3d": [
           {
            "colorbar": {
             "outlinewidth": 0,
             "ticks": ""
            },
            "type": "mesh3d"
           }
          ],
          "parcoords": [
           {
            "line": {
             "colorbar": {
              "outlinewidth": 0,
              "ticks": ""
             }
            },
            "type": "parcoords"
           }
          ],
          "pie": [
           {
            "automargin": true,
            "type": "pie"
           }
          ],
          "scatter": [
           {
            "fillpattern": {
             "fillmode": "overlay",
             "size": 10,
             "solidity": 0.2
            },
            "type": "scatter"
           }
          ],
          "scatter3d": [
           {
            "line": {
             "colorbar": {
              "outlinewidth": 0,
              "ticks": ""
             }
            },
            "marker": {
             "colorbar": {
              "outlinewidth": 0,
              "ticks": ""
             }
            },
            "type": "scatter3d"
           }
          ],
          "scattercarpet": [
           {
            "marker": {
             "colorbar": {
              "outlinewidth": 0,
              "ticks": ""
             }
            },
            "type": "scattercarpet"
           }
          ],
          "scattergeo": [
           {
            "marker": {
             "colorbar": {
              "outlinewidth": 0,
              "ticks": ""
             }
            },
            "type": "scattergeo"
           }
          ],
          "scattergl": [
           {
            "marker": {
             "colorbar": {
              "outlinewidth": 0,
              "ticks": ""
             }
            },
            "type": "scattergl"
           }
          ],
          "scattermapbox": [
           {
            "marker": {
             "colorbar": {
              "outlinewidth": 0,
              "ticks": ""
             }
            },
            "type": "scattermapbox"
           }
          ],
          "scatterpolar": [
           {
            "marker": {
             "colorbar": {
              "outlinewidth": 0,
              "ticks": ""
             }
            },
            "type": "scatterpolar"
           }
          ],
          "scatterpolargl": [
           {
            "marker": {
             "colorbar": {
              "outlinewidth": 0,
              "ticks": ""
             }
            },
            "type": "scatterpolargl"
           }
          ],
          "scatterternary": [
           {
            "marker": {
             "colorbar": {
              "outlinewidth": 0,
              "ticks": ""
             }
            },
            "type": "scatterternary"
           }
          ],
          "surface": [
           {
            "colorbar": {
             "outlinewidth": 0,
             "ticks": ""
            },
            "colorscale": [
             [
              0,
              "#0d0887"
             ],
             [
              0.1111111111111111,
              "#46039f"
             ],
             [
              0.2222222222222222,
              "#7201a8"
             ],
             [
              0.3333333333333333,
              "#9c179e"
             ],
             [
              0.4444444444444444,
              "#bd3786"
             ],
             [
              0.5555555555555556,
              "#d8576b"
             ],
             [
              0.6666666666666666,
              "#ed7953"
             ],
             [
              0.7777777777777778,
              "#fb9f3a"
             ],
             [
              0.8888888888888888,
              "#fdca26"
             ],
             [
              1,
              "#f0f921"
             ]
            ],
            "type": "surface"
           }
          ],
          "table": [
           {
            "cells": {
             "fill": {
              "color": "#EBF0F8"
             },
             "line": {
              "color": "white"
             }
            },
            "header": {
             "fill": {
              "color": "#C8D4E3"
             },
             "line": {
              "color": "white"
             }
            },
            "type": "table"
           }
          ]
         },
         "layout": {
          "annotationdefaults": {
           "arrowcolor": "#2a3f5f",
           "arrowhead": 0,
           "arrowwidth": 1
          },
          "autotypenumbers": "strict",
          "coloraxis": {
           "colorbar": {
            "outlinewidth": 0,
            "ticks": ""
           }
          },
          "colorscale": {
           "diverging": [
            [
             0,
             "#8e0152"
            ],
            [
             0.1,
             "#c51b7d"
            ],
            [
             0.2,
             "#de77ae"
            ],
            [
             0.3,
             "#f1b6da"
            ],
            [
             0.4,
             "#fde0ef"
            ],
            [
             0.5,
             "#f7f7f7"
            ],
            [
             0.6,
             "#e6f5d0"
            ],
            [
             0.7,
             "#b8e186"
            ],
            [
             0.8,
             "#7fbc41"
            ],
            [
             0.9,
             "#4d9221"
            ],
            [
             1,
             "#276419"
            ]
           ],
           "sequential": [
            [
             0,
             "#0d0887"
            ],
            [
             0.1111111111111111,
             "#46039f"
            ],
            [
             0.2222222222222222,
             "#7201a8"
            ],
            [
             0.3333333333333333,
             "#9c179e"
            ],
            [
             0.4444444444444444,
             "#bd3786"
            ],
            [
             0.5555555555555556,
             "#d8576b"
            ],
            [
             0.6666666666666666,
             "#ed7953"
            ],
            [
             0.7777777777777778,
             "#fb9f3a"
            ],
            [
             0.8888888888888888,
             "#fdca26"
            ],
            [
             1,
             "#f0f921"
            ]
           ],
           "sequentialminus": [
            [
             0,
             "#0d0887"
            ],
            [
             0.1111111111111111,
             "#46039f"
            ],
            [
             0.2222222222222222,
             "#7201a8"
            ],
            [
             0.3333333333333333,
             "#9c179e"
            ],
            [
             0.4444444444444444,
             "#bd3786"
            ],
            [
             0.5555555555555556,
             "#d8576b"
            ],
            [
             0.6666666666666666,
             "#ed7953"
            ],
            [
             0.7777777777777778,
             "#fb9f3a"
            ],
            [
             0.8888888888888888,
             "#fdca26"
            ],
            [
             1,
             "#f0f921"
            ]
           ]
          },
          "colorway": [
           "#636efa",
           "#EF553B",
           "#00cc96",
           "#ab63fa",
           "#FFA15A",
           "#19d3f3",
           "#FF6692",
           "#B6E880",
           "#FF97FF",
           "#FECB52"
          ],
          "font": {
           "color": "#2a3f5f"
          },
          "geo": {
           "bgcolor": "white",
           "lakecolor": "white",
           "landcolor": "#E5ECF6",
           "showlakes": true,
           "showland": true,
           "subunitcolor": "white"
          },
          "hoverlabel": {
           "align": "left"
          },
          "hovermode": "closest",
          "mapbox": {
           "style": "light"
          },
          "paper_bgcolor": "white",
          "plot_bgcolor": "#E5ECF6",
          "polar": {
           "angularaxis": {
            "gridcolor": "white",
            "linecolor": "white",
            "ticks": ""
           },
           "bgcolor": "#E5ECF6",
           "radialaxis": {
            "gridcolor": "white",
            "linecolor": "white",
            "ticks": ""
           }
          },
          "scene": {
           "xaxis": {
            "backgroundcolor": "#E5ECF6",
            "gridcolor": "white",
            "gridwidth": 2,
            "linecolor": "white",
            "showbackground": true,
            "ticks": "",
            "zerolinecolor": "white"
           },
           "yaxis": {
            "backgroundcolor": "#E5ECF6",
            "gridcolor": "white",
            "gridwidth": 2,
            "linecolor": "white",
            "showbackground": true,
            "ticks": "",
            "zerolinecolor": "white"
           },
           "zaxis": {
            "backgroundcolor": "#E5ECF6",
            "gridcolor": "white",
            "gridwidth": 2,
            "linecolor": "white",
            "showbackground": true,
            "ticks": "",
            "zerolinecolor": "white"
           }
          },
          "shapedefaults": {
           "line": {
            "color": "#2a3f5f"
           }
          },
          "ternary": {
           "aaxis": {
            "gridcolor": "white",
            "linecolor": "white",
            "ticks": ""
           },
           "baxis": {
            "gridcolor": "white",
            "linecolor": "white",
            "ticks": ""
           },
           "bgcolor": "#E5ECF6",
           "caxis": {
            "gridcolor": "white",
            "linecolor": "white",
            "ticks": ""
           }
          },
          "title": {
           "x": 0.05
          },
          "xaxis": {
           "automargin": true,
           "gridcolor": "white",
           "linecolor": "white",
           "ticks": "",
           "title": {
            "standoff": 15
           },
           "zerolinecolor": "white",
           "zerolinewidth": 2
          },
          "yaxis": {
           "automargin": true,
           "gridcolor": "white",
           "linecolor": "white",
           "ticks": "",
           "title": {
            "standoff": 15
           },
           "zerolinecolor": "white",
           "zerolinewidth": 2
          }
         }
        },
        "title": {
         "text": "Agent: Dyna Q, Number of episodes: 251<br>        <span style='font-size: 13px'>Model parameters: [learning rate: 0.125, epsilon: 0.1, discount: 0.9]</span>"
        },
        "width": 1200,
        "xaxis": {
         "anchor": "y",
         "domain": [
          0,
          0.45
         ]
        },
        "xaxis2": {
         "anchor": "y2",
         "domain": [
          0.55,
          1
         ]
        },
        "xaxis3": {
         "anchor": "y3",
         "domain": [
          0,
          1
         ]
        },
        "yaxis": {
         "anchor": "x",
         "domain": [
          0.565,
          1
         ]
        },
        "yaxis2": {
         "anchor": "x2",
         "domain": [
          0.565,
          1
         ]
        },
        "yaxis3": {
         "anchor": "x3",
         "domain": [
          0,
          0.435
         ]
        }
       }
      }
     },
     "metadata": {},
     "output_type": "display_data"
    },
    {
     "name": "stderr",
     "output_type": "stream",
     "text": [
      "100%|█████████▉| 399/401 [00:31<00:00, 12.65it/s]"
     ]
    },
    {
     "data": {
      "application/vnd.plotly.v1+json": {
       "config": {
        "plotlyServerURL": "https://plot.ly"
       },
       "data": [
        {
         "colorbar": {
          "len": 0.473,
          "x": 0.45,
          "y": 0.78
         },
         "colorscale": [
          [
           0,
           "#440154"
          ],
          [
           0.1111111111111111,
           "#482878"
          ],
          [
           0.2222222222222222,
           "#3e4989"
          ],
          [
           0.3333333333333333,
           "#31688e"
          ],
          [
           0.4444444444444444,
           "#26828e"
          ],
          [
           0.5555555555555556,
           "#1f9e89"
          ],
          [
           0.6666666666666666,
           "#35b779"
          ],
          [
           0.7777777777777778,
           "#6ece58"
          ],
          [
           0.8888888888888888,
           "#b5de2b"
          ],
          [
           1,
           "#fde725"
          ]
         ],
         "type": "heatmap",
         "x": [
          "0",
          "1",
          "2",
          "3",
          "4",
          "5",
          "6",
          "7",
          "8",
          "9",
          "10",
          "11"
         ],
         "xaxis": "x",
         "y": [
          "7",
          "6",
          "5",
          "4",
          "3",
          "2",
          "1",
          "0"
         ],
         "yaxis": "y",
         "z": [
          [
           0.15009377896785736,
           0.16677092015743256,
           0.18530108034610748,
           0,
           0.28242844343185425,
           0.31380951404571533,
           0.4304661154747009,
           0.47829580307006836,
           0.5314399003982544,
           0.5904890298843384,
           0.6560991406440735,
           0.5904890298843384
          ],
          [
           0.16677092015743256,
           0.18530108034610748,
           0.20589014887809753,
           0,
           0.31380951404571533,
           0.3486773669719696,
           0.3874194025993347,
           0.4304661154747009,
           0.5904890298843384,
           0.6560991406440735,
           0,
           0.6560991406440735
          ],
          [
           0.18530108034610748,
           0.20589014887809753,
           0.22876688838005066,
           0,
           0.3486773669719696,
           0.3874194025993347,
           0.4304661154747009,
           0.47829580307006836,
           0.5314399003982544,
           0.47829580307006836,
           0,
           0
          ],
          [
           0.20589014887809753,
           0.22876688838005066,
           0.2541854977607727,
           0.28242844343185425,
           0.31380951404571533,
           0.3486773669719696,
           0.3874194025993347,
           0.4304661154747009,
           0.47829580307006836,
           0,
           0,
           0
          ],
          [
           0,
           0,
           0,
           0.2541854977607727,
           0.28242844343185425,
           0.31380951404571533,
           0.3486773669719696,
           0.3874194025993347,
           0,
           0,
           0,
           0
          ],
          [
           0,
           0.15009377896785736,
           0.20589014887809753,
           0.22876688838005066,
           0.2541854977607727,
           0,
           0,
           0,
           0,
           0,
           0.9999997615814209,
           0.8999995589256287
          ],
          [
           0.15009377896785736,
           0.16677092015743256,
           0.18530108034610748,
           0.16677092015743256,
           0,
           0,
           0,
           0,
           0,
           0.9999997615814209,
           0.8999995589256287,
           0.809999406337738
          ],
          [
           0.1350843459367752,
           0.15009377896785736,
           0.16677092015743256,
           0.15009377896785736,
           0,
           0,
           0,
           0,
           0,
           0.8999995589256287,
           0.809999406337738,
           0.7289992570877075
          ]
         ]
        },
        {
         "colorbar": {
          "len": 0.473,
          "x": 1,
          "y": 0.78
         },
         "colorscale": [
          [
           0,
           "#440154"
          ],
          [
           0.1111111111111111,
           "#482878"
          ],
          [
           0.2222222222222222,
           "#3e4989"
          ],
          [
           0.3333333333333333,
           "#31688e"
          ],
          [
           0.4444444444444444,
           "#26828e"
          ],
          [
           0.5555555555555556,
           "#1f9e89"
          ],
          [
           0.6666666666666666,
           "#35b779"
          ],
          [
           0.7777777777777778,
           "#6ece58"
          ],
          [
           0.8888888888888888,
           "#b5de2b"
          ],
          [
           1,
           "#fde725"
          ]
         ],
         "type": "heatmap",
         "x": [
          "0",
          "1",
          "2",
          "3",
          "4",
          "5",
          "6",
          "7",
          "8",
          "9",
          "10",
          "11"
         ],
         "xaxis": "x2",
         "y": [
          "7",
          "6",
          "5",
          "4",
          "3",
          "2",
          "1",
          "0"
         ],
         "yaxis": "y2",
         "z": [
          [
           119,
           141,
           133,
           0,
           21,
           25,
           25,
           71,
           71,
           85,
           67,
           7
          ],
          [
           147,
           564,
           563,
           0,
           31,
           51,
           55,
           61,
           843,
           811,
           0,
           3
          ],
          [
           123,
           485,
           729,
           0,
           407,
           613,
           781,
           839,
           879,
           45,
           0,
           0
          ],
          [
           91,
           299,
           945,
           885,
           879,
           483,
           269,
           103,
           58,
           3,
           5,
           0
          ],
          [
           0,
           0,
           0,
           59,
           53,
           5,
           13,
           12,
           2,
           0,
           7,
           3
          ],
          [
           0,
           3,
           5,
           17,
           3,
           0,
           0,
           0,
           0,
           381,
           738,
           306
          ],
          [
           3,
           3,
           5,
           1,
           0,
           0,
           0,
           0,
           4,
           470,
           395,
           379
          ],
          [
           13,
           11,
           13,
           1,
           0,
           0,
           0,
           0,
           4,
           183,
           475,
           877
          ]
         ]
        },
        {
         "marker": {
          "color": [
           "#636EFA",
           "#636EFA",
           "#636EFA",
           "#636EFA",
           "#636EFA",
           "#636EFA",
           "#636EFA",
           "#636EFA",
           "#636EFA",
           "#636EFA",
           "#636EFA",
           "#636EFA",
           "#636EFA",
           "#636EFA",
           "#636EFA",
           "#636EFA",
           "#636EFA",
           "#EF553B",
           "#636EFA",
           "#636EFA",
           "#636EFA",
           "#636EFA",
           "#636EFA",
           "#636EFA",
           "#636EFA",
           "#636EFA",
           "#636EFA",
           "#EF553B",
           "#636EFA",
           "#EF553B",
           "#636EFA",
           "#EF553B",
           "#636EFA",
           "#636EFA",
           "#636EFA",
           "#636EFA",
           "#EF553B",
           "#636EFA",
           "#636EFA",
           "#636EFA",
           "#EF553B",
           "#636EFA",
           "#EF553B",
           "#EF553B",
           "#636EFA",
           "#EF553B",
           "#636EFA",
           "#636EFA",
           "#EF553B",
           "#EF553B",
           "#EF553B",
           "#636EFA",
           "#636EFA",
           "#EF553B",
           "#EF553B",
           "#EF553B",
           "#636EFA",
           "#636EFA",
           "#636EFA",
           "#636EFA",
           "#EF553B",
           "#636EFA",
           "#EF553B",
           "#EF553B",
           "#636EFA",
           "#EF553B",
           "#636EFA",
           "#EF553B",
           "#EF553B",
           "#EF553B",
           "#636EFA",
           "#636EFA",
           "#636EFA",
           "#636EFA",
           "#636EFA",
           "#636EFA",
           "#636EFA",
           "#636EFA",
           "#EF553B",
           "#636EFA",
           "#636EFA",
           "#636EFA",
           "#EF553B",
           "#636EFA",
           "#636EFA",
           "#636EFA",
           "#636EFA",
           "#EF553B",
           "#636EFA",
           "#636EFA",
           "#636EFA",
           "#636EFA",
           "#636EFA",
           "#EF553B",
           "#EF553B",
           "#636EFA",
           "#636EFA",
           "#EF553B",
           "#636EFA",
           "#EF553B",
           "#EF553B",
           "#EF553B",
           "#EF553B",
           "#636EFA",
           "#636EFA",
           "#636EFA",
           "#636EFA",
           "#636EFA",
           "#636EFA",
           "#636EFA",
           "#EF553B",
           "#EF553B",
           "#636EFA",
           "#636EFA",
           "#636EFA",
           "#EF553B",
           "#636EFA",
           "#636EFA",
           "#636EFA",
           "#EF553B",
           "#636EFA",
           "#636EFA",
           "#636EFA",
           "#EF553B",
           "#EF553B",
           "#636EFA",
           "#EF553B",
           "#636EFA",
           "#EF553B",
           "#636EFA",
           "#636EFA",
           "#636EFA",
           "#636EFA",
           "#636EFA",
           "#636EFA",
           "#EF553B",
           "#636EFA",
           "#636EFA",
           "#636EFA",
           "#636EFA",
           "#636EFA",
           "#EF553B",
           "#EF553B",
           "#636EFA",
           "#636EFA",
           "#636EFA",
           "#EF553B",
           "#EF553B",
           "#636EFA",
           "#636EFA",
           "#636EFA",
           "#636EFA",
           "#636EFA",
           "#636EFA",
           "#EF553B",
           "#636EFA",
           "#EF553B",
           "#636EFA",
           "#636EFA",
           "#636EFA",
           "#EF553B",
           "#636EFA",
           "#636EFA",
           "#EF553B",
           "#636EFA",
           "#636EFA",
           "#636EFA",
           "#636EFA",
           "#636EFA",
           "#EF553B",
           "#636EFA",
           "#EF553B",
           "#636EFA",
           "#636EFA",
           "#636EFA",
           "#636EFA",
           "#636EFA",
           "#EF553B",
           "#EF553B",
           "#636EFA",
           "#EF553B",
           "#636EFA",
           "#636EFA",
           "#EF553B",
           "#636EFA",
           "#636EFA",
           "#636EFA",
           "#636EFA",
           "#636EFA",
           "#EF553B",
           "#636EFA",
           "#EF553B",
           "#EF553B",
           "#636EFA",
           "#EF553B",
           "#636EFA",
           "#636EFA",
           "#EF553B",
           "#EF553B",
           "#636EFA",
           "#EF553B",
           "#EF553B",
           "#636EFA",
           "#636EFA",
           "#636EFA",
           "#636EFA",
           "#636EFA",
           "#EF553B",
           "#EF553B",
           "#636EFA",
           "#EF553B",
           "#EF553B",
           "#636EFA",
           "#636EFA",
           "#636EFA",
           "#EF553B",
           "#EF553B",
           "#636EFA",
           "#636EFA",
           "#636EFA",
           "#EF553B",
           "#636EFA",
           "#EF553B",
           "#636EFA",
           "#EF553B",
           "#636EFA",
           "#636EFA",
           "#636EFA",
           "#636EFA",
           "#EF553B",
           "#636EFA",
           "#EF553B",
           "#636EFA",
           "#EF553B",
           "#636EFA",
           "#636EFA",
           "#636EFA",
           "#636EFA",
           "#636EFA",
           "#636EFA",
           "#EF553B",
           "#EF553B",
           "#636EFA",
           "#636EFA",
           "#636EFA",
           "#EF553B",
           "#636EFA",
           "#EF553B",
           "#636EFA",
           "#EF553B",
           "#636EFA",
           "#636EFA",
           "#636EFA",
           "#636EFA",
           "#EF553B",
           "#EF553B",
           "#636EFA",
           "#636EFA",
           "#636EFA",
           "#636EFA",
           "#EF553B",
           "#636EFA",
           "#636EFA",
           "#636EFA",
           "#636EFA",
           "#EF553B",
           "#EF553B",
           "#636EFA",
           "#EF553B",
           "#636EFA",
           "#EF553B",
           "#636EFA",
           "#636EFA",
           "#EF553B",
           "#636EFA",
           "#636EFA",
           "#EF553B",
           "#636EFA",
           "#636EFA",
           "#636EFA",
           "#636EFA",
           "#636EFA",
           "#636EFA",
           "#636EFA",
           "#636EFA",
           "#636EFA",
           "#EF553B",
           "#636EFA",
           "#EF553B",
           "#636EFA",
           "#636EFA",
           "#636EFA",
           "#636EFA",
           "#EF553B",
           "#EF553B",
           "#636EFA",
           "#636EFA",
           "#636EFA",
           "#EF553B",
           "#EF553B",
           "#636EFA",
           "#636EFA",
           "#EF553B",
           "#EF553B",
           "#636EFA",
           "#636EFA",
           "#636EFA",
           "#636EFA",
           "#636EFA",
           "#636EFA",
           "#636EFA",
           "#636EFA",
           "#636EFA",
           "#EF553B",
           "#636EFA",
           "#636EFA",
           "#EF553B",
           "#636EFA",
           "#636EFA",
           "#EF553B",
           "#EF553B",
           "#EF553B",
           "#636EFA",
           "#EF553B",
           "#636EFA",
           "#EF553B",
           "#EF553B",
           "#636EFA",
           "#636EFA",
           "#EF553B",
           "#636EFA",
           "#636EFA",
           "#636EFA",
           "#EF553B",
           "#636EFA",
           "#636EFA",
           "#636EFA",
           "#636EFA",
           "#636EFA",
           "#636EFA",
           "#636EFA",
           "#636EFA",
           "#636EFA",
           "#636EFA",
           "#636EFA",
           "#EF553B",
           "#636EFA",
           "#636EFA",
           "#636EFA",
           "#636EFA",
           "#636EFA",
           "#EF553B",
           "#636EFA",
           "#636EFA",
           "#636EFA",
           "#636EFA",
           "#EF553B",
           "#EF553B",
           "#EF553B",
           "#636EFA",
           "#EF553B",
           "#636EFA",
           "#EF553B",
           "#EF553B",
           "#636EFA",
           "#EF553B",
           "#636EFA",
           "#636EFA",
           "#636EFA",
           "#636EFA",
           "#636EFA",
           "#EF553B",
           "#EF553B",
           "#EF553B",
           "#636EFA",
           "#636EFA",
           "#636EFA",
           "#636EFA",
           "#636EFA",
           "#EF553B",
           "#636EFA",
           "#636EFA",
           "#EF553B",
           "#636EFA",
           "#EF553B",
           "#636EFA",
           "#EF553B",
           "#636EFA",
           "#636EFA",
           "#636EFA",
           "#636EFA",
           "#EF553B",
           "#636EFA",
           "#636EFA",
           "#636EFA",
           "#EF553B",
           "#636EFA",
           "#636EFA",
           "#636EFA",
           "#636EFA",
           "#636EFA"
          ]
         },
         "type": "bar",
         "xaxis": "x3",
         "y": [
          229,
          593,
          45,
          19,
          23,
          25,
          23,
          19,
          21,
          23,
          22,
          19,
          16,
          19,
          21,
          21,
          19,
          17,
          23,
          19,
          19,
          19,
          24,
          21,
          23,
          19,
          19,
          17,
          21,
          17,
          21,
          17,
          19,
          19,
          19,
          19,
          17,
          21,
          25,
          19,
          17,
          21,
          17,
          17,
          19,
          17,
          21,
          21,
          17,
          17,
          17,
          19,
          21,
          17,
          17,
          17,
          21,
          20,
          19,
          25,
          17,
          23,
          17,
          17,
          16,
          17,
          22,
          17,
          17,
          17,
          19,
          19,
          19,
          21,
          21,
          21,
          21,
          20,
          17,
          18,
          27,
          19,
          17,
          21,
          19,
          19,
          21,
          17,
          21,
          20,
          20,
          19,
          21,
          17,
          17,
          20,
          18,
          17,
          23,
          17,
          17,
          17,
          17,
          18,
          21,
          19,
          18,
          19,
          23,
          19,
          17,
          17,
          21,
          18,
          21,
          17,
          22,
          19,
          21,
          17,
          19,
          19,
          19,
          17,
          17,
          19,
          17,
          19,
          17,
          22,
          19,
          18,
          19,
          19,
          19,
          17,
          18,
          19,
          20,
          19,
          21,
          17,
          17,
          19,
          25,
          19,
          17,
          17,
          20,
          21,
          16,
          19,
          21,
          19,
          17,
          19,
          17,
          19,
          23,
          22,
          17,
          19,
          21,
          17,
          19,
          19,
          21,
          19,
          19,
          17,
          19,
          17,
          19,
          19,
          21,
          19,
          19,
          17,
          17,
          19,
          17,
          19,
          21,
          17,
          18,
          21,
          19,
          19,
          24,
          17,
          19,
          17,
          17,
          19,
          17,
          16,
          19,
          17,
          17,
          19,
          17,
          17,
          18,
          19,
          20,
          19,
          19,
          17,
          17,
          21,
          17,
          17,
          19,
          21,
          21,
          17,
          17,
          23,
          25,
          21,
          17,
          19,
          17,
          23,
          17,
          24,
          23,
          19,
          23,
          17,
          19,
          17,
          19,
          17,
          23,
          25,
          19,
          21,
          19,
          20,
          17,
          17,
          21,
          23,
          21,
          17,
          18,
          17,
          21,
          17,
          24,
          25,
          22,
          21,
          17,
          17,
          21,
          19,
          19,
          19,
          17,
          19,
          18,
          21,
          20,
          17,
          17,
          19,
          17,
          23,
          17,
          21,
          21,
          17,
          18,
          19,
          17,
          18,
          19,
          18,
          19,
          19,
          22,
          19,
          20,
          21,
          17,
          19,
          17,
          19,
          19,
          19,
          21,
          17,
          17,
          21,
          19,
          21,
          17,
          17,
          19,
          19,
          17,
          17,
          19,
          19,
          18,
          23,
          19,
          21,
          19,
          19,
          19,
          17,
          23,
          22,
          17,
          18,
          19,
          17,
          17,
          17,
          16,
          17,
          20,
          17,
          17,
          21,
          21,
          17,
          16,
          16,
          19,
          17,
          19,
          18,
          23,
          19,
          19,
          20,
          21,
          18,
          18,
          19,
          22,
          17,
          19,
          20,
          18,
          18,
          19,
          17,
          19,
          21,
          21,
          19,
          17,
          17,
          17,
          19,
          17,
          19,
          17,
          17,
          18,
          17,
          23,
          18,
          19,
          20,
          19,
          17,
          17,
          17,
          18,
          23,
          21,
          21,
          19,
          17,
          24,
          19,
          17,
          23,
          17,
          21,
          17,
          12,
          20,
          21,
          19,
          17,
          19,
          21,
          21,
          17,
          21,
          23,
          21,
          19,
          18
         ],
         "yaxis": "y3"
        }
       ],
       "layout": {
        "annotations": [
         {
          "font": {
           "size": 16
          },
          "showarrow": false,
          "text": "State value function",
          "x": 0.225,
          "xanchor": "center",
          "xref": "paper",
          "y": 1,
          "yanchor": "bottom",
          "yref": "paper"
         },
         {
          "font": {
           "size": 16
          },
          "showarrow": false,
          "text": "Number of total visits",
          "x": 0.775,
          "xanchor": "center",
          "xref": "paper",
          "y": 1,
          "yanchor": "bottom",
          "yref": "paper"
         },
         {
          "font": {
           "size": 16
          },
          "showarrow": false,
          "text": "Number of steps per episode",
          "x": 0.5,
          "xanchor": "center",
          "xref": "paper",
          "y": 0.435,
          "yanchor": "bottom",
          "yref": "paper"
         }
        ],
        "height": 900,
        "template": {
         "data": {
          "bar": [
           {
            "error_x": {
             "color": "#2a3f5f"
            },
            "error_y": {
             "color": "#2a3f5f"
            },
            "marker": {
             "line": {
              "color": "#E5ECF6",
              "width": 0.5
             },
             "pattern": {
              "fillmode": "overlay",
              "size": 10,
              "solidity": 0.2
             }
            },
            "type": "bar"
           }
          ],
          "barpolar": [
           {
            "marker": {
             "line": {
              "color": "#E5ECF6",
              "width": 0.5
             },
             "pattern": {
              "fillmode": "overlay",
              "size": 10,
              "solidity": 0.2
             }
            },
            "type": "barpolar"
           }
          ],
          "carpet": [
           {
            "aaxis": {
             "endlinecolor": "#2a3f5f",
             "gridcolor": "white",
             "linecolor": "white",
             "minorgridcolor": "white",
             "startlinecolor": "#2a3f5f"
            },
            "baxis": {
             "endlinecolor": "#2a3f5f",
             "gridcolor": "white",
             "linecolor": "white",
             "minorgridcolor": "white",
             "startlinecolor": "#2a3f5f"
            },
            "type": "carpet"
           }
          ],
          "choropleth": [
           {
            "colorbar": {
             "outlinewidth": 0,
             "ticks": ""
            },
            "type": "choropleth"
           }
          ],
          "contour": [
           {
            "colorbar": {
             "outlinewidth": 0,
             "ticks": ""
            },
            "colorscale": [
             [
              0,
              "#0d0887"
             ],
             [
              0.1111111111111111,
              "#46039f"
             ],
             [
              0.2222222222222222,
              "#7201a8"
             ],
             [
              0.3333333333333333,
              "#9c179e"
             ],
             [
              0.4444444444444444,
              "#bd3786"
             ],
             [
              0.5555555555555556,
              "#d8576b"
             ],
             [
              0.6666666666666666,
              "#ed7953"
             ],
             [
              0.7777777777777778,
              "#fb9f3a"
             ],
             [
              0.8888888888888888,
              "#fdca26"
             ],
             [
              1,
              "#f0f921"
             ]
            ],
            "type": "contour"
           }
          ],
          "contourcarpet": [
           {
            "colorbar": {
             "outlinewidth": 0,
             "ticks": ""
            },
            "type": "contourcarpet"
           }
          ],
          "heatmap": [
           {
            "colorbar": {
             "outlinewidth": 0,
             "ticks": ""
            },
            "colorscale": [
             [
              0,
              "#0d0887"
             ],
             [
              0.1111111111111111,
              "#46039f"
             ],
             [
              0.2222222222222222,
              "#7201a8"
             ],
             [
              0.3333333333333333,
              "#9c179e"
             ],
             [
              0.4444444444444444,
              "#bd3786"
             ],
             [
              0.5555555555555556,
              "#d8576b"
             ],
             [
              0.6666666666666666,
              "#ed7953"
             ],
             [
              0.7777777777777778,
              "#fb9f3a"
             ],
             [
              0.8888888888888888,
              "#fdca26"
             ],
             [
              1,
              "#f0f921"
             ]
            ],
            "type": "heatmap"
           }
          ],
          "heatmapgl": [
           {
            "colorbar": {
             "outlinewidth": 0,
             "ticks": ""
            },
            "colorscale": [
             [
              0,
              "#0d0887"
             ],
             [
              0.1111111111111111,
              "#46039f"
             ],
             [
              0.2222222222222222,
              "#7201a8"
             ],
             [
              0.3333333333333333,
              "#9c179e"
             ],
             [
              0.4444444444444444,
              "#bd3786"
             ],
             [
              0.5555555555555556,
              "#d8576b"
             ],
             [
              0.6666666666666666,
              "#ed7953"
             ],
             [
              0.7777777777777778,
              "#fb9f3a"
             ],
             [
              0.8888888888888888,
              "#fdca26"
             ],
             [
              1,
              "#f0f921"
             ]
            ],
            "type": "heatmapgl"
           }
          ],
          "histogram": [
           {
            "marker": {
             "pattern": {
              "fillmode": "overlay",
              "size": 10,
              "solidity": 0.2
             }
            },
            "type": "histogram"
           }
          ],
          "histogram2d": [
           {
            "colorbar": {
             "outlinewidth": 0,
             "ticks": ""
            },
            "colorscale": [
             [
              0,
              "#0d0887"
             ],
             [
              0.1111111111111111,
              "#46039f"
             ],
             [
              0.2222222222222222,
              "#7201a8"
             ],
             [
              0.3333333333333333,
              "#9c179e"
             ],
             [
              0.4444444444444444,
              "#bd3786"
             ],
             [
              0.5555555555555556,
              "#d8576b"
             ],
             [
              0.6666666666666666,
              "#ed7953"
             ],
             [
              0.7777777777777778,
              "#fb9f3a"
             ],
             [
              0.8888888888888888,
              "#fdca26"
             ],
             [
              1,
              "#f0f921"
             ]
            ],
            "type": "histogram2d"
           }
          ],
          "histogram2dcontour": [
           {
            "colorbar": {
             "outlinewidth": 0,
             "ticks": ""
            },
            "colorscale": [
             [
              0,
              "#0d0887"
             ],
             [
              0.1111111111111111,
              "#46039f"
             ],
             [
              0.2222222222222222,
              "#7201a8"
             ],
             [
              0.3333333333333333,
              "#9c179e"
             ],
             [
              0.4444444444444444,
              "#bd3786"
             ],
             [
              0.5555555555555556,
              "#d8576b"
             ],
             [
              0.6666666666666666,
              "#ed7953"
             ],
             [
              0.7777777777777778,
              "#fb9f3a"
             ],
             [
              0.8888888888888888,
              "#fdca26"
             ],
             [
              1,
              "#f0f921"
             ]
            ],
            "type": "histogram2dcontour"
           }
          ],
          "mesh3d": [
           {
            "colorbar": {
             "outlinewidth": 0,
             "ticks": ""
            },
            "type": "mesh3d"
           }
          ],
          "parcoords": [
           {
            "line": {
             "colorbar": {
              "outlinewidth": 0,
              "ticks": ""
             }
            },
            "type": "parcoords"
           }
          ],
          "pie": [
           {
            "automargin": true,
            "type": "pie"
           }
          ],
          "scatter": [
           {
            "fillpattern": {
             "fillmode": "overlay",
             "size": 10,
             "solidity": 0.2
            },
            "type": "scatter"
           }
          ],
          "scatter3d": [
           {
            "line": {
             "colorbar": {
              "outlinewidth": 0,
              "ticks": ""
             }
            },
            "marker": {
             "colorbar": {
              "outlinewidth": 0,
              "ticks": ""
             }
            },
            "type": "scatter3d"
           }
          ],
          "scattercarpet": [
           {
            "marker": {
             "colorbar": {
              "outlinewidth": 0,
              "ticks": ""
             }
            },
            "type": "scattercarpet"
           }
          ],
          "scattergeo": [
           {
            "marker": {
             "colorbar": {
              "outlinewidth": 0,
              "ticks": ""
             }
            },
            "type": "scattergeo"
           }
          ],
          "scattergl": [
           {
            "marker": {
             "colorbar": {
              "outlinewidth": 0,
              "ticks": ""
             }
            },
            "type": "scattergl"
           }
          ],
          "scattermapbox": [
           {
            "marker": {
             "colorbar": {
              "outlinewidth": 0,
              "ticks": ""
             }
            },
            "type": "scattermapbox"
           }
          ],
          "scatterpolar": [
           {
            "marker": {
             "colorbar": {
              "outlinewidth": 0,
              "ticks": ""
             }
            },
            "type": "scatterpolar"
           }
          ],
          "scatterpolargl": [
           {
            "marker": {
             "colorbar": {
              "outlinewidth": 0,
              "ticks": ""
             }
            },
            "type": "scatterpolargl"
           }
          ],
          "scatterternary": [
           {
            "marker": {
             "colorbar": {
              "outlinewidth": 0,
              "ticks": ""
             }
            },
            "type": "scatterternary"
           }
          ],
          "surface": [
           {
            "colorbar": {
             "outlinewidth": 0,
             "ticks": ""
            },
            "colorscale": [
             [
              0,
              "#0d0887"
             ],
             [
              0.1111111111111111,
              "#46039f"
             ],
             [
              0.2222222222222222,
              "#7201a8"
             ],
             [
              0.3333333333333333,
              "#9c179e"
             ],
             [
              0.4444444444444444,
              "#bd3786"
             ],
             [
              0.5555555555555556,
              "#d8576b"
             ],
             [
              0.6666666666666666,
              "#ed7953"
             ],
             [
              0.7777777777777778,
              "#fb9f3a"
             ],
             [
              0.8888888888888888,
              "#fdca26"
             ],
             [
              1,
              "#f0f921"
             ]
            ],
            "type": "surface"
           }
          ],
          "table": [
           {
            "cells": {
             "fill": {
              "color": "#EBF0F8"
             },
             "line": {
              "color": "white"
             }
            },
            "header": {
             "fill": {
              "color": "#C8D4E3"
             },
             "line": {
              "color": "white"
             }
            },
            "type": "table"
           }
          ]
         },
         "layout": {
          "annotationdefaults": {
           "arrowcolor": "#2a3f5f",
           "arrowhead": 0,
           "arrowwidth": 1
          },
          "autotypenumbers": "strict",
          "coloraxis": {
           "colorbar": {
            "outlinewidth": 0,
            "ticks": ""
           }
          },
          "colorscale": {
           "diverging": [
            [
             0,
             "#8e0152"
            ],
            [
             0.1,
             "#c51b7d"
            ],
            [
             0.2,
             "#de77ae"
            ],
            [
             0.3,
             "#f1b6da"
            ],
            [
             0.4,
             "#fde0ef"
            ],
            [
             0.5,
             "#f7f7f7"
            ],
            [
             0.6,
             "#e6f5d0"
            ],
            [
             0.7,
             "#b8e186"
            ],
            [
             0.8,
             "#7fbc41"
            ],
            [
             0.9,
             "#4d9221"
            ],
            [
             1,
             "#276419"
            ]
           ],
           "sequential": [
            [
             0,
             "#0d0887"
            ],
            [
             0.1111111111111111,
             "#46039f"
            ],
            [
             0.2222222222222222,
             "#7201a8"
            ],
            [
             0.3333333333333333,
             "#9c179e"
            ],
            [
             0.4444444444444444,
             "#bd3786"
            ],
            [
             0.5555555555555556,
             "#d8576b"
            ],
            [
             0.6666666666666666,
             "#ed7953"
            ],
            [
             0.7777777777777778,
             "#fb9f3a"
            ],
            [
             0.8888888888888888,
             "#fdca26"
            ],
            [
             1,
             "#f0f921"
            ]
           ],
           "sequentialminus": [
            [
             0,
             "#0d0887"
            ],
            [
             0.1111111111111111,
             "#46039f"
            ],
            [
             0.2222222222222222,
             "#7201a8"
            ],
            [
             0.3333333333333333,
             "#9c179e"
            ],
            [
             0.4444444444444444,
             "#bd3786"
            ],
            [
             0.5555555555555556,
             "#d8576b"
            ],
            [
             0.6666666666666666,
             "#ed7953"
            ],
            [
             0.7777777777777778,
             "#fb9f3a"
            ],
            [
             0.8888888888888888,
             "#fdca26"
            ],
            [
             1,
             "#f0f921"
            ]
           ]
          },
          "colorway": [
           "#636efa",
           "#EF553B",
           "#00cc96",
           "#ab63fa",
           "#FFA15A",
           "#19d3f3",
           "#FF6692",
           "#B6E880",
           "#FF97FF",
           "#FECB52"
          ],
          "font": {
           "color": "#2a3f5f"
          },
          "geo": {
           "bgcolor": "white",
           "lakecolor": "white",
           "landcolor": "#E5ECF6",
           "showlakes": true,
           "showland": true,
           "subunitcolor": "white"
          },
          "hoverlabel": {
           "align": "left"
          },
          "hovermode": "closest",
          "mapbox": {
           "style": "light"
          },
          "paper_bgcolor": "white",
          "plot_bgcolor": "#E5ECF6",
          "polar": {
           "angularaxis": {
            "gridcolor": "white",
            "linecolor": "white",
            "ticks": ""
           },
           "bgcolor": "#E5ECF6",
           "radialaxis": {
            "gridcolor": "white",
            "linecolor": "white",
            "ticks": ""
           }
          },
          "scene": {
           "xaxis": {
            "backgroundcolor": "#E5ECF6",
            "gridcolor": "white",
            "gridwidth": 2,
            "linecolor": "white",
            "showbackground": true,
            "ticks": "",
            "zerolinecolor": "white"
           },
           "yaxis": {
            "backgroundcolor": "#E5ECF6",
            "gridcolor": "white",
            "gridwidth": 2,
            "linecolor": "white",
            "showbackground": true,
            "ticks": "",
            "zerolinecolor": "white"
           },
           "zaxis": {
            "backgroundcolor": "#E5ECF6",
            "gridcolor": "white",
            "gridwidth": 2,
            "linecolor": "white",
            "showbackground": true,
            "ticks": "",
            "zerolinecolor": "white"
           }
          },
          "shapedefaults": {
           "line": {
            "color": "#2a3f5f"
           }
          },
          "ternary": {
           "aaxis": {
            "gridcolor": "white",
            "linecolor": "white",
            "ticks": ""
           },
           "baxis": {
            "gridcolor": "white",
            "linecolor": "white",
            "ticks": ""
           },
           "bgcolor": "#E5ECF6",
           "caxis": {
            "gridcolor": "white",
            "linecolor": "white",
            "ticks": ""
           }
          },
          "title": {
           "x": 0.05
          },
          "xaxis": {
           "automargin": true,
           "gridcolor": "white",
           "linecolor": "white",
           "ticks": "",
           "title": {
            "standoff": 15
           },
           "zerolinecolor": "white",
           "zerolinewidth": 2
          },
          "yaxis": {
           "automargin": true,
           "gridcolor": "white",
           "linecolor": "white",
           "ticks": "",
           "title": {
            "standoff": 15
           },
           "zerolinecolor": "white",
           "zerolinewidth": 2
          }
         }
        },
        "title": {
         "text": "Agent: Dyna Q, Number of episodes: 401<br>        <span style='font-size: 13px'>Model parameters: [learning rate: 0.125, epsilon: 0.1, discount: 0.9]</span>"
        },
        "width": 1200,
        "xaxis": {
         "anchor": "y",
         "domain": [
          0,
          0.45
         ]
        },
        "xaxis2": {
         "anchor": "y2",
         "domain": [
          0.55,
          1
         ]
        },
        "xaxis3": {
         "anchor": "y3",
         "domain": [
          0,
          1
         ]
        },
        "yaxis": {
         "anchor": "x",
         "domain": [
          0.565,
          1
         ]
        },
        "yaxis2": {
         "anchor": "x2",
         "domain": [
          0.565,
          1
         ]
        },
        "yaxis3": {
         "anchor": "x3",
         "domain": [
          0,
          0.435
         ]
        }
       }
      }
     },
     "metadata": {},
     "output_type": "display_data"
    },
    {
     "name": "stderr",
     "output_type": "stream",
     "text": [
      "100%|██████████| 401/401 [00:31<00:00, 12.64it/s]\n"
     ]
    }
   ],
   "source": [
    "a = Dyna_Q_Agent(epsilon=0.1, gamma=0.9, step_size=0.125)\n",
    "a.fit(n_episode=401, plot_progress=[100, 250, 400])"
   ]
  },
  {
   "cell_type": "code",
   "execution_count": 48,
   "metadata": {},
   "outputs": [
    {
     "name": "stderr",
     "output_type": "stream",
     "text": [
      " 25%|██▍       | 99/401 [00:18<00:33,  9.02it/s]"
     ]
    },
    {
     "data": {
      "application/vnd.plotly.v1+json": {
       "config": {
        "plotlyServerURL": "https://plot.ly"
       },
       "data": [
        {
         "colorbar": {
          "len": 0.473,
          "x": 0.45,
          "y": 0.78
         },
         "colorscale": [
          [
           0,
           "#440154"
          ],
          [
           0.1111111111111111,
           "#482878"
          ],
          [
           0.2222222222222222,
           "#3e4989"
          ],
          [
           0.3333333333333333,
           "#31688e"
          ],
          [
           0.4444444444444444,
           "#26828e"
          ],
          [
           0.5555555555555556,
           "#1f9e89"
          ],
          [
           0.6666666666666666,
           "#35b779"
          ],
          [
           0.7777777777777778,
           "#6ece58"
          ],
          [
           0.8888888888888888,
           "#b5de2b"
          ],
          [
           1,
           "#fde725"
          ]
         ],
         "type": "heatmap",
         "x": [
          "0",
          "1",
          "2",
          "3",
          "4",
          "5",
          "6",
          "7",
          "8",
          "9",
          "10",
          "11"
         ],
         "xaxis": "x",
         "y": [
          "7",
          "6",
          "5",
          "4",
          "3",
          "2",
          "1",
          "0"
         ],
         "yaxis": "y",
         "z": [
          [
           0.17512114346027374,
           0.1623622626066208,
           0.2346406877040863,
           0,
           0.41659635305404663,
           0.4217931032180786,
           0.4627918004989624,
           0.5015489459037781,
           0.6302602291107178,
           0.6617434620857239,
           0.6962183117866516,
           0.6908458471298218
          ],
          [
           0.18552711606025696,
           0.20055581629276276,
           0.21879054605960846,
           0,
           0.40387624502182007,
           0.3918529748916626,
           0.44768601655960083,
           0.5468475222587585,
           0.6023480892181396,
           0.6646934747695923,
           0,
           0.7023504972457886
          ],
          [
           0.2021034210920334,
           0.20746727287769318,
           0.2294936180114746,
           0,
           0.35580629110336304,
           0.35979214310646057,
           0.4751906991004944,
           0.5040169358253479,
           0.5519673228263855,
           0.6629717350006104,
           0.6968291997909546,
           0.6790094971656799
          ],
          [
           0.21864166855812073,
           0.2361939698457718,
           0.2542194128036499,
           0.2840096950531006,
           0.31749671697616577,
           0.33602580428123474,
           0.4255194365978241,
           0.4595678150653839,
           0.5313873887062073,
           0.5714129209518433,
           0.5486792325973511,
           0.6758866906166077
          ],
          [
           0,
           0,
           0,
           0.2595643103122711,
           0.2955344021320343,
           0.31309279799461365,
           0.3823809027671814,
           0.41831228137016296,
           0,
           0,
           0,
           0
          ],
          [
           0.2862984836101532,
           0.28931954503059387,
           0.2908680737018585,
           0.27384525537490845,
           0.2998710870742798,
           0.31783199310302734,
           0.3461439311504364,
           0.3749622404575348,
           0,
           0,
           0.8314453363418579,
           0.7536924481391907
          ],
          [
           0.2906729280948639,
           0.2931559383869171,
           0.28777584433555603,
           0.29653608798980713,
           0.2957726716995239,
           0.31298667192459106,
           0.3279774487018585,
           0.315637469291687,
           0,
           0.9973800182342529,
           0.8950848579406738,
           0.8071500062942505
          ],
          [
           0.28960341215133667,
           0.29328417778015137,
           0.29433953762054443,
           0.2911914885044098,
           0.29326948523521423,
           0.44062602519989014,
           0.4524858295917511,
           0.4631372094154358,
           0,
           0.6387385129928589,
           0.6689413189888,
           0.7304939031600952
          ]
         ]
        },
        {
         "colorbar": {
          "len": 0.473,
          "x": 1,
          "y": 0.78
         },
         "colorscale": [
          [
           0,
           "#440154"
          ],
          [
           0.1111111111111111,
           "#482878"
          ],
          [
           0.2222222222222222,
           "#3e4989"
          ],
          [
           0.3333333333333333,
           "#31688e"
          ],
          [
           0.4444444444444444,
           "#26828e"
          ],
          [
           0.5555555555555556,
           "#1f9e89"
          ],
          [
           0.6666666666666666,
           "#35b779"
          ],
          [
           0.7777777777777778,
           "#6ece58"
          ],
          [
           0.8888888888888888,
           "#b5de2b"
          ],
          [
           1,
           "#fde725"
          ]
         ],
         "type": "heatmap",
         "x": [
          "0",
          "1",
          "2",
          "3",
          "4",
          "5",
          "6",
          "7",
          "8",
          "9",
          "10",
          "11"
         ],
         "xaxis": "x2",
         "y": [
          "7",
          "6",
          "5",
          "4",
          "3",
          "2",
          "1",
          "0"
         ],
         "yaxis": "y2",
         "z": [
          [
           183,
           120,
           106,
           0,
           68,
           73,
           51,
           58,
           42,
           39,
           33,
           1
          ],
          [
           131,
           99,
           149,
           0,
           59,
           57,
           21,
           30,
           44,
           36,
           0,
           8
          ],
          [
           115,
           130,
           162,
           0,
           57,
           64,
           31,
           49,
           56,
           23,
           20,
           7
          ],
          [
           119,
           133,
           181,
           155,
           121,
           85,
           43,
           48,
           34,
           17,
           11,
           2
          ],
          [
           0,
           0,
           0,
           76,
           56,
           51,
           45,
           33,
           9,
           1,
           1,
           1
          ],
          [
           61,
           50,
           55,
           49,
           37,
           40,
           36,
           24,
           5,
           73,
           8,
           22
          ],
          [
           51,
           47,
           44,
           39,
           41,
           46,
           27,
           20,
           7,
           162,
           105,
           126
          ],
          [
           39,
           37,
           40,
           45,
           53,
           44,
           35,
           30,
           4,
           10,
           27,
           122
          ]
         ]
        },
        {
         "marker": {
          "color": [
           "#636EFA",
           "#636EFA",
           "#636EFA",
           "#636EFA",
           "#636EFA",
           "#636EFA",
           "#636EFA",
           "#00CC96",
           "#636EFA",
           "#636EFA",
           "#636EFA",
           "#636EFA",
           "#636EFA",
           "#636EFA",
           "#636EFA",
           "#636EFA",
           "#636EFA",
           "#636EFA",
           "#636EFA",
           "#636EFA",
           "#636EFA",
           "#636EFA",
           "#636EFA",
           "#636EFA",
           "#636EFA",
           "#636EFA",
           "#636EFA",
           "#636EFA",
           "#636EFA",
           "#636EFA",
           "#636EFA",
           "#636EFA",
           "#636EFA",
           "#636EFA",
           "#636EFA",
           "#636EFA",
           "#636EFA",
           "#636EFA",
           "#00CC96",
           "#636EFA",
           "#636EFA",
           "#636EFA",
           "#636EFA",
           "#636EFA",
           "#636EFA",
           "#636EFA",
           "#636EFA",
           "#636EFA",
           "#636EFA",
           "#636EFA",
           "#00CC96",
           "#636EFA",
           "#636EFA",
           "#636EFA",
           "#636EFA",
           "#636EFA",
           "#636EFA",
           "#636EFA",
           "#636EFA",
           "#636EFA",
           "#636EFA",
           "#636EFA",
           "#636EFA",
           "#636EFA",
           "#636EFA",
           "#EF553B",
           "#636EFA",
           "#636EFA",
           "#636EFA",
           "#636EFA",
           "#636EFA",
           "#636EFA",
           "#636EFA",
           "#636EFA",
           "#636EFA",
           "#636EFA",
           "#636EFA",
           "#636EFA",
           "#636EFA",
           "#EF553B",
           "#636EFA",
           "#636EFA",
           "#636EFA",
           "#636EFA",
           "#636EFA",
           "#636EFA",
           "#636EFA",
           "#636EFA",
           "#636EFA",
           "#636EFA",
           "#636EFA",
           "#636EFA",
           "#636EFA",
           "#636EFA",
           "#636EFA",
           "#636EFA",
           "#636EFA",
           "#636EFA",
           "#636EFA",
           "#636EFA",
           "#636EFA"
          ]
         },
         "type": "bar",
         "xaxis": "x3",
         "y": [
          38,
          189,
          90,
          134,
          31,
          167,
          192,
          12,
          38,
          85,
          16,
          285,
          205,
          112,
          65,
          97,
          31,
          30,
          38,
          26,
          31,
          29,
          89,
          41,
          15,
          39,
          37,
          33,
          27,
          22,
          35,
          28,
          22,
          25,
          23,
          32,
          16,
          32,
          12,
          19,
          18,
          327,
          26,
          192,
          32,
          28,
          43,
          24,
          37,
          24,
          12,
          34,
          23,
          24,
          30,
          38,
          44,
          33,
          25,
          25,
          21,
          19,
          19,
          10,
          19,
          17,
          22,
          19,
          23,
          19,
          29,
          51,
          23,
          33,
          76,
          146,
          153,
          26,
          40,
          17,
          19,
          21,
          20,
          25,
          25,
          19,
          26,
          21,
          57,
          44,
          40,
          20,
          24,
          57,
          27,
          21,
          23,
          31,
          29,
          23,
          23
         ],
         "yaxis": "y3"
        }
       ],
       "layout": {
        "annotations": [
         {
          "font": {
           "size": 16
          },
          "showarrow": false,
          "text": "State value function",
          "x": 0.225,
          "xanchor": "center",
          "xref": "paper",
          "y": 1,
          "yanchor": "bottom",
          "yref": "paper"
         },
         {
          "font": {
           "size": 16
          },
          "showarrow": false,
          "text": "Number of total visits",
          "x": 0.775,
          "xanchor": "center",
          "xref": "paper",
          "y": 1,
          "yanchor": "bottom",
          "yref": "paper"
         },
         {
          "font": {
           "size": 16
          },
          "showarrow": false,
          "text": "Number of steps per episode",
          "x": 0.5,
          "xanchor": "center",
          "xref": "paper",
          "y": 0.435,
          "yanchor": "bottom",
          "yref": "paper"
         }
        ],
        "height": 900,
        "template": {
         "data": {
          "bar": [
           {
            "error_x": {
             "color": "#2a3f5f"
            },
            "error_y": {
             "color": "#2a3f5f"
            },
            "marker": {
             "line": {
              "color": "#E5ECF6",
              "width": 0.5
             },
             "pattern": {
              "fillmode": "overlay",
              "size": 10,
              "solidity": 0.2
             }
            },
            "type": "bar"
           }
          ],
          "barpolar": [
           {
            "marker": {
             "line": {
              "color": "#E5ECF6",
              "width": 0.5
             },
             "pattern": {
              "fillmode": "overlay",
              "size": 10,
              "solidity": 0.2
             }
            },
            "type": "barpolar"
           }
          ],
          "carpet": [
           {
            "aaxis": {
             "endlinecolor": "#2a3f5f",
             "gridcolor": "white",
             "linecolor": "white",
             "minorgridcolor": "white",
             "startlinecolor": "#2a3f5f"
            },
            "baxis": {
             "endlinecolor": "#2a3f5f",
             "gridcolor": "white",
             "linecolor": "white",
             "minorgridcolor": "white",
             "startlinecolor": "#2a3f5f"
            },
            "type": "carpet"
           }
          ],
          "choropleth": [
           {
            "colorbar": {
             "outlinewidth": 0,
             "ticks": ""
            },
            "type": "choropleth"
           }
          ],
          "contour": [
           {
            "colorbar": {
             "outlinewidth": 0,
             "ticks": ""
            },
            "colorscale": [
             [
              0,
              "#0d0887"
             ],
             [
              0.1111111111111111,
              "#46039f"
             ],
             [
              0.2222222222222222,
              "#7201a8"
             ],
             [
              0.3333333333333333,
              "#9c179e"
             ],
             [
              0.4444444444444444,
              "#bd3786"
             ],
             [
              0.5555555555555556,
              "#d8576b"
             ],
             [
              0.6666666666666666,
              "#ed7953"
             ],
             [
              0.7777777777777778,
              "#fb9f3a"
             ],
             [
              0.8888888888888888,
              "#fdca26"
             ],
             [
              1,
              "#f0f921"
             ]
            ],
            "type": "contour"
           }
          ],
          "contourcarpet": [
           {
            "colorbar": {
             "outlinewidth": 0,
             "ticks": ""
            },
            "type": "contourcarpet"
           }
          ],
          "heatmap": [
           {
            "colorbar": {
             "outlinewidth": 0,
             "ticks": ""
            },
            "colorscale": [
             [
              0,
              "#0d0887"
             ],
             [
              0.1111111111111111,
              "#46039f"
             ],
             [
              0.2222222222222222,
              "#7201a8"
             ],
             [
              0.3333333333333333,
              "#9c179e"
             ],
             [
              0.4444444444444444,
              "#bd3786"
             ],
             [
              0.5555555555555556,
              "#d8576b"
             ],
             [
              0.6666666666666666,
              "#ed7953"
             ],
             [
              0.7777777777777778,
              "#fb9f3a"
             ],
             [
              0.8888888888888888,
              "#fdca26"
             ],
             [
              1,
              "#f0f921"
             ]
            ],
            "type": "heatmap"
           }
          ],
          "heatmapgl": [
           {
            "colorbar": {
             "outlinewidth": 0,
             "ticks": ""
            },
            "colorscale": [
             [
              0,
              "#0d0887"
             ],
             [
              0.1111111111111111,
              "#46039f"
             ],
             [
              0.2222222222222222,
              "#7201a8"
             ],
             [
              0.3333333333333333,
              "#9c179e"
             ],
             [
              0.4444444444444444,
              "#bd3786"
             ],
             [
              0.5555555555555556,
              "#d8576b"
             ],
             [
              0.6666666666666666,
              "#ed7953"
             ],
             [
              0.7777777777777778,
              "#fb9f3a"
             ],
             [
              0.8888888888888888,
              "#fdca26"
             ],
             [
              1,
              "#f0f921"
             ]
            ],
            "type": "heatmapgl"
           }
          ],
          "histogram": [
           {
            "marker": {
             "pattern": {
              "fillmode": "overlay",
              "size": 10,
              "solidity": 0.2
             }
            },
            "type": "histogram"
           }
          ],
          "histogram2d": [
           {
            "colorbar": {
             "outlinewidth": 0,
             "ticks": ""
            },
            "colorscale": [
             [
              0,
              "#0d0887"
             ],
             [
              0.1111111111111111,
              "#46039f"
             ],
             [
              0.2222222222222222,
              "#7201a8"
             ],
             [
              0.3333333333333333,
              "#9c179e"
             ],
             [
              0.4444444444444444,
              "#bd3786"
             ],
             [
              0.5555555555555556,
              "#d8576b"
             ],
             [
              0.6666666666666666,
              "#ed7953"
             ],
             [
              0.7777777777777778,
              "#fb9f3a"
             ],
             [
              0.8888888888888888,
              "#fdca26"
             ],
             [
              1,
              "#f0f921"
             ]
            ],
            "type": "histogram2d"
           }
          ],
          "histogram2dcontour": [
           {
            "colorbar": {
             "outlinewidth": 0,
             "ticks": ""
            },
            "colorscale": [
             [
              0,
              "#0d0887"
             ],
             [
              0.1111111111111111,
              "#46039f"
             ],
             [
              0.2222222222222222,
              "#7201a8"
             ],
             [
              0.3333333333333333,
              "#9c179e"
             ],
             [
              0.4444444444444444,
              "#bd3786"
             ],
             [
              0.5555555555555556,
              "#d8576b"
             ],
             [
              0.6666666666666666,
              "#ed7953"
             ],
             [
              0.7777777777777778,
              "#fb9f3a"
             ],
             [
              0.8888888888888888,
              "#fdca26"
             ],
             [
              1,
              "#f0f921"
             ]
            ],
            "type": "histogram2dcontour"
           }
          ],
          "mesh3d": [
           {
            "colorbar": {
             "outlinewidth": 0,
             "ticks": ""
            },
            "type": "mesh3d"
           }
          ],
          "parcoords": [
           {
            "line": {
             "colorbar": {
              "outlinewidth": 0,
              "ticks": ""
             }
            },
            "type": "parcoords"
           }
          ],
          "pie": [
           {
            "automargin": true,
            "type": "pie"
           }
          ],
          "scatter": [
           {
            "fillpattern": {
             "fillmode": "overlay",
             "size": 10,
             "solidity": 0.2
            },
            "type": "scatter"
           }
          ],
          "scatter3d": [
           {
            "line": {
             "colorbar": {
              "outlinewidth": 0,
              "ticks": ""
             }
            },
            "marker": {
             "colorbar": {
              "outlinewidth": 0,
              "ticks": ""
             }
            },
            "type": "scatter3d"
           }
          ],
          "scattercarpet": [
           {
            "marker": {
             "colorbar": {
              "outlinewidth": 0,
              "ticks": ""
             }
            },
            "type": "scattercarpet"
           }
          ],
          "scattergeo": [
           {
            "marker": {
             "colorbar": {
              "outlinewidth": 0,
              "ticks": ""
             }
            },
            "type": "scattergeo"
           }
          ],
          "scattergl": [
           {
            "marker": {
             "colorbar": {
              "outlinewidth": 0,
              "ticks": ""
             }
            },
            "type": "scattergl"
           }
          ],
          "scattermapbox": [
           {
            "marker": {
             "colorbar": {
              "outlinewidth": 0,
              "ticks": ""
             }
            },
            "type": "scattermapbox"
           }
          ],
          "scatterpolar": [
           {
            "marker": {
             "colorbar": {
              "outlinewidth": 0,
              "ticks": ""
             }
            },
            "type": "scatterpolar"
           }
          ],
          "scatterpolargl": [
           {
            "marker": {
             "colorbar": {
              "outlinewidth": 0,
              "ticks": ""
             }
            },
            "type": "scatterpolargl"
           }
          ],
          "scatterternary": [
           {
            "marker": {
             "colorbar": {
              "outlinewidth": 0,
              "ticks": ""
             }
            },
            "type": "scatterternary"
           }
          ],
          "surface": [
           {
            "colorbar": {
             "outlinewidth": 0,
             "ticks": ""
            },
            "colorscale": [
             [
              0,
              "#0d0887"
             ],
             [
              0.1111111111111111,
              "#46039f"
             ],
             [
              0.2222222222222222,
              "#7201a8"
             ],
             [
              0.3333333333333333,
              "#9c179e"
             ],
             [
              0.4444444444444444,
              "#bd3786"
             ],
             [
              0.5555555555555556,
              "#d8576b"
             ],
             [
              0.6666666666666666,
              "#ed7953"
             ],
             [
              0.7777777777777778,
              "#fb9f3a"
             ],
             [
              0.8888888888888888,
              "#fdca26"
             ],
             [
              1,
              "#f0f921"
             ]
            ],
            "type": "surface"
           }
          ],
          "table": [
           {
            "cells": {
             "fill": {
              "color": "#EBF0F8"
             },
             "line": {
              "color": "white"
             }
            },
            "header": {
             "fill": {
              "color": "#C8D4E3"
             },
             "line": {
              "color": "white"
             }
            },
            "type": "table"
           }
          ]
         },
         "layout": {
          "annotationdefaults": {
           "arrowcolor": "#2a3f5f",
           "arrowhead": 0,
           "arrowwidth": 1
          },
          "autotypenumbers": "strict",
          "coloraxis": {
           "colorbar": {
            "outlinewidth": 0,
            "ticks": ""
           }
          },
          "colorscale": {
           "diverging": [
            [
             0,
             "#8e0152"
            ],
            [
             0.1,
             "#c51b7d"
            ],
            [
             0.2,
             "#de77ae"
            ],
            [
             0.3,
             "#f1b6da"
            ],
            [
             0.4,
             "#fde0ef"
            ],
            [
             0.5,
             "#f7f7f7"
            ],
            [
             0.6,
             "#e6f5d0"
            ],
            [
             0.7,
             "#b8e186"
            ],
            [
             0.8,
             "#7fbc41"
            ],
            [
             0.9,
             "#4d9221"
            ],
            [
             1,
             "#276419"
            ]
           ],
           "sequential": [
            [
             0,
             "#0d0887"
            ],
            [
             0.1111111111111111,
             "#46039f"
            ],
            [
             0.2222222222222222,
             "#7201a8"
            ],
            [
             0.3333333333333333,
             "#9c179e"
            ],
            [
             0.4444444444444444,
             "#bd3786"
            ],
            [
             0.5555555555555556,
             "#d8576b"
            ],
            [
             0.6666666666666666,
             "#ed7953"
            ],
            [
             0.7777777777777778,
             "#fb9f3a"
            ],
            [
             0.8888888888888888,
             "#fdca26"
            ],
            [
             1,
             "#f0f921"
            ]
           ],
           "sequentialminus": [
            [
             0,
             "#0d0887"
            ],
            [
             0.1111111111111111,
             "#46039f"
            ],
            [
             0.2222222222222222,
             "#7201a8"
            ],
            [
             0.3333333333333333,
             "#9c179e"
            ],
            [
             0.4444444444444444,
             "#bd3786"
            ],
            [
             0.5555555555555556,
             "#d8576b"
            ],
            [
             0.6666666666666666,
             "#ed7953"
            ],
            [
             0.7777777777777778,
             "#fb9f3a"
            ],
            [
             0.8888888888888888,
             "#fdca26"
            ],
            [
             1,
             "#f0f921"
            ]
           ]
          },
          "colorway": [
           "#636efa",
           "#EF553B",
           "#00cc96",
           "#ab63fa",
           "#FFA15A",
           "#19d3f3",
           "#FF6692",
           "#B6E880",
           "#FF97FF",
           "#FECB52"
          ],
          "font": {
           "color": "#2a3f5f"
          },
          "geo": {
           "bgcolor": "white",
           "lakecolor": "white",
           "landcolor": "#E5ECF6",
           "showlakes": true,
           "showland": true,
           "subunitcolor": "white"
          },
          "hoverlabel": {
           "align": "left"
          },
          "hovermode": "closest",
          "mapbox": {
           "style": "light"
          },
          "paper_bgcolor": "white",
          "plot_bgcolor": "#E5ECF6",
          "polar": {
           "angularaxis": {
            "gridcolor": "white",
            "linecolor": "white",
            "ticks": ""
           },
           "bgcolor": "#E5ECF6",
           "radialaxis": {
            "gridcolor": "white",
            "linecolor": "white",
            "ticks": ""
           }
          },
          "scene": {
           "xaxis": {
            "backgroundcolor": "#E5ECF6",
            "gridcolor": "white",
            "gridwidth": 2,
            "linecolor": "white",
            "showbackground": true,
            "ticks": "",
            "zerolinecolor": "white"
           },
           "yaxis": {
            "backgroundcolor": "#E5ECF6",
            "gridcolor": "white",
            "gridwidth": 2,
            "linecolor": "white",
            "showbackground": true,
            "ticks": "",
            "zerolinecolor": "white"
           },
           "zaxis": {
            "backgroundcolor": "#E5ECF6",
            "gridcolor": "white",
            "gridwidth": 2,
            "linecolor": "white",
            "showbackground": true,
            "ticks": "",
            "zerolinecolor": "white"
           }
          },
          "shapedefaults": {
           "line": {
            "color": "#2a3f5f"
           }
          },
          "ternary": {
           "aaxis": {
            "gridcolor": "white",
            "linecolor": "white",
            "ticks": ""
           },
           "baxis": {
            "gridcolor": "white",
            "linecolor": "white",
            "ticks": ""
           },
           "bgcolor": "#E5ECF6",
           "caxis": {
            "gridcolor": "white",
            "linecolor": "white",
            "ticks": ""
           }
          },
          "title": {
           "x": 0.05
          },
          "xaxis": {
           "automargin": true,
           "gridcolor": "white",
           "linecolor": "white",
           "ticks": "",
           "title": {
            "standoff": 15
           },
           "zerolinecolor": "white",
           "zerolinewidth": 2
          },
          "yaxis": {
           "automargin": true,
           "gridcolor": "white",
           "linecolor": "white",
           "ticks": "",
           "title": {
            "standoff": 15
           },
           "zerolinecolor": "white",
           "zerolinewidth": 2
          }
         }
        },
        "title": {
         "text": "Agent: Dyna-Q+, Number of episodes: 101<br>        <span style='font-size: 13px'>Model parameters: [learning rate: 0.125, epsilon: 0.1, discount: 0.9]</span>"
        },
        "width": 1200,
        "xaxis": {
         "anchor": "y",
         "domain": [
          0,
          0.45
         ]
        },
        "xaxis2": {
         "anchor": "y2",
         "domain": [
          0.55,
          1
         ]
        },
        "xaxis3": {
         "anchor": "y3",
         "domain": [
          0,
          1
         ]
        },
        "yaxis": {
         "anchor": "x",
         "domain": [
          0.565,
          1
         ]
        },
        "yaxis2": {
         "anchor": "x2",
         "domain": [
          0.565,
          1
         ]
        },
        "yaxis3": {
         "anchor": "x3",
         "domain": [
          0,
          0.435
         ]
        }
       }
      }
     },
     "metadata": {},
     "output_type": "display_data"
    },
    {
     "name": "stderr",
     "output_type": "stream",
     "text": [
      " 62%|██████▏   | 249/401 [00:28<00:09, 15.85it/s]"
     ]
    },
    {
     "data": {
      "application/vnd.plotly.v1+json": {
       "config": {
        "plotlyServerURL": "https://plot.ly"
       },
       "data": [
        {
         "colorbar": {
          "len": 0.473,
          "x": 0.45,
          "y": 0.78
         },
         "colorscale": [
          [
           0,
           "#440154"
          ],
          [
           0.1111111111111111,
           "#482878"
          ],
          [
           0.2222222222222222,
           "#3e4989"
          ],
          [
           0.3333333333333333,
           "#31688e"
          ],
          [
           0.4444444444444444,
           "#26828e"
          ],
          [
           0.5555555555555556,
           "#1f9e89"
          ],
          [
           0.6666666666666666,
           "#35b779"
          ],
          [
           0.7777777777777778,
           "#6ece58"
          ],
          [
           0.8888888888888888,
           "#b5de2b"
          ],
          [
           1,
           "#fde725"
          ]
         ],
         "type": "heatmap",
         "x": [
          "0",
          "1",
          "2",
          "3",
          "4",
          "5",
          "6",
          "7",
          "8",
          "9",
          "10",
          "11"
         ],
         "xaxis": "x",
         "y": [
          "7",
          "6",
          "5",
          "4",
          "3",
          "2",
          "1",
          "0"
         ],
         "yaxis": "y",
         "z": [
          [
           0.2784965932369232,
           0.2585154175758362,
           0.32632899284362793,
           0,
           0.5146021842956543,
           0.49621400237083435,
           0.5924902558326721,
           0.593478262424469,
           0.743379533290863,
           0.7450684905052185,
           0.7457443475723267,
           0.8490518927574158
          ],
          [
           0.30522388219833374,
           0.32851743698120117,
           0.3548221290111542,
           0,
           0.5341588258743286,
           0.5602471828460693,
           0.5876973271369934,
           0.6163857579231262,
           0.6779981255531311,
           0.7094351649284363,
           0,
           0.8481693267822266
          ],
          [
           0.33421748876571655,
           0.3649773895740509,
           0.39517146348953247,
           0,
           0.5140026211738586,
           0.5364667177200317,
           0.616732120513916,
           0.6483379006385803,
           0.6490791440010071,
           0.7609784603118896,
           0.6969387531280518,
           0.849503219127655
          ],
          [
           0.3663249611854553,
           0.39976006746292114,
           0.4393613040447235,
           0.4878509044647217,
           0.44950854778289795,
           0.5453158020973206,
           0.5867867469787598,
           0.6858837604522705,
           0.7268890738487244,
           0.770709753036499,
           0.7552867531776428,
           0.8487939834594727
          ],
          [
           0,
           0,
           0,
           0.5409807562828064,
           0.4952433705329895,
           0.546617865562439,
           0.618429958820343,
           0.65083909034729,
           0,
           0,
           0,
           0
          ],
          [
           0.5820292830467224,
           0.626434862613678,
           0.6644806861877441,
           0.5995750427246094,
           0.5452761650085449,
           0.49078047275543213,
           0.5994528532028198,
           0.6258821487426758,
           0,
           0,
           0.9972544312477112,
           0.8977572321891785
          ],
          [
           0.5882918834686279,
           0.6785083413124084,
           0.6578734517097473,
           0.6802416443824768,
           0.6350610852241516,
           0.521531343460083,
           0.538300633430481,
           0.6020013689994812,
           0,
           1.001599907875061,
           0.9036024212837219,
           0.6718132495880127
          ],
          [
           0.5826898217201233,
           0.5919459462165833,
           0.5953442454338074,
           0.6281643509864807,
           0.5936238169670105,
           0.5561755895614624,
           0.5736236572265625,
           0.5786164999008179,
           0,
           0.7496192455291748,
           0.8153685927391052,
           0.7358086109161377
          ]
         ]
        },
        {
         "colorbar": {
          "len": 0.473,
          "x": 1,
          "y": 0.78
         },
         "colorscale": [
          [
           0,
           "#440154"
          ],
          [
           0.1111111111111111,
           "#482878"
          ],
          [
           0.2222222222222222,
           "#3e4989"
          ],
          [
           0.3333333333333333,
           "#31688e"
          ],
          [
           0.4444444444444444,
           "#26828e"
          ],
          [
           0.5555555555555556,
           "#1f9e89"
          ],
          [
           0.6666666666666666,
           "#35b779"
          ],
          [
           0.7777777777777778,
           "#6ece58"
          ],
          [
           0.8888888888888888,
           "#b5de2b"
          ],
          [
           1,
           "#fde725"
          ]
         ],
         "type": "heatmap",
         "x": [
          "0",
          "1",
          "2",
          "3",
          "4",
          "5",
          "6",
          "7",
          "8",
          "9",
          "10",
          "11"
         ],
         "xaxis": "x2",
         "y": [
          "7",
          "6",
          "5",
          "4",
          "3",
          "2",
          "1",
          "0"
         ],
         "yaxis": "y2",
         "z": [
          [
           228,
           163,
           150,
           0,
           93,
           88,
           53,
           61,
           42,
           40,
           34,
           1
          ],
          [
           172,
           134,
           227,
           0,
           82,
           76,
           40,
           45,
           61,
           53,
           0,
           8
          ],
          [
           150,
           253,
           244,
           0,
           81,
           70,
           42,
           57,
           62,
           24,
           21,
           7
          ],
          [
           157,
           268,
           368,
           335,
           147,
           88,
           50,
           53,
           36,
           18,
           11,
           2
          ],
          [
           0,
           0,
           0,
           239,
           90,
           53,
           47,
           36,
           9,
           1,
           1,
           2
          ],
          [
           62,
           52,
           100,
           172,
           70,
           47,
           37,
           25,
           5,
           216,
           12,
           30
          ],
          [
           52,
           48,
           44,
           146,
           73,
           52,
           32,
           22,
           11,
           463,
           263,
           257
          ],
          [
           40,
           38,
           41,
           52,
           58,
           51,
           44,
           35,
           6,
           20,
           72,
           292
          ]
         ]
        },
        {
         "marker": {
          "color": [
           "#636EFA",
           "#636EFA",
           "#636EFA",
           "#636EFA",
           "#636EFA",
           "#636EFA",
           "#636EFA",
           "#00CC96",
           "#636EFA",
           "#636EFA",
           "#636EFA",
           "#636EFA",
           "#636EFA",
           "#636EFA",
           "#636EFA",
           "#636EFA",
           "#636EFA",
           "#636EFA",
           "#636EFA",
           "#636EFA",
           "#636EFA",
           "#636EFA",
           "#636EFA",
           "#636EFA",
           "#636EFA",
           "#636EFA",
           "#636EFA",
           "#636EFA",
           "#636EFA",
           "#636EFA",
           "#636EFA",
           "#636EFA",
           "#636EFA",
           "#636EFA",
           "#636EFA",
           "#636EFA",
           "#636EFA",
           "#636EFA",
           "#00CC96",
           "#636EFA",
           "#636EFA",
           "#636EFA",
           "#636EFA",
           "#636EFA",
           "#636EFA",
           "#636EFA",
           "#636EFA",
           "#636EFA",
           "#636EFA",
           "#636EFA",
           "#00CC96",
           "#636EFA",
           "#636EFA",
           "#636EFA",
           "#636EFA",
           "#636EFA",
           "#636EFA",
           "#636EFA",
           "#636EFA",
           "#636EFA",
           "#636EFA",
           "#636EFA",
           "#636EFA",
           "#636EFA",
           "#636EFA",
           "#EF553B",
           "#636EFA",
           "#636EFA",
           "#636EFA",
           "#636EFA",
           "#636EFA",
           "#636EFA",
           "#636EFA",
           "#636EFA",
           "#636EFA",
           "#636EFA",
           "#636EFA",
           "#636EFA",
           "#636EFA",
           "#EF553B",
           "#636EFA",
           "#636EFA",
           "#636EFA",
           "#636EFA",
           "#636EFA",
           "#636EFA",
           "#636EFA",
           "#636EFA",
           "#636EFA",
           "#636EFA",
           "#636EFA",
           "#636EFA",
           "#636EFA",
           "#636EFA",
           "#636EFA",
           "#636EFA",
           "#636EFA",
           "#636EFA",
           "#636EFA",
           "#636EFA",
           "#636EFA",
           "#636EFA",
           "#636EFA",
           "#636EFA",
           "#636EFA",
           "#636EFA",
           "#636EFA",
           "#636EFA",
           "#636EFA",
           "#636EFA",
           "#636EFA",
           "#636EFA",
           "#636EFA",
           "#636EFA",
           "#636EFA",
           "#636EFA",
           "#636EFA",
           "#636EFA",
           "#636EFA",
           "#636EFA",
           "#636EFA",
           "#636EFA",
           "#636EFA",
           "#636EFA",
           "#636EFA",
           "#636EFA",
           "#636EFA",
           "#636EFA",
           "#636EFA",
           "#EF553B",
           "#636EFA",
           "#636EFA",
           "#636EFA",
           "#636EFA",
           "#636EFA",
           "#636EFA",
           "#636EFA",
           "#636EFA",
           "#636EFA",
           "#636EFA",
           "#636EFA",
           "#636EFA",
           "#00CC96",
           "#00CC96",
           "#636EFA",
           "#00CC96",
           "#00CC96",
           "#00CC96",
           "#00CC96",
           "#636EFA",
           "#636EFA",
           "#00CC96",
           "#00CC96",
           "#00CC96",
           "#00CC96",
           "#636EFA",
           "#00CC96",
           "#636EFA",
           "#00CC96",
           "#636EFA",
           "#636EFA",
           "#636EFA",
           "#636EFA",
           "#EF553B",
           "#00CC96",
           "#00CC96",
           "#00CC96",
           "#636EFA",
           "#636EFA",
           "#636EFA",
           "#00CC96",
           "#636EFA",
           "#EF553B",
           "#636EFA",
           "#00CC96",
           "#636EFA",
           "#00CC96",
           "#00CC96",
           "#636EFA",
           "#636EFA",
           "#EF553B",
           "#636EFA",
           "#EF553B",
           "#636EFA",
           "#636EFA",
           "#00CC96",
           "#636EFA",
           "#636EFA",
           "#636EFA",
           "#636EFA",
           "#636EFA",
           "#636EFA",
           "#636EFA",
           "#636EFA",
           "#00CC96",
           "#00CC96",
           "#636EFA",
           "#636EFA",
           "#00CC96",
           "#636EFA",
           "#636EFA",
           "#636EFA",
           "#636EFA",
           "#00CC96",
           "#00CC96",
           "#636EFA",
           "#636EFA",
           "#00CC96",
           "#636EFA",
           "#00CC96",
           "#636EFA",
           "#00CC96",
           "#636EFA",
           "#636EFA",
           "#636EFA",
           "#00CC96",
           "#00CC96",
           "#636EFA",
           "#636EFA",
           "#636EFA",
           "#636EFA",
           "#636EFA",
           "#636EFA",
           "#636EFA",
           "#636EFA",
           "#636EFA",
           "#636EFA",
           "#00CC96",
           "#636EFA",
           "#636EFA",
           "#636EFA",
           "#EF553B",
           "#00CC96",
           "#636EFA",
           "#636EFA",
           "#636EFA",
           "#00CC96",
           "#00CC96",
           "#00CC96",
           "#636EFA",
           "#636EFA",
           "#636EFA",
           "#636EFA",
           "#636EFA",
           "#636EFA",
           "#636EFA",
           "#636EFA",
           "#636EFA",
           "#636EFA",
           "#00CC96",
           "#00CC96"
          ]
         },
         "type": "bar",
         "xaxis": "x3",
         "y": [
          38,
          189,
          90,
          134,
          31,
          167,
          192,
          12,
          38,
          85,
          16,
          285,
          205,
          112,
          65,
          97,
          31,
          30,
          38,
          26,
          31,
          29,
          89,
          41,
          15,
          39,
          37,
          33,
          27,
          22,
          35,
          28,
          22,
          25,
          23,
          32,
          16,
          32,
          12,
          19,
          18,
          327,
          26,
          192,
          32,
          28,
          43,
          24,
          37,
          24,
          12,
          34,
          23,
          24,
          30,
          38,
          44,
          33,
          25,
          25,
          21,
          19,
          19,
          10,
          19,
          17,
          22,
          19,
          23,
          19,
          29,
          51,
          23,
          33,
          76,
          146,
          153,
          26,
          40,
          17,
          19,
          21,
          20,
          25,
          25,
          19,
          26,
          21,
          57,
          44,
          40,
          20,
          24,
          57,
          27,
          21,
          23,
          31,
          29,
          23,
          23,
          41,
          28,
          25,
          21,
          20,
          51,
          75,
          52,
          30,
          42,
          21,
          29,
          22,
          31,
          22,
          14,
          14,
          16,
          14,
          16,
          18,
          14,
          14,
          15,
          16,
          19,
          16,
          14,
          17,
          14,
          14,
          14,
          18,
          18,
          16,
          15,
          14,
          14,
          24,
          23,
          36,
          12,
          12,
          14,
          12,
          12,
          12,
          12,
          14,
          14,
          12,
          12,
          12,
          12,
          22,
          12,
          13,
          12,
          13,
          13,
          14,
          15,
          17,
          12,
          12,
          12,
          14,
          14,
          13,
          12,
          16,
          17,
          14,
          12,
          14,
          12,
          12,
          72,
          134,
          17,
          30,
          17,
          14,
          11,
          12,
          14,
          20,
          14,
          13,
          15,
          14,
          26,
          15,
          12,
          12,
          15,
          14,
          12,
          14,
          13,
          14,
          13,
          12,
          12,
          16,
          16,
          12,
          14,
          12,
          13,
          12,
          14,
          32,
          16,
          12,
          12,
          16,
          14,
          16,
          16,
          13,
          22,
          14,
          16,
          15,
          22,
          12,
          14,
          14,
          24,
          17,
          12,
          14,
          14,
          24,
          12,
          12,
          12,
          16,
          20,
          20,
          45,
          19,
          26,
          15,
          14,
          13,
          13,
          12,
          12
         ],
         "yaxis": "y3"
        }
       ],
       "layout": {
        "annotations": [
         {
          "font": {
           "size": 16
          },
          "showarrow": false,
          "text": "State value function",
          "x": 0.225,
          "xanchor": "center",
          "xref": "paper",
          "y": 1,
          "yanchor": "bottom",
          "yref": "paper"
         },
         {
          "font": {
           "size": 16
          },
          "showarrow": false,
          "text": "Number of total visits",
          "x": 0.775,
          "xanchor": "center",
          "xref": "paper",
          "y": 1,
          "yanchor": "bottom",
          "yref": "paper"
         },
         {
          "font": {
           "size": 16
          },
          "showarrow": false,
          "text": "Number of steps per episode",
          "x": 0.5,
          "xanchor": "center",
          "xref": "paper",
          "y": 0.435,
          "yanchor": "bottom",
          "yref": "paper"
         }
        ],
        "height": 900,
        "template": {
         "data": {
          "bar": [
           {
            "error_x": {
             "color": "#2a3f5f"
            },
            "error_y": {
             "color": "#2a3f5f"
            },
            "marker": {
             "line": {
              "color": "#E5ECF6",
              "width": 0.5
             },
             "pattern": {
              "fillmode": "overlay",
              "size": 10,
              "solidity": 0.2
             }
            },
            "type": "bar"
           }
          ],
          "barpolar": [
           {
            "marker": {
             "line": {
              "color": "#E5ECF6",
              "width": 0.5
             },
             "pattern": {
              "fillmode": "overlay",
              "size": 10,
              "solidity": 0.2
             }
            },
            "type": "barpolar"
           }
          ],
          "carpet": [
           {
            "aaxis": {
             "endlinecolor": "#2a3f5f",
             "gridcolor": "white",
             "linecolor": "white",
             "minorgridcolor": "white",
             "startlinecolor": "#2a3f5f"
            },
            "baxis": {
             "endlinecolor": "#2a3f5f",
             "gridcolor": "white",
             "linecolor": "white",
             "minorgridcolor": "white",
             "startlinecolor": "#2a3f5f"
            },
            "type": "carpet"
           }
          ],
          "choropleth": [
           {
            "colorbar": {
             "outlinewidth": 0,
             "ticks": ""
            },
            "type": "choropleth"
           }
          ],
          "contour": [
           {
            "colorbar": {
             "outlinewidth": 0,
             "ticks": ""
            },
            "colorscale": [
             [
              0,
              "#0d0887"
             ],
             [
              0.1111111111111111,
              "#46039f"
             ],
             [
              0.2222222222222222,
              "#7201a8"
             ],
             [
              0.3333333333333333,
              "#9c179e"
             ],
             [
              0.4444444444444444,
              "#bd3786"
             ],
             [
              0.5555555555555556,
              "#d8576b"
             ],
             [
              0.6666666666666666,
              "#ed7953"
             ],
             [
              0.7777777777777778,
              "#fb9f3a"
             ],
             [
              0.8888888888888888,
              "#fdca26"
             ],
             [
              1,
              "#f0f921"
             ]
            ],
            "type": "contour"
           }
          ],
          "contourcarpet": [
           {
            "colorbar": {
             "outlinewidth": 0,
             "ticks": ""
            },
            "type": "contourcarpet"
           }
          ],
          "heatmap": [
           {
            "colorbar": {
             "outlinewidth": 0,
             "ticks": ""
            },
            "colorscale": [
             [
              0,
              "#0d0887"
             ],
             [
              0.1111111111111111,
              "#46039f"
             ],
             [
              0.2222222222222222,
              "#7201a8"
             ],
             [
              0.3333333333333333,
              "#9c179e"
             ],
             [
              0.4444444444444444,
              "#bd3786"
             ],
             [
              0.5555555555555556,
              "#d8576b"
             ],
             [
              0.6666666666666666,
              "#ed7953"
             ],
             [
              0.7777777777777778,
              "#fb9f3a"
             ],
             [
              0.8888888888888888,
              "#fdca26"
             ],
             [
              1,
              "#f0f921"
             ]
            ],
            "type": "heatmap"
           }
          ],
          "heatmapgl": [
           {
            "colorbar": {
             "outlinewidth": 0,
             "ticks": ""
            },
            "colorscale": [
             [
              0,
              "#0d0887"
             ],
             [
              0.1111111111111111,
              "#46039f"
             ],
             [
              0.2222222222222222,
              "#7201a8"
             ],
             [
              0.3333333333333333,
              "#9c179e"
             ],
             [
              0.4444444444444444,
              "#bd3786"
             ],
             [
              0.5555555555555556,
              "#d8576b"
             ],
             [
              0.6666666666666666,
              "#ed7953"
             ],
             [
              0.7777777777777778,
              "#fb9f3a"
             ],
             [
              0.8888888888888888,
              "#fdca26"
             ],
             [
              1,
              "#f0f921"
             ]
            ],
            "type": "heatmapgl"
           }
          ],
          "histogram": [
           {
            "marker": {
             "pattern": {
              "fillmode": "overlay",
              "size": 10,
              "solidity": 0.2
             }
            },
            "type": "histogram"
           }
          ],
          "histogram2d": [
           {
            "colorbar": {
             "outlinewidth": 0,
             "ticks": ""
            },
            "colorscale": [
             [
              0,
              "#0d0887"
             ],
             [
              0.1111111111111111,
              "#46039f"
             ],
             [
              0.2222222222222222,
              "#7201a8"
             ],
             [
              0.3333333333333333,
              "#9c179e"
             ],
             [
              0.4444444444444444,
              "#bd3786"
             ],
             [
              0.5555555555555556,
              "#d8576b"
             ],
             [
              0.6666666666666666,
              "#ed7953"
             ],
             [
              0.7777777777777778,
              "#fb9f3a"
             ],
             [
              0.8888888888888888,
              "#fdca26"
             ],
             [
              1,
              "#f0f921"
             ]
            ],
            "type": "histogram2d"
           }
          ],
          "histogram2dcontour": [
           {
            "colorbar": {
             "outlinewidth": 0,
             "ticks": ""
            },
            "colorscale": [
             [
              0,
              "#0d0887"
             ],
             [
              0.1111111111111111,
              "#46039f"
             ],
             [
              0.2222222222222222,
              "#7201a8"
             ],
             [
              0.3333333333333333,
              "#9c179e"
             ],
             [
              0.4444444444444444,
              "#bd3786"
             ],
             [
              0.5555555555555556,
              "#d8576b"
             ],
             [
              0.6666666666666666,
              "#ed7953"
             ],
             [
              0.7777777777777778,
              "#fb9f3a"
             ],
             [
              0.8888888888888888,
              "#fdca26"
             ],
             [
              1,
              "#f0f921"
             ]
            ],
            "type": "histogram2dcontour"
           }
          ],
          "mesh3d": [
           {
            "colorbar": {
             "outlinewidth": 0,
             "ticks": ""
            },
            "type": "mesh3d"
           }
          ],
          "parcoords": [
           {
            "line": {
             "colorbar": {
              "outlinewidth": 0,
              "ticks": ""
             }
            },
            "type": "parcoords"
           }
          ],
          "pie": [
           {
            "automargin": true,
            "type": "pie"
           }
          ],
          "scatter": [
           {
            "fillpattern": {
             "fillmode": "overlay",
             "size": 10,
             "solidity": 0.2
            },
            "type": "scatter"
           }
          ],
          "scatter3d": [
           {
            "line": {
             "colorbar": {
              "outlinewidth": 0,
              "ticks": ""
             }
            },
            "marker": {
             "colorbar": {
              "outlinewidth": 0,
              "ticks": ""
             }
            },
            "type": "scatter3d"
           }
          ],
          "scattercarpet": [
           {
            "marker": {
             "colorbar": {
              "outlinewidth": 0,
              "ticks": ""
             }
            },
            "type": "scattercarpet"
           }
          ],
          "scattergeo": [
           {
            "marker": {
             "colorbar": {
              "outlinewidth": 0,
              "ticks": ""
             }
            },
            "type": "scattergeo"
           }
          ],
          "scattergl": [
           {
            "marker": {
             "colorbar": {
              "outlinewidth": 0,
              "ticks": ""
             }
            },
            "type": "scattergl"
           }
          ],
          "scattermapbox": [
           {
            "marker": {
             "colorbar": {
              "outlinewidth": 0,
              "ticks": ""
             }
            },
            "type": "scattermapbox"
           }
          ],
          "scatterpolar": [
           {
            "marker": {
             "colorbar": {
              "outlinewidth": 0,
              "ticks": ""
             }
            },
            "type": "scatterpolar"
           }
          ],
          "scatterpolargl": [
           {
            "marker": {
             "colorbar": {
              "outlinewidth": 0,
              "ticks": ""
             }
            },
            "type": "scatterpolargl"
           }
          ],
          "scatterternary": [
           {
            "marker": {
             "colorbar": {
              "outlinewidth": 0,
              "ticks": ""
             }
            },
            "type": "scatterternary"
           }
          ],
          "surface": [
           {
            "colorbar": {
             "outlinewidth": 0,
             "ticks": ""
            },
            "colorscale": [
             [
              0,
              "#0d0887"
             ],
             [
              0.1111111111111111,
              "#46039f"
             ],
             [
              0.2222222222222222,
              "#7201a8"
             ],
             [
              0.3333333333333333,
              "#9c179e"
             ],
             [
              0.4444444444444444,
              "#bd3786"
             ],
             [
              0.5555555555555556,
              "#d8576b"
             ],
             [
              0.6666666666666666,
              "#ed7953"
             ],
             [
              0.7777777777777778,
              "#fb9f3a"
             ],
             [
              0.8888888888888888,
              "#fdca26"
             ],
             [
              1,
              "#f0f921"
             ]
            ],
            "type": "surface"
           }
          ],
          "table": [
           {
            "cells": {
             "fill": {
              "color": "#EBF0F8"
             },
             "line": {
              "color": "white"
             }
            },
            "header": {
             "fill": {
              "color": "#C8D4E3"
             },
             "line": {
              "color": "white"
             }
            },
            "type": "table"
           }
          ]
         },
         "layout": {
          "annotationdefaults": {
           "arrowcolor": "#2a3f5f",
           "arrowhead": 0,
           "arrowwidth": 1
          },
          "autotypenumbers": "strict",
          "coloraxis": {
           "colorbar": {
            "outlinewidth": 0,
            "ticks": ""
           }
          },
          "colorscale": {
           "diverging": [
            [
             0,
             "#8e0152"
            ],
            [
             0.1,
             "#c51b7d"
            ],
            [
             0.2,
             "#de77ae"
            ],
            [
             0.3,
             "#f1b6da"
            ],
            [
             0.4,
             "#fde0ef"
            ],
            [
             0.5,
             "#f7f7f7"
            ],
            [
             0.6,
             "#e6f5d0"
            ],
            [
             0.7,
             "#b8e186"
            ],
            [
             0.8,
             "#7fbc41"
            ],
            [
             0.9,
             "#4d9221"
            ],
            [
             1,
             "#276419"
            ]
           ],
           "sequential": [
            [
             0,
             "#0d0887"
            ],
            [
             0.1111111111111111,
             "#46039f"
            ],
            [
             0.2222222222222222,
             "#7201a8"
            ],
            [
             0.3333333333333333,
             "#9c179e"
            ],
            [
             0.4444444444444444,
             "#bd3786"
            ],
            [
             0.5555555555555556,
             "#d8576b"
            ],
            [
             0.6666666666666666,
             "#ed7953"
            ],
            [
             0.7777777777777778,
             "#fb9f3a"
            ],
            [
             0.8888888888888888,
             "#fdca26"
            ],
            [
             1,
             "#f0f921"
            ]
           ],
           "sequentialminus": [
            [
             0,
             "#0d0887"
            ],
            [
             0.1111111111111111,
             "#46039f"
            ],
            [
             0.2222222222222222,
             "#7201a8"
            ],
            [
             0.3333333333333333,
             "#9c179e"
            ],
            [
             0.4444444444444444,
             "#bd3786"
            ],
            [
             0.5555555555555556,
             "#d8576b"
            ],
            [
             0.6666666666666666,
             "#ed7953"
            ],
            [
             0.7777777777777778,
             "#fb9f3a"
            ],
            [
             0.8888888888888888,
             "#fdca26"
            ],
            [
             1,
             "#f0f921"
            ]
           ]
          },
          "colorway": [
           "#636efa",
           "#EF553B",
           "#00cc96",
           "#ab63fa",
           "#FFA15A",
           "#19d3f3",
           "#FF6692",
           "#B6E880",
           "#FF97FF",
           "#FECB52"
          ],
          "font": {
           "color": "#2a3f5f"
          },
          "geo": {
           "bgcolor": "white",
           "lakecolor": "white",
           "landcolor": "#E5ECF6",
           "showlakes": true,
           "showland": true,
           "subunitcolor": "white"
          },
          "hoverlabel": {
           "align": "left"
          },
          "hovermode": "closest",
          "mapbox": {
           "style": "light"
          },
          "paper_bgcolor": "white",
          "plot_bgcolor": "#E5ECF6",
          "polar": {
           "angularaxis": {
            "gridcolor": "white",
            "linecolor": "white",
            "ticks": ""
           },
           "bgcolor": "#E5ECF6",
           "radialaxis": {
            "gridcolor": "white",
            "linecolor": "white",
            "ticks": ""
           }
          },
          "scene": {
           "xaxis": {
            "backgroundcolor": "#E5ECF6",
            "gridcolor": "white",
            "gridwidth": 2,
            "linecolor": "white",
            "showbackground": true,
            "ticks": "",
            "zerolinecolor": "white"
           },
           "yaxis": {
            "backgroundcolor": "#E5ECF6",
            "gridcolor": "white",
            "gridwidth": 2,
            "linecolor": "white",
            "showbackground": true,
            "ticks": "",
            "zerolinecolor": "white"
           },
           "zaxis": {
            "backgroundcolor": "#E5ECF6",
            "gridcolor": "white",
            "gridwidth": 2,
            "linecolor": "white",
            "showbackground": true,
            "ticks": "",
            "zerolinecolor": "white"
           }
          },
          "shapedefaults": {
           "line": {
            "color": "#2a3f5f"
           }
          },
          "ternary": {
           "aaxis": {
            "gridcolor": "white",
            "linecolor": "white",
            "ticks": ""
           },
           "baxis": {
            "gridcolor": "white",
            "linecolor": "white",
            "ticks": ""
           },
           "bgcolor": "#E5ECF6",
           "caxis": {
            "gridcolor": "white",
            "linecolor": "white",
            "ticks": ""
           }
          },
          "title": {
           "x": 0.05
          },
          "xaxis": {
           "automargin": true,
           "gridcolor": "white",
           "linecolor": "white",
           "ticks": "",
           "title": {
            "standoff": 15
           },
           "zerolinecolor": "white",
           "zerolinewidth": 2
          },
          "yaxis": {
           "automargin": true,
           "gridcolor": "white",
           "linecolor": "white",
           "ticks": "",
           "title": {
            "standoff": 15
           },
           "zerolinecolor": "white",
           "zerolinewidth": 2
          }
         }
        },
        "title": {
         "text": "Agent: Dyna-Q+, Number of episodes: 251<br>        <span style='font-size: 13px'>Model parameters: [learning rate: 0.125, epsilon: 0.1, discount: 0.9]</span>"
        },
        "width": 1200,
        "xaxis": {
         "anchor": "y",
         "domain": [
          0,
          0.45
         ]
        },
        "xaxis2": {
         "anchor": "y2",
         "domain": [
          0.55,
          1
         ]
        },
        "xaxis3": {
         "anchor": "y3",
         "domain": [
          0,
          1
         ]
        },
        "yaxis": {
         "anchor": "x",
         "domain": [
          0.565,
          1
         ]
        },
        "yaxis2": {
         "anchor": "x2",
         "domain": [
          0.565,
          1
         ]
        },
        "yaxis3": {
         "anchor": "x3",
         "domain": [
          0,
          0.435
         ]
        }
       }
      }
     },
     "metadata": {},
     "output_type": "display_data"
    },
    {
     "name": "stderr",
     "output_type": "stream",
     "text": [
      "100%|█████████▉| 399/401 [00:38<00:00, 18.47it/s]"
     ]
    },
    {
     "data": {
      "application/vnd.plotly.v1+json": {
       "config": {
        "plotlyServerURL": "https://plot.ly"
       },
       "data": [
        {
         "colorbar": {
          "len": 0.473,
          "x": 0.45,
          "y": 0.78
         },
         "colorscale": [
          [
           0,
           "#440154"
          ],
          [
           0.1111111111111111,
           "#482878"
          ],
          [
           0.2222222222222222,
           "#3e4989"
          ],
          [
           0.3333333333333333,
           "#31688e"
          ],
          [
           0.4444444444444444,
           "#26828e"
          ],
          [
           0.5555555555555556,
           "#1f9e89"
          ],
          [
           0.6666666666666666,
           "#35b779"
          ],
          [
           0.7777777777777778,
           "#6ece58"
          ],
          [
           0.8888888888888888,
           "#b5de2b"
          ],
          [
           1,
           "#fde725"
          ]
         ],
         "type": "heatmap",
         "x": [
          "0",
          "1",
          "2",
          "3",
          "4",
          "5",
          "6",
          "7",
          "8",
          "9",
          "10",
          "11"
         ],
         "xaxis": "x",
         "y": [
          "7",
          "6",
          "5",
          "4",
          "3",
          "2",
          "1",
          "0"
         ],
         "yaxis": "y",
         "z": [
          [
           0.27560704946517944,
           0.29614341259002686,
           0.3255676329135895,
           0,
           0.5856889486312866,
           0.6920174360275269,
           0.7671669721603394,
           0.7635812163352966,
           0.7822529077529907,
           0.8330652117729187,
           0.8883386254310608,
           0.8538627624511719
          ],
          [
           0.25966694951057434,
           0.3293428421020508,
           0.35926467180252075,
           0,
           0.5821882486343384,
           0.6573102474212646,
           0.664673388004303,
           0.7147928476333618,
           0.7701605558395386,
           0.7912182807922363,
           0,
           0.9114599227905273
          ],
          [
           0.3689194321632385,
           0.3765351176261902,
           0.3960466980934143,
           0,
           0.3887924253940582,
           0.3932885527610779,
           0.3960000276565552,
           0.729780912399292,
           0.7738616466522217,
           0.9045600891113281,
           0.7917675971984863,
           0.9768930077552795
          ],
          [
           0.38959673047065735,
           0.4116923213005066,
           0.4393600523471832,
           0.48614540696144104,
           0.3862200975418091,
           0.35834166407585144,
           0.3944721519947052,
           0.6901277899742126,
           0.7791168093681335,
           0.7881763577461243,
           0.8487300276756287,
           0.9794299006462097
          ],
          [
           0,
           0,
           0,
           0.5361617207527161,
           0.47124800086021423,
           0.35615384578704834,
           0.394119530916214,
           0.4133215546607971,
           0,
           0,
           0,
           0
          ],
          [
           0.5750266909599304,
           0.6115679144859314,
           0.6506859064102173,
           0.590503990650177,
           0.50639408826828,
           0.3655869662761688,
           0.37628594040870667,
           0.41283392906188965,
           0,
           0,
           1.0162830352783203,
           0.9551082253456116
          ],
          [
           0.5410065650939941,
           0.4515797197818756,
           0.7617484927177429,
           0.6625544428825378,
           0.5368198156356812,
           0.532268762588501,
           0.6260162591934204,
           0.43109193444252014,
           0,
           1.0006235837936401,
           0.8940294981002808,
           0.6610202193260193
          ],
          [
           0.5087525248527527,
           0.4793245792388916,
           0.6663832664489746,
           0.6191214323043823,
           0.5765260457992554,
           0.5534248948097229,
           0.65347820520401,
           0.39601558446884155,
           0,
           0.7489462494850159,
           0.8020392656326294,
           0.7207884192466736
          ]
         ]
        },
        {
         "colorbar": {
          "len": 0.473,
          "x": 1,
          "y": 0.78
         },
         "colorscale": [
          [
           0,
           "#440154"
          ],
          [
           0.1111111111111111,
           "#482878"
          ],
          [
           0.2222222222222222,
           "#3e4989"
          ],
          [
           0.3333333333333333,
           "#31688e"
          ],
          [
           0.4444444444444444,
           "#26828e"
          ],
          [
           0.5555555555555556,
           "#1f9e89"
          ],
          [
           0.6666666666666666,
           "#35b779"
          ],
          [
           0.7777777777777778,
           "#6ece58"
          ],
          [
           0.8888888888888888,
           "#b5de2b"
          ],
          [
           1,
           "#fde725"
          ]
         ],
         "type": "heatmap",
         "x": [
          "0",
          "1",
          "2",
          "3",
          "4",
          "5",
          "6",
          "7",
          "8",
          "9",
          "10",
          "11"
         ],
         "xaxis": "x2",
         "y": [
          "7",
          "6",
          "5",
          "4",
          "3",
          "2",
          "1",
          "0"
         ],
         "yaxis": "y2",
         "z": [
          [
           270,
           218,
           198,
           0,
           94,
           89,
           53,
           62,
           46,
           44,
           36,
           7
          ],
          [
           206,
           154,
           325,
           0,
           85,
           78,
           42,
           45,
           63,
           55,
           0,
           10
          ],
          [
           170,
           336,
           370,
           0,
           91,
           77,
           49,
           59,
           63,
           24,
           22,
           8
          ],
          [
           184,
           333,
           545,
           502,
           163,
           94,
           56,
           57,
           37,
           20,
           11,
           2
          ],
          [
           0,
           0,
           0,
           394,
           103,
           62,
           57,
           48,
           10,
           2,
           3,
           2
          ],
          [
           82,
           65,
           198,
           327,
           82,
           54,
           42,
           34,
           6,
           356,
           148,
           32
          ],
          [
           80,
           60,
           44,
           200,
           78,
           55,
           35,
           30,
           14,
           617,
           414,
           263
          ],
          [
           58,
           54,
           46,
           55,
           65,
           55,
           46,
           44,
           8,
           25,
           233,
           455
          ]
         ]
        },
        {
         "marker": {
          "color": [
           "#636EFA",
           "#636EFA",
           "#636EFA",
           "#636EFA",
           "#636EFA",
           "#636EFA",
           "#636EFA",
           "#00CC96",
           "#636EFA",
           "#636EFA",
           "#636EFA",
           "#636EFA",
           "#636EFA",
           "#636EFA",
           "#636EFA",
           "#636EFA",
           "#636EFA",
           "#636EFA",
           "#636EFA",
           "#636EFA",
           "#636EFA",
           "#636EFA",
           "#636EFA",
           "#636EFA",
           "#636EFA",
           "#636EFA",
           "#636EFA",
           "#636EFA",
           "#636EFA",
           "#636EFA",
           "#636EFA",
           "#636EFA",
           "#636EFA",
           "#636EFA",
           "#636EFA",
           "#636EFA",
           "#636EFA",
           "#636EFA",
           "#00CC96",
           "#636EFA",
           "#636EFA",
           "#636EFA",
           "#636EFA",
           "#636EFA",
           "#636EFA",
           "#636EFA",
           "#636EFA",
           "#636EFA",
           "#636EFA",
           "#636EFA",
           "#00CC96",
           "#636EFA",
           "#636EFA",
           "#636EFA",
           "#636EFA",
           "#636EFA",
           "#636EFA",
           "#636EFA",
           "#636EFA",
           "#636EFA",
           "#636EFA",
           "#636EFA",
           "#636EFA",
           "#636EFA",
           "#636EFA",
           "#EF553B",
           "#636EFA",
           "#636EFA",
           "#636EFA",
           "#636EFA",
           "#636EFA",
           "#636EFA",
           "#636EFA",
           "#636EFA",
           "#636EFA",
           "#636EFA",
           "#636EFA",
           "#636EFA",
           "#636EFA",
           "#EF553B",
           "#636EFA",
           "#636EFA",
           "#636EFA",
           "#636EFA",
           "#636EFA",
           "#636EFA",
           "#636EFA",
           "#636EFA",
           "#636EFA",
           "#636EFA",
           "#636EFA",
           "#636EFA",
           "#636EFA",
           "#636EFA",
           "#636EFA",
           "#636EFA",
           "#636EFA",
           "#636EFA",
           "#636EFA",
           "#636EFA",
           "#636EFA",
           "#636EFA",
           "#636EFA",
           "#636EFA",
           "#636EFA",
           "#636EFA",
           "#636EFA",
           "#636EFA",
           "#636EFA",
           "#636EFA",
           "#636EFA",
           "#636EFA",
           "#636EFA",
           "#636EFA",
           "#636EFA",
           "#636EFA",
           "#636EFA",
           "#636EFA",
           "#636EFA",
           "#636EFA",
           "#636EFA",
           "#636EFA",
           "#636EFA",
           "#636EFA",
           "#636EFA",
           "#636EFA",
           "#636EFA",
           "#636EFA",
           "#636EFA",
           "#EF553B",
           "#636EFA",
           "#636EFA",
           "#636EFA",
           "#636EFA",
           "#636EFA",
           "#636EFA",
           "#636EFA",
           "#636EFA",
           "#636EFA",
           "#636EFA",
           "#636EFA",
           "#636EFA",
           "#00CC96",
           "#00CC96",
           "#636EFA",
           "#00CC96",
           "#00CC96",
           "#00CC96",
           "#00CC96",
           "#636EFA",
           "#636EFA",
           "#00CC96",
           "#00CC96",
           "#00CC96",
           "#00CC96",
           "#636EFA",
           "#00CC96",
           "#636EFA",
           "#00CC96",
           "#636EFA",
           "#636EFA",
           "#636EFA",
           "#636EFA",
           "#EF553B",
           "#00CC96",
           "#00CC96",
           "#00CC96",
           "#636EFA",
           "#636EFA",
           "#636EFA",
           "#00CC96",
           "#636EFA",
           "#EF553B",
           "#636EFA",
           "#00CC96",
           "#636EFA",
           "#00CC96",
           "#00CC96",
           "#636EFA",
           "#636EFA",
           "#EF553B",
           "#636EFA",
           "#EF553B",
           "#636EFA",
           "#636EFA",
           "#00CC96",
           "#636EFA",
           "#636EFA",
           "#636EFA",
           "#636EFA",
           "#636EFA",
           "#636EFA",
           "#636EFA",
           "#636EFA",
           "#00CC96",
           "#00CC96",
           "#636EFA",
           "#636EFA",
           "#00CC96",
           "#636EFA",
           "#636EFA",
           "#636EFA",
           "#636EFA",
           "#00CC96",
           "#00CC96",
           "#636EFA",
           "#636EFA",
           "#00CC96",
           "#636EFA",
           "#00CC96",
           "#636EFA",
           "#00CC96",
           "#636EFA",
           "#636EFA",
           "#636EFA",
           "#00CC96",
           "#00CC96",
           "#636EFA",
           "#636EFA",
           "#636EFA",
           "#636EFA",
           "#636EFA",
           "#636EFA",
           "#636EFA",
           "#636EFA",
           "#636EFA",
           "#636EFA",
           "#00CC96",
           "#636EFA",
           "#636EFA",
           "#636EFA",
           "#EF553B",
           "#00CC96",
           "#636EFA",
           "#636EFA",
           "#636EFA",
           "#00CC96",
           "#00CC96",
           "#00CC96",
           "#636EFA",
           "#636EFA",
           "#636EFA",
           "#636EFA",
           "#636EFA",
           "#636EFA",
           "#636EFA",
           "#636EFA",
           "#636EFA",
           "#636EFA",
           "#00CC96",
           "#00CC96",
           "#636EFA",
           "#00CC96",
           "#636EFA",
           "#636EFA",
           "#636EFA",
           "#636EFA",
           "#636EFA",
           "#636EFA",
           "#636EFA",
           "#636EFA",
           "#00CC96",
           "#00CC96",
           "#00CC96",
           "#EF553B",
           "#636EFA",
           "#636EFA",
           "#636EFA",
           "#636EFA",
           "#00CC96",
           "#636EFA",
           "#00CC96",
           "#00CC96",
           "#00CC96",
           "#00CC96",
           "#00CC96",
           "#636EFA",
           "#636EFA",
           "#636EFA",
           "#636EFA",
           "#636EFA",
           "#00CC96",
           "#EF553B",
           "#00CC96",
           "#00CC96",
           "#00CC96",
           "#00CC96",
           "#636EFA",
           "#00CC96",
           "#636EFA",
           "#00CC96",
           "#636EFA",
           "#636EFA",
           "#636EFA",
           "#636EFA",
           "#636EFA",
           "#636EFA",
           "#636EFA",
           "#636EFA",
           "#636EFA",
           "#636EFA",
           "#636EFA",
           "#636EFA",
           "#636EFA",
           "#636EFA",
           "#636EFA",
           "#00CC96",
           "#00CC96",
           "#636EFA",
           "#00CC96",
           "#636EFA",
           "#00CC96",
           "#636EFA",
           "#00CC96",
           "#636EFA",
           "#636EFA",
           "#00CC96",
           "#00CC96",
           "#00CC96",
           "#00CC96",
           "#636EFA",
           "#636EFA",
           "#00CC96",
           "#636EFA",
           "#636EFA",
           "#636EFA",
           "#00CC96",
           "#636EFA",
           "#00CC96",
           "#636EFA",
           "#636EFA",
           "#636EFA",
           "#636EFA",
           "#636EFA",
           "#EF553B",
           "#636EFA",
           "#636EFA",
           "#636EFA",
           "#636EFA",
           "#636EFA",
           "#636EFA",
           "#636EFA",
           "#636EFA",
           "#00CC96",
           "#00CC96",
           "#636EFA",
           "#636EFA",
           "#00CC96",
           "#636EFA",
           "#636EFA",
           "#636EFA",
           "#00CC96",
           "#00CC96",
           "#00CC96",
           "#00CC96",
           "#00CC96",
           "#00CC96",
           "#00CC96",
           "#636EFA",
           "#636EFA",
           "#636EFA",
           "#636EFA",
           "#636EFA",
           "#636EFA",
           "#636EFA",
           "#00CC96",
           "#636EFA",
           "#00CC96",
           "#636EFA",
           "#00CC96",
           "#636EFA",
           "#EF553B",
           "#636EFA",
           "#636EFA",
           "#EF553B",
           "#636EFA",
           "#636EFA",
           "#636EFA",
           "#636EFA",
           "#636EFA",
           "#00CC96",
           "#636EFA",
           "#636EFA",
           "#636EFA",
           "#00CC96",
           "#00CC96",
           "#636EFA",
           "#00CC96",
           "#636EFA",
           "#00CC96",
           "#00CC96",
           "#636EFA",
           "#636EFA",
           "#00CC96",
           "#00CC96",
           "#636EFA",
           "#00CC96",
           "#00CC96",
           "#636EFA",
           "#636EFA",
           "#EF553B"
          ]
         },
         "type": "bar",
         "xaxis": "x3",
         "y": [
          38,
          189,
          90,
          134,
          31,
          167,
          192,
          12,
          38,
          85,
          16,
          285,
          205,
          112,
          65,
          97,
          31,
          30,
          38,
          26,
          31,
          29,
          89,
          41,
          15,
          39,
          37,
          33,
          27,
          22,
          35,
          28,
          22,
          25,
          23,
          32,
          16,
          32,
          12,
          19,
          18,
          327,
          26,
          192,
          32,
          28,
          43,
          24,
          37,
          24,
          12,
          34,
          23,
          24,
          30,
          38,
          44,
          33,
          25,
          25,
          21,
          19,
          19,
          10,
          19,
          17,
          22,
          19,
          23,
          19,
          29,
          51,
          23,
          33,
          76,
          146,
          153,
          26,
          40,
          17,
          19,
          21,
          20,
          25,
          25,
          19,
          26,
          21,
          57,
          44,
          40,
          20,
          24,
          57,
          27,
          21,
          23,
          31,
          29,
          23,
          23,
          41,
          28,
          25,
          21,
          20,
          51,
          75,
          52,
          30,
          42,
          21,
          29,
          22,
          31,
          22,
          14,
          14,
          16,
          14,
          16,
          18,
          14,
          14,
          15,
          16,
          19,
          16,
          14,
          17,
          14,
          14,
          14,
          18,
          18,
          16,
          15,
          14,
          14,
          24,
          23,
          36,
          12,
          12,
          14,
          12,
          12,
          12,
          12,
          14,
          14,
          12,
          12,
          12,
          12,
          22,
          12,
          13,
          12,
          13,
          13,
          14,
          15,
          17,
          12,
          12,
          12,
          14,
          14,
          13,
          12,
          16,
          17,
          14,
          12,
          14,
          12,
          12,
          72,
          134,
          17,
          30,
          17,
          14,
          11,
          12,
          14,
          20,
          14,
          13,
          15,
          14,
          26,
          15,
          12,
          12,
          15,
          14,
          12,
          14,
          13,
          14,
          13,
          12,
          12,
          16,
          16,
          12,
          14,
          12,
          13,
          12,
          14,
          32,
          16,
          12,
          12,
          16,
          14,
          16,
          16,
          13,
          22,
          14,
          16,
          15,
          22,
          12,
          14,
          14,
          24,
          17,
          12,
          14,
          14,
          24,
          12,
          12,
          12,
          16,
          20,
          20,
          45,
          19,
          26,
          15,
          14,
          13,
          13,
          12,
          12,
          14,
          12,
          14,
          19,
          25,
          26,
          18,
          15,
          14,
          13,
          12,
          12,
          12,
          17,
          13,
          21,
          13,
          15,
          12,
          14,
          12,
          12,
          12,
          12,
          12,
          13,
          14,
          14,
          20,
          13,
          12,
          17,
          12,
          12,
          12,
          12,
          19,
          12,
          13,
          12,
          18,
          14,
          19,
          34,
          18,
          30,
          16,
          16,
          14,
          18,
          20,
          18,
          16,
          15,
          16,
          12,
          12,
          14,
          12,
          13,
          12,
          14,
          12,
          18,
          14,
          12,
          12,
          12,
          12,
          13,
          15,
          12,
          13,
          14,
          14,
          12,
          16,
          12,
          15,
          29,
          50,
          45,
          14,
          17,
          16,
          14,
          14,
          25,
          25,
          72,
          33,
          23,
          12,
          12,
          14,
          13,
          12,
          14,
          15,
          16,
          12,
          12,
          12,
          12,
          12,
          12,
          12,
          21,
          13,
          15,
          33,
          26,
          32,
          87,
          12,
          14,
          12,
          14,
          12,
          19,
          17,
          19,
          37,
          17,
          16,
          20,
          18,
          20,
          14,
          12,
          14,
          25,
          13,
          12,
          12,
          14,
          12,
          23,
          12,
          12,
          13,
          14,
          12,
          12,
          14,
          12,
          12,
          16,
          14,
          17
         ],
         "yaxis": "y3"
        }
       ],
       "layout": {
        "annotations": [
         {
          "font": {
           "size": 16
          },
          "showarrow": false,
          "text": "State value function",
          "x": 0.225,
          "xanchor": "center",
          "xref": "paper",
          "y": 1,
          "yanchor": "bottom",
          "yref": "paper"
         },
         {
          "font": {
           "size": 16
          },
          "showarrow": false,
          "text": "Number of total visits",
          "x": 0.775,
          "xanchor": "center",
          "xref": "paper",
          "y": 1,
          "yanchor": "bottom",
          "yref": "paper"
         },
         {
          "font": {
           "size": 16
          },
          "showarrow": false,
          "text": "Number of steps per episode",
          "x": 0.5,
          "xanchor": "center",
          "xref": "paper",
          "y": 0.435,
          "yanchor": "bottom",
          "yref": "paper"
         }
        ],
        "height": 900,
        "template": {
         "data": {
          "bar": [
           {
            "error_x": {
             "color": "#2a3f5f"
            },
            "error_y": {
             "color": "#2a3f5f"
            },
            "marker": {
             "line": {
              "color": "#E5ECF6",
              "width": 0.5
             },
             "pattern": {
              "fillmode": "overlay",
              "size": 10,
              "solidity": 0.2
             }
            },
            "type": "bar"
           }
          ],
          "barpolar": [
           {
            "marker": {
             "line": {
              "color": "#E5ECF6",
              "width": 0.5
             },
             "pattern": {
              "fillmode": "overlay",
              "size": 10,
              "solidity": 0.2
             }
            },
            "type": "barpolar"
           }
          ],
          "carpet": [
           {
            "aaxis": {
             "endlinecolor": "#2a3f5f",
             "gridcolor": "white",
             "linecolor": "white",
             "minorgridcolor": "white",
             "startlinecolor": "#2a3f5f"
            },
            "baxis": {
             "endlinecolor": "#2a3f5f",
             "gridcolor": "white",
             "linecolor": "white",
             "minorgridcolor": "white",
             "startlinecolor": "#2a3f5f"
            },
            "type": "carpet"
           }
          ],
          "choropleth": [
           {
            "colorbar": {
             "outlinewidth": 0,
             "ticks": ""
            },
            "type": "choropleth"
           }
          ],
          "contour": [
           {
            "colorbar": {
             "outlinewidth": 0,
             "ticks": ""
            },
            "colorscale": [
             [
              0,
              "#0d0887"
             ],
             [
              0.1111111111111111,
              "#46039f"
             ],
             [
              0.2222222222222222,
              "#7201a8"
             ],
             [
              0.3333333333333333,
              "#9c179e"
             ],
             [
              0.4444444444444444,
              "#bd3786"
             ],
             [
              0.5555555555555556,
              "#d8576b"
             ],
             [
              0.6666666666666666,
              "#ed7953"
             ],
             [
              0.7777777777777778,
              "#fb9f3a"
             ],
             [
              0.8888888888888888,
              "#fdca26"
             ],
             [
              1,
              "#f0f921"
             ]
            ],
            "type": "contour"
           }
          ],
          "contourcarpet": [
           {
            "colorbar": {
             "outlinewidth": 0,
             "ticks": ""
            },
            "type": "contourcarpet"
           }
          ],
          "heatmap": [
           {
            "colorbar": {
             "outlinewidth": 0,
             "ticks": ""
            },
            "colorscale": [
             [
              0,
              "#0d0887"
             ],
             [
              0.1111111111111111,
              "#46039f"
             ],
             [
              0.2222222222222222,
              "#7201a8"
             ],
             [
              0.3333333333333333,
              "#9c179e"
             ],
             [
              0.4444444444444444,
              "#bd3786"
             ],
             [
              0.5555555555555556,
              "#d8576b"
             ],
             [
              0.6666666666666666,
              "#ed7953"
             ],
             [
              0.7777777777777778,
              "#fb9f3a"
             ],
             [
              0.8888888888888888,
              "#fdca26"
             ],
             [
              1,
              "#f0f921"
             ]
            ],
            "type": "heatmap"
           }
          ],
          "heatmapgl": [
           {
            "colorbar": {
             "outlinewidth": 0,
             "ticks": ""
            },
            "colorscale": [
             [
              0,
              "#0d0887"
             ],
             [
              0.1111111111111111,
              "#46039f"
             ],
             [
              0.2222222222222222,
              "#7201a8"
             ],
             [
              0.3333333333333333,
              "#9c179e"
             ],
             [
              0.4444444444444444,
              "#bd3786"
             ],
             [
              0.5555555555555556,
              "#d8576b"
             ],
             [
              0.6666666666666666,
              "#ed7953"
             ],
             [
              0.7777777777777778,
              "#fb9f3a"
             ],
             [
              0.8888888888888888,
              "#fdca26"
             ],
             [
              1,
              "#f0f921"
             ]
            ],
            "type": "heatmapgl"
           }
          ],
          "histogram": [
           {
            "marker": {
             "pattern": {
              "fillmode": "overlay",
              "size": 10,
              "solidity": 0.2
             }
            },
            "type": "histogram"
           }
          ],
          "histogram2d": [
           {
            "colorbar": {
             "outlinewidth": 0,
             "ticks": ""
            },
            "colorscale": [
             [
              0,
              "#0d0887"
             ],
             [
              0.1111111111111111,
              "#46039f"
             ],
             [
              0.2222222222222222,
              "#7201a8"
             ],
             [
              0.3333333333333333,
              "#9c179e"
             ],
             [
              0.4444444444444444,
              "#bd3786"
             ],
             [
              0.5555555555555556,
              "#d8576b"
             ],
             [
              0.6666666666666666,
              "#ed7953"
             ],
             [
              0.7777777777777778,
              "#fb9f3a"
             ],
             [
              0.8888888888888888,
              "#fdca26"
             ],
             [
              1,
              "#f0f921"
             ]
            ],
            "type": "histogram2d"
           }
          ],
          "histogram2dcontour": [
           {
            "colorbar": {
             "outlinewidth": 0,
             "ticks": ""
            },
            "colorscale": [
             [
              0,
              "#0d0887"
             ],
             [
              0.1111111111111111,
              "#46039f"
             ],
             [
              0.2222222222222222,
              "#7201a8"
             ],
             [
              0.3333333333333333,
              "#9c179e"
             ],
             [
              0.4444444444444444,
              "#bd3786"
             ],
             [
              0.5555555555555556,
              "#d8576b"
             ],
             [
              0.6666666666666666,
              "#ed7953"
             ],
             [
              0.7777777777777778,
              "#fb9f3a"
             ],
             [
              0.8888888888888888,
              "#fdca26"
             ],
             [
              1,
              "#f0f921"
             ]
            ],
            "type": "histogram2dcontour"
           }
          ],
          "mesh3d": [
           {
            "colorbar": {
             "outlinewidth": 0,
             "ticks": ""
            },
            "type": "mesh3d"
           }
          ],
          "parcoords": [
           {
            "line": {
             "colorbar": {
              "outlinewidth": 0,
              "ticks": ""
             }
            },
            "type": "parcoords"
           }
          ],
          "pie": [
           {
            "automargin": true,
            "type": "pie"
           }
          ],
          "scatter": [
           {
            "fillpattern": {
             "fillmode": "overlay",
             "size": 10,
             "solidity": 0.2
            },
            "type": "scatter"
           }
          ],
          "scatter3d": [
           {
            "line": {
             "colorbar": {
              "outlinewidth": 0,
              "ticks": ""
             }
            },
            "marker": {
             "colorbar": {
              "outlinewidth": 0,
              "ticks": ""
             }
            },
            "type": "scatter3d"
           }
          ],
          "scattercarpet": [
           {
            "marker": {
             "colorbar": {
              "outlinewidth": 0,
              "ticks": ""
             }
            },
            "type": "scattercarpet"
           }
          ],
          "scattergeo": [
           {
            "marker": {
             "colorbar": {
              "outlinewidth": 0,
              "ticks": ""
             }
            },
            "type": "scattergeo"
           }
          ],
          "scattergl": [
           {
            "marker": {
             "colorbar": {
              "outlinewidth": 0,
              "ticks": ""
             }
            },
            "type": "scattergl"
           }
          ],
          "scattermapbox": [
           {
            "marker": {
             "colorbar": {
              "outlinewidth": 0,
              "ticks": ""
             }
            },
            "type": "scattermapbox"
           }
          ],
          "scatterpolar": [
           {
            "marker": {
             "colorbar": {
              "outlinewidth": 0,
              "ticks": ""
             }
            },
            "type": "scatterpolar"
           }
          ],
          "scatterpolargl": [
           {
            "marker": {
             "colorbar": {
              "outlinewidth": 0,
              "ticks": ""
             }
            },
            "type": "scatterpolargl"
           }
          ],
          "scatterternary": [
           {
            "marker": {
             "colorbar": {
              "outlinewidth": 0,
              "ticks": ""
             }
            },
            "type": "scatterternary"
           }
          ],
          "surface": [
           {
            "colorbar": {
             "outlinewidth": 0,
             "ticks": ""
            },
            "colorscale": [
             [
              0,
              "#0d0887"
             ],
             [
              0.1111111111111111,
              "#46039f"
             ],
             [
              0.2222222222222222,
              "#7201a8"
             ],
             [
              0.3333333333333333,
              "#9c179e"
             ],
             [
              0.4444444444444444,
              "#bd3786"
             ],
             [
              0.5555555555555556,
              "#d8576b"
             ],
             [
              0.6666666666666666,
              "#ed7953"
             ],
             [
              0.7777777777777778,
              "#fb9f3a"
             ],
             [
              0.8888888888888888,
              "#fdca26"
             ],
             [
              1,
              "#f0f921"
             ]
            ],
            "type": "surface"
           }
          ],
          "table": [
           {
            "cells": {
             "fill": {
              "color": "#EBF0F8"
             },
             "line": {
              "color": "white"
             }
            },
            "header": {
             "fill": {
              "color": "#C8D4E3"
             },
             "line": {
              "color": "white"
             }
            },
            "type": "table"
           }
          ]
         },
         "layout": {
          "annotationdefaults": {
           "arrowcolor": "#2a3f5f",
           "arrowhead": 0,
           "arrowwidth": 1
          },
          "autotypenumbers": "strict",
          "coloraxis": {
           "colorbar": {
            "outlinewidth": 0,
            "ticks": ""
           }
          },
          "colorscale": {
           "diverging": [
            [
             0,
             "#8e0152"
            ],
            [
             0.1,
             "#c51b7d"
            ],
            [
             0.2,
             "#de77ae"
            ],
            [
             0.3,
             "#f1b6da"
            ],
            [
             0.4,
             "#fde0ef"
            ],
            [
             0.5,
             "#f7f7f7"
            ],
            [
             0.6,
             "#e6f5d0"
            ],
            [
             0.7,
             "#b8e186"
            ],
            [
             0.8,
             "#7fbc41"
            ],
            [
             0.9,
             "#4d9221"
            ],
            [
             1,
             "#276419"
            ]
           ],
           "sequential": [
            [
             0,
             "#0d0887"
            ],
            [
             0.1111111111111111,
             "#46039f"
            ],
            [
             0.2222222222222222,
             "#7201a8"
            ],
            [
             0.3333333333333333,
             "#9c179e"
            ],
            [
             0.4444444444444444,
             "#bd3786"
            ],
            [
             0.5555555555555556,
             "#d8576b"
            ],
            [
             0.6666666666666666,
             "#ed7953"
            ],
            [
             0.7777777777777778,
             "#fb9f3a"
            ],
            [
             0.8888888888888888,
             "#fdca26"
            ],
            [
             1,
             "#f0f921"
            ]
           ],
           "sequentialminus": [
            [
             0,
             "#0d0887"
            ],
            [
             0.1111111111111111,
             "#46039f"
            ],
            [
             0.2222222222222222,
             "#7201a8"
            ],
            [
             0.3333333333333333,
             "#9c179e"
            ],
            [
             0.4444444444444444,
             "#bd3786"
            ],
            [
             0.5555555555555556,
             "#d8576b"
            ],
            [
             0.6666666666666666,
             "#ed7953"
            ],
            [
             0.7777777777777778,
             "#fb9f3a"
            ],
            [
             0.8888888888888888,
             "#fdca26"
            ],
            [
             1,
             "#f0f921"
            ]
           ]
          },
          "colorway": [
           "#636efa",
           "#EF553B",
           "#00cc96",
           "#ab63fa",
           "#FFA15A",
           "#19d3f3",
           "#FF6692",
           "#B6E880",
           "#FF97FF",
           "#FECB52"
          ],
          "font": {
           "color": "#2a3f5f"
          },
          "geo": {
           "bgcolor": "white",
           "lakecolor": "white",
           "landcolor": "#E5ECF6",
           "showlakes": true,
           "showland": true,
           "subunitcolor": "white"
          },
          "hoverlabel": {
           "align": "left"
          },
          "hovermode": "closest",
          "mapbox": {
           "style": "light"
          },
          "paper_bgcolor": "white",
          "plot_bgcolor": "#E5ECF6",
          "polar": {
           "angularaxis": {
            "gridcolor": "white",
            "linecolor": "white",
            "ticks": ""
           },
           "bgcolor": "#E5ECF6",
           "radialaxis": {
            "gridcolor": "white",
            "linecolor": "white",
            "ticks": ""
           }
          },
          "scene": {
           "xaxis": {
            "backgroundcolor": "#E5ECF6",
            "gridcolor": "white",
            "gridwidth": 2,
            "linecolor": "white",
            "showbackground": true,
            "ticks": "",
            "zerolinecolor": "white"
           },
           "yaxis": {
            "backgroundcolor": "#E5ECF6",
            "gridcolor": "white",
            "gridwidth": 2,
            "linecolor": "white",
            "showbackground": true,
            "ticks": "",
            "zerolinecolor": "white"
           },
           "zaxis": {
            "backgroundcolor": "#E5ECF6",
            "gridcolor": "white",
            "gridwidth": 2,
            "linecolor": "white",
            "showbackground": true,
            "ticks": "",
            "zerolinecolor": "white"
           }
          },
          "shapedefaults": {
           "line": {
            "color": "#2a3f5f"
           }
          },
          "ternary": {
           "aaxis": {
            "gridcolor": "white",
            "linecolor": "white",
            "ticks": ""
           },
           "baxis": {
            "gridcolor": "white",
            "linecolor": "white",
            "ticks": ""
           },
           "bgcolor": "#E5ECF6",
           "caxis": {
            "gridcolor": "white",
            "linecolor": "white",
            "ticks": ""
           }
          },
          "title": {
           "x": 0.05
          },
          "xaxis": {
           "automargin": true,
           "gridcolor": "white",
           "linecolor": "white",
           "ticks": "",
           "title": {
            "standoff": 15
           },
           "zerolinecolor": "white",
           "zerolinewidth": 2
          },
          "yaxis": {
           "automargin": true,
           "gridcolor": "white",
           "linecolor": "white",
           "ticks": "",
           "title": {
            "standoff": 15
           },
           "zerolinecolor": "white",
           "zerolinewidth": 2
          }
         }
        },
        "title": {
         "text": "Agent: Dyna-Q+, Number of episodes: 401<br>        <span style='font-size: 13px'>Model parameters: [learning rate: 0.125, epsilon: 0.1, discount: 0.9]</span>"
        },
        "width": 1200,
        "xaxis": {
         "anchor": "y",
         "domain": [
          0,
          0.45
         ]
        },
        "xaxis2": {
         "anchor": "y2",
         "domain": [
          0.55,
          1
         ]
        },
        "xaxis3": {
         "anchor": "y3",
         "domain": [
          0,
          1
         ]
        },
        "yaxis": {
         "anchor": "x",
         "domain": [
          0.565,
          1
         ]
        },
        "yaxis2": {
         "anchor": "x2",
         "domain": [
          0.565,
          1
         ]
        },
        "yaxis3": {
         "anchor": "x3",
         "domain": [
          0,
          0.435
         ]
        }
       }
      }
     },
     "metadata": {},
     "output_type": "display_data"
    },
    {
     "name": "stderr",
     "output_type": "stream",
     "text": [
      "100%|██████████| 401/401 [00:38<00:00, 10.44it/s]\n"
     ]
    }
   ],
   "source": [
    "a = Dyna_Q_plus_Agent(planning_steps=100, epsilon=0.1, gamma=0.9, step_size=0.125)\n",
    "a.fit(n_episode=401, plot_progxress=[100, 250, 400])"
   ]
  }
 ],
 "metadata": {
  "kernelspec": {
   "display_name": "Python 3",
   "language": "python",
   "name": "python3"
  },
  "language_info": {
   "codemirror_mode": {
    "name": "ipython",
    "version": 3
   },
   "file_extension": ".py",
   "mimetype": "text/x-python",
   "name": "python",
   "nbconvert_exporter": "python",
   "pygments_lexer": "ipython3",
   "version": "3.10.7"
  },
  "orig_nbformat": 4
 },
 "nbformat": 4,
 "nbformat_minor": 2
}

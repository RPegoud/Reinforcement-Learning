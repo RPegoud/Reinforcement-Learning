{
 "cells": [
  {
   "cell_type": "code",
   "execution_count": 1,
   "metadata": {},
   "outputs": [
    {
     "name": "stderr",
     "output_type": "stream",
     "text": [
      "c:\\Users\\ryanp\\AppData\\Local\\Programs\\Python\\Python310\\lib\\site-packages\\tqdm\\auto.py:22: TqdmWarning: IProgress not found. Please update jupyter and ipywidgets. See https://ipywidgets.readthedocs.io/en/stable/user_install.html\n",
      "  from .autonotebook import tqdm as notebook_tqdm\n"
     ]
    }
   ],
   "source": [
    "import numpy as np\n",
    "import pandas as pd\n",
    "import plotly.express as px\n",
    "from tqdm.auto import tqdm"
   ]
  },
  {
   "cell_type": "code",
   "execution_count": 2,
   "metadata": {},
   "outputs": [
    {
     "name": "stdout",
     "output_type": "stream",
     "text": [
      "Nodes: 5\n",
      "Lower bound: -3\n",
      "Upper bound: 3\n"
     ]
    }
   ],
   "source": [
    "N_NODES = 5\n",
    "LOWER_BOUND = (-N_NODES//2)\n",
    "UPPER_BOUND = (N_NODES//2)+1\n",
    "print(f\"Nodes: {N_NODES}\\nLower bound: {LOWER_BOUND}\\nUpper bound: {UPPER_BOUND}\")\n",
    "alphas = [.15, .1, .05]\n",
    "GAMMA = 0.9"
   ]
  },
  {
   "cell_type": "code",
   "execution_count": 3,
   "metadata": {},
   "outputs": [],
   "source": [
    "class Env():\n",
    "    def __init__(self) -> None:\n",
    "        # transition reward for each action pair\n",
    "        # for each state, contains [reward_left, reward_right]\n",
    "        rewards = np.zeros((N_NODES, 2), dtype=int)\n",
    "        # only moving right from the last state gives a reward\n",
    "        rewards[-1,1] = 1\n",
    "        self.rewards = rewards\n",
    "        self.states = [i for i in range(LOWER_BOUND, UPPER_BOUND+1)]\n",
    "        # nodes = {state:transition_rewards[left, right]}\n",
    "        self.nodes = {\n",
    "            state:reward for state,reward in zip(self.states[1:],rewards)\n",
    "        }"
   ]
  },
  {
   "cell_type": "code",
   "execution_count": 4,
   "metadata": {},
   "outputs": [],
   "source": [
    "class Agent():\n",
    "    def __init__(self) -> None:\n",
    "        self.position = 0\n",
    "        self.done = False\n",
    "        self.action = None\n",
    "        self.env = Env()\n",
    "        self.values = {state:value for state, value in \\\n",
    "                                        zip(self.env.states, np.zeros(len(self.env.states)))}\n",
    "        \n",
    "    def step(self):\n",
    "        \"\"\"\n",
    "        Performs a step according to the uniform random policy\n",
    "        \"\"\"\n",
    "        s = self.position\n",
    "        self.action = np.random.choice([0,1])\n",
    "        if self.action == 1:\n",
    "            self.position += 1\n",
    "        else: self.position -= 1\n",
    "        \n",
    "        # check terminal state\n",
    "        if self.position in [LOWER_BOUND, UPPER_BOUND]:\n",
    "            self.done = True\n",
    "\n",
    "        # s, s_prime, action\n",
    "        return s, self.position, self.action\n",
    "    \n",
    "    def reset(self):\n",
    "        self.position = 0\n",
    "        self.done = False\n",
    "        return self.position\n",
    "    \n",
    "    def rmse(self):\n",
    "        \"\"\"\n",
    "        Returns the root mean squarred error \n",
    "        The error is considered as the difference between the prediction\n",
    "        and the true state value\n",
    "        \"\"\"\n",
    "        true_value_function = np.arange(1,N_NODES+1)/(N_NODES+1)\n",
    "        delta = list(self.values.values())[1:-1] - true_value_function\n",
    "        rmse = np.sqrt(np.mean(np.power(delta, 2)))\n",
    "        return np.round(rmse,4)"
   ]
  },
  {
   "cell_type": "code",
   "execution_count": 5,
   "metadata": {},
   "outputs": [],
   "source": [
    "class TD_Agent(Agent):\n",
    "    def __init__(self, alpha:float, gamma:float) -> None:\n",
    "        self.alpha = alpha\n",
    "        self.gamma = gamma\n",
    "        super().__init__()\n",
    "\n",
    "    def update_value(self, s, s_prime, reward):\n",
    "        \"\"\"\n",
    "        Update the state values according to the TD(0) algorithm\n",
    "        The terminal state has no value, therefore the update is modified for s_prime = terminal\n",
    "        \"\"\"\n",
    "        if not self.done:\n",
    "            self.values[s] = self.values[s] + self.alpha*(reward + self.gamma * self.values[s_prime] - self.values[s])\n",
    "        else: \n",
    "            self.values[s] = self.values[s] + self.alpha*(reward - self.values[s])\n",
    "\n",
    "    def play_episode(self):\n",
    "        s = self.reset() # initial state\n",
    "        while True:\n",
    "            s, s_prime, action = self.step()\n",
    "            reward = self.env.nodes.get(s)[action]\n",
    "            self.update_value(s, s_prime, reward)\n",
    "            if self.done:\n",
    "                break\n",
    "            s = s_prime"
   ]
  },
  {
   "cell_type": "code",
   "execution_count": 6,
   "metadata": {},
   "outputs": [],
   "source": [
    "def get_runs(alphas, n_runs=10, n_episodes=100):\n",
    "    \"\"\"\n",
    "    For each value of alpha, performs n_runs of n_episodes and records the error\n",
    "    Runs for a specific alpha value are exported in a dataframe\n",
    "    \"\"\"\n",
    "    errors = {}\n",
    "    dataframes = {}\n",
    "    for alpha in alphas:\n",
    "        print(f'Computing errors for alpha: {alpha}')\n",
    "        for run in tqdm(range(n_runs)):\n",
    "            errors[f'{alpha}_{run}'] = []\n",
    "            dataframes[f'{alpha}'] = pd.DataFrame()\n",
    "            a = TD_Agent(alpha=alpha, gamma=GAMMA)\n",
    "            for _ in range(n_episodes):\n",
    "                a.play_episode()\n",
    "                errors[f'{alpha}_{run}'].append(a.rmse())\n",
    "            dataframes[f'{alpha}'] = pd.concat((dataframes[f'{alpha}'], pd.Series(errors)), axis=1)\n",
    "    return dataframes\n"
   ]
  },
  {
   "cell_type": "code",
   "execution_count": 7,
   "metadata": {},
   "outputs": [],
   "source": [
    "def average_run(dataframe:pd.DataFrame):\n",
    "    \"\"\"\n",
    "    Return the average error per episode for each alpha\n",
    "    \"\"\"\n",
    "    return pd.DataFrame(dataframe.to_list(), columns=range(100)).apply(np.mean)\n"
   ]
  },
  {
   "cell_type": "code",
   "execution_count": 8,
   "metadata": {},
   "outputs": [],
   "source": [
    "def plot_runs(dataframes):\n",
    "    \"\"\"\n",
    "    Plots the average error per episode for each alpha\n",
    "    \"\"\"\n",
    "    averaged_runs = pd.DataFrame([average_run(dataframes[str(alpha)][0]) for alpha in alphas]).T\n",
    "    averaged_runs.columns = alphas\n",
    "    fig = px.line(averaged_runs,\n",
    "            labels={'index':'Number of episodes', 'value':'RMSE', 'variable':'Alpha'},\n",
    "            title=\"Root mean square errors of value estimations for 10 runs of TD(0)\",\n",
    "            height=600\n",
    "            )\n",
    "    fig.update_layout()\n",
    "    fig.show()\n"
   ]
  },
  {
   "cell_type": "code",
   "execution_count": 9,
   "metadata": {},
   "outputs": [
    {
     "name": "stdout",
     "output_type": "stream",
     "text": [
      "Computing errors for alpha: 0.15\n"
     ]
    },
    {
     "name": "stderr",
     "output_type": "stream",
     "text": [
      "100%|██████████| 1000/1000 [00:13<00:00, 73.94it/s]\n"
     ]
    },
    {
     "name": "stdout",
     "output_type": "stream",
     "text": [
      "Computing errors for alpha: 0.1\n"
     ]
    },
    {
     "name": "stderr",
     "output_type": "stream",
     "text": [
      "100%|██████████| 1000/1000 [00:13<00:00, 72.54it/s]\n"
     ]
    },
    {
     "name": "stdout",
     "output_type": "stream",
     "text": [
      "Computing errors for alpha: 0.05\n"
     ]
    },
    {
     "name": "stderr",
     "output_type": "stream",
     "text": [
      "100%|██████████| 1000/1000 [00:13<00:00, 72.18it/s]\n"
     ]
    },
    {
     "data": {
      "application/vnd.plotly.v1+json": {
       "config": {
        "plotlyServerURL": "https://plot.ly"
       },
       "data": [
        {
         "hovertemplate": "Alpha=0.15<br>Number of episodes=%{x}<br>RMSE=%{y}<extra></extra>",
         "legendgroup": "0.15",
         "line": {
          "color": "#636efa",
          "dash": "solid"
         },
         "marker": {
          "symbol": "circle"
         },
         "mode": "lines",
         "name": "0.15",
         "orientation": "v",
         "showlegend": true,
         "type": "scatter",
         "x": [
          0,
          1,
          2,
          3,
          4,
          5,
          6,
          7,
          8,
          9,
          10,
          11,
          12,
          13,
          14,
          15,
          16,
          17,
          18,
          19,
          20,
          21,
          22,
          23,
          24,
          25,
          26,
          27,
          28,
          29,
          30,
          31,
          32,
          33,
          34,
          35,
          36,
          37,
          38,
          39,
          40,
          41,
          42,
          43,
          44,
          45,
          46,
          47,
          48,
          49,
          50,
          51,
          52,
          53,
          54,
          55,
          56,
          57,
          58,
          59,
          60,
          61,
          62,
          63,
          64,
          65,
          66,
          67,
          68,
          69,
          70,
          71,
          72,
          73,
          74,
          75,
          76,
          77,
          78,
          79,
          80,
          81,
          82,
          83,
          84,
          85,
          86,
          87,
          88,
          89,
          90,
          91,
          92,
          93,
          94,
          95,
          96,
          97,
          98,
          99
         ],
         "xaxis": "x",
         "y": [
          0.5311859999999999,
          0.5107299,
          0.49328140000000004,
          0.4762396,
          0.45905499999999994,
          0.443577,
          0.429006,
          0.41441279999999997,
          0.4005839,
          0.38828189999999996,
          0.374342,
          0.363097,
          0.3523727,
          0.3428532,
          0.33446780000000004,
          0.32601689999999994,
          0.3173857,
          0.30891290000000005,
          0.3007172,
          0.2937197,
          0.2873862,
          0.28161959999999997,
          0.2761544,
          0.2701524,
          0.2654133,
          0.26014439999999994,
          0.256179,
          0.25142699999999996,
          0.24808639999999998,
          0.2444546,
          0.24131390000000005,
          0.23876429999999998,
          0.23649290000000003,
          0.23395660000000001,
          0.2313058,
          0.2282149,
          0.22513219999999998,
          0.2234251,
          0.2220891,
          0.21963869999999996,
          0.2181662,
          0.2167661,
          0.2155226,
          0.21474959999999998,
          0.2133713,
          0.2114025,
          0.2099589,
          0.2082534,
          0.2062952,
          0.20453590000000002,
          0.2038472,
          0.20277219999999999,
          0.2012155,
          0.2004384,
          0.19995249999999998,
          0.1985428,
          0.198202,
          0.19790459999999999,
          0.1968532,
          0.19624970000000003,
          0.1950797,
          0.1951267,
          0.1947027,
          0.1944115,
          0.1935796,
          0.1933648,
          0.19301430000000003,
          0.19248110000000002,
          0.19321359999999999,
          0.1934488,
          0.19330340000000001,
          0.1924319,
          0.19224629999999998,
          0.192856,
          0.19208120000000004,
          0.19219450000000002,
          0.19151739999999998,
          0.19164150000000002,
          0.1919532,
          0.19216410000000003,
          0.19200369999999997,
          0.1912296,
          0.1913615,
          0.19098129999999996,
          0.19065299999999996,
          0.1914004,
          0.1915823,
          0.1920038,
          0.19178030000000001,
          0.1914851,
          0.1922435,
          0.1918033,
          0.1916304,
          0.1914037,
          0.190525,
          0.1912334,
          0.19095069999999997,
          0.190597,
          0.1900542,
          0.19067779999999998
         ],
         "yaxis": "y"
        },
        {
         "hovertemplate": "Alpha=0.1<br>Number of episodes=%{x}<br>RMSE=%{y}<extra></extra>",
         "legendgroup": "0.1",
         "line": {
          "color": "#EF553B",
          "dash": "solid"
         },
         "marker": {
          "symbol": "circle"
         },
         "mode": "lines",
         "name": "0.1",
         "orientation": "v",
         "showlegend": true,
         "type": "scatter",
         "x": [
          0,
          1,
          2,
          3,
          4,
          5,
          6,
          7,
          8,
          9,
          10,
          11,
          12,
          13,
          14,
          15,
          16,
          17,
          18,
          19,
          20,
          21,
          22,
          23,
          24,
          25,
          26,
          27,
          28,
          29,
          30,
          31,
          32,
          33,
          34,
          35,
          36,
          37,
          38,
          39,
          40,
          41,
          42,
          43,
          44,
          45,
          46,
          47,
          48,
          49,
          50,
          51,
          52,
          53,
          54,
          55,
          56,
          57,
          58,
          59,
          60,
          61,
          62,
          63,
          64,
          65,
          66,
          67,
          68,
          69,
          70,
          71,
          72,
          73,
          74,
          75,
          76,
          77,
          78,
          79,
          80,
          81,
          82,
          83,
          84,
          85,
          86,
          87,
          88,
          89,
          90,
          91,
          92,
          93,
          94,
          95,
          96,
          97,
          98,
          99
         ],
         "xaxis": "x",
         "y": [
          0.5349944499999999,
          0.5174383499999999,
          0.5023409,
          0.48741179999999995,
          0.47277805,
          0.45965805,
          0.4466792,
          0.4341287,
          0.42224355,
          0.4110888,
          0.39925295,
          0.3887792,
          0.37906504999999996,
          0.36970265,
          0.3611653,
          0.35275604999999993,
          0.34482195,
          0.33705925000000003,
          0.32903665,
          0.32193605000000003,
          0.3153526499999999,
          0.3093459,
          0.30376285000000003,
          0.29786495,
          0.2928474,
          0.28744240000000004,
          0.28297589999999995,
          0.2779647,
          0.27387439999999996,
          0.270055,
          0.26607709999999996,
          0.2628666499999999,
          0.25951890000000005,
          0.2560728,
          0.25284785,
          0.2497596,
          0.24664715,
          0.2442525,
          0.2421218,
          0.23964855,
          0.23738515000000002,
          0.2355311,
          0.2336147,
          0.2318801,
          0.22975650000000003,
          0.22741135000000004,
          0.2256506,
          0.22351035000000002,
          0.22151980000000002,
          0.21954880000000002,
          0.21855240000000004,
          0.21710854999999998,
          0.2157561,
          0.21437,
          0.21314104999999997,
          0.21173125,
          0.2106763,
          0.20988885,
          0.20858405,
          0.20730240000000003,
          0.20576845,
          0.2054405,
          0.2045403,
          0.20395734999999998,
          0.20289985000000002,
          0.202187,
          0.20138275,
          0.200915,
          0.20096394999999997,
          0.20076775,
          0.2002244,
          0.19922615,
          0.19858265,
          0.19883795,
          0.19839785000000001,
          0.19799150000000001,
          0.1975825,
          0.19722215,
          0.19719979999999998,
          0.19686635000000002,
          0.1964631,
          0.19590174999999999,
          0.1958938,
          0.19566875,
          0.19536049999999996,
          0.1955742,
          0.1953888,
          0.19529525,
          0.19492155,
          0.19475715,
          0.19469720000000001,
          0.19395955,
          0.1935682,
          0.19307815000000003,
          0.19270620000000002,
          0.193166,
          0.1932697,
          0.19329534999999998,
          0.1929037,
          0.1929271
         ],
         "yaxis": "y"
        },
        {
         "hovertemplate": "Alpha=0.05<br>Number of episodes=%{x}<br>RMSE=%{y}<extra></extra>",
         "legendgroup": "0.05",
         "line": {
          "color": "#00cc96",
          "dash": "solid"
         },
         "marker": {
          "symbol": "circle"
         },
         "mode": "lines",
         "name": "0.05",
         "orientation": "v",
         "showlegend": true,
         "type": "scatter",
         "x": [
          0,
          1,
          2,
          3,
          4,
          5,
          6,
          7,
          8,
          9,
          10,
          11,
          12,
          13,
          14,
          15,
          16,
          17,
          18,
          19,
          20,
          21,
          22,
          23,
          24,
          25,
          26,
          27,
          28,
          29,
          30,
          31,
          32,
          33,
          34,
          35,
          36,
          37,
          38,
          39,
          40,
          41,
          42,
          43,
          44,
          45,
          46,
          47,
          48,
          49,
          50,
          51,
          52,
          53,
          54,
          55,
          56,
          57,
          58,
          59,
          60,
          61,
          62,
          63,
          64,
          65,
          66,
          67,
          68,
          69,
          70,
          71,
          72,
          73,
          74,
          75,
          76,
          77,
          78,
          79,
          80,
          81,
          82,
          83,
          84,
          85,
          86,
          87,
          88,
          89,
          90,
          91,
          92,
          93,
          94,
          95,
          96,
          97,
          98,
          99
         ],
         "xaxis": "x",
         "y": [
          0.5384463,
          0.5242486333333333,
          0.5118804666666666,
          0.4997029333333333,
          0.4878128666666667,
          0.4768657,
          0.46603253333333333,
          0.4555395333333334,
          0.44570133333333334,
          0.4363213000000001,
          0.4264831333333333,
          0.4173753,
          0.4090599999999999,
          0.4008639,
          0.3932872333333333,
          0.38587323333333334,
          0.3787934666666667,
          0.37192336666666675,
          0.3648291666666667,
          0.35845266666666664,
          0.3524415333333333,
          0.34680596666666663,
          0.34159306666666667,
          0.3360145666666666,
          0.331215,
          0.32615616666666664,
          0.32176530000000003,
          0.31695313333333336,
          0.312742,
          0.30875586666666666,
          0.3047726,
          0.3014155666666667,
          0.29781613333333334,
          0.29420953333333333,
          0.29084920000000003,
          0.28759850000000003,
          0.28429133333333334,
          0.28153293333333335,
          0.2789141666666667,
          0.2762219,
          0.27360413333333333,
          0.27126466666666665,
          0.2689811,
          0.2667795333333333,
          0.26445700000000005,
          0.26198496666666665,
          0.25984993333333334,
          0.2574515,
          0.25519823333333336,
          0.2529483,
          0.25138393333333336,
          0.24956973333333335,
          0.24785643333333338,
          0.2460828,
          0.24434963333333334,
          0.2427115333333333,
          0.2412506,
          0.2398643666666667,
          0.23827653333333335,
          0.23667696666666665,
          0.23495389999999997,
          0.23400373333333335,
          0.23271666666666666,
          0.23170766666666667,
          0.23041399999999998,
          0.2292766333333333,
          0.22808453333333334,
          0.22717893333333333,
          0.22672223333333333,
          0.22600423333333333,
          0.22514393333333332,
          0.22397506666666664,
          0.22292813333333333,
          0.22246876666666665,
          0.2216882,
          0.2208744,
          0.22005749999999996,
          0.21942883333333332,
          0.21895643333333337,
          0.21815523333333336,
          0.2173704,
          0.21658399999999997,
          0.2160836333333333,
          0.21556336666666667,
          0.21494663333333336,
          0.21460686666666667,
          0.2140002,
          0.21347490000000002,
          0.21275819999999998,
          0.21229876666666667,
          0.2118099,
          0.21100906666666666,
          0.21042073333333333,
          0.2097455,
          0.20910956666666664,
          0.20901579999999997,
          0.20875009999999997,
          0.20839023333333329,
          0.20781829999999998,
          0.2074579666666667
         ],
         "yaxis": "y"
        }
       ],
       "layout": {
        "height": 600,
        "legend": {
         "title": {
          "text": "Alpha"
         },
         "tracegroupgap": 0
        },
        "template": {
         "data": {
          "bar": [
           {
            "error_x": {
             "color": "#2a3f5f"
            },
            "error_y": {
             "color": "#2a3f5f"
            },
            "marker": {
             "line": {
              "color": "#E5ECF6",
              "width": 0.5
             },
             "pattern": {
              "fillmode": "overlay",
              "size": 10,
              "solidity": 0.2
             }
            },
            "type": "bar"
           }
          ],
          "barpolar": [
           {
            "marker": {
             "line": {
              "color": "#E5ECF6",
              "width": 0.5
             },
             "pattern": {
              "fillmode": "overlay",
              "size": 10,
              "solidity": 0.2
             }
            },
            "type": "barpolar"
           }
          ],
          "carpet": [
           {
            "aaxis": {
             "endlinecolor": "#2a3f5f",
             "gridcolor": "white",
             "linecolor": "white",
             "minorgridcolor": "white",
             "startlinecolor": "#2a3f5f"
            },
            "baxis": {
             "endlinecolor": "#2a3f5f",
             "gridcolor": "white",
             "linecolor": "white",
             "minorgridcolor": "white",
             "startlinecolor": "#2a3f5f"
            },
            "type": "carpet"
           }
          ],
          "choropleth": [
           {
            "colorbar": {
             "outlinewidth": 0,
             "ticks": ""
            },
            "type": "choropleth"
           }
          ],
          "contour": [
           {
            "colorbar": {
             "outlinewidth": 0,
             "ticks": ""
            },
            "colorscale": [
             [
              0,
              "#0d0887"
             ],
             [
              0.1111111111111111,
              "#46039f"
             ],
             [
              0.2222222222222222,
              "#7201a8"
             ],
             [
              0.3333333333333333,
              "#9c179e"
             ],
             [
              0.4444444444444444,
              "#bd3786"
             ],
             [
              0.5555555555555556,
              "#d8576b"
             ],
             [
              0.6666666666666666,
              "#ed7953"
             ],
             [
              0.7777777777777778,
              "#fb9f3a"
             ],
             [
              0.8888888888888888,
              "#fdca26"
             ],
             [
              1,
              "#f0f921"
             ]
            ],
            "type": "contour"
           }
          ],
          "contourcarpet": [
           {
            "colorbar": {
             "outlinewidth": 0,
             "ticks": ""
            },
            "type": "contourcarpet"
           }
          ],
          "heatmap": [
           {
            "colorbar": {
             "outlinewidth": 0,
             "ticks": ""
            },
            "colorscale": [
             [
              0,
              "#0d0887"
             ],
             [
              0.1111111111111111,
              "#46039f"
             ],
             [
              0.2222222222222222,
              "#7201a8"
             ],
             [
              0.3333333333333333,
              "#9c179e"
             ],
             [
              0.4444444444444444,
              "#bd3786"
             ],
             [
              0.5555555555555556,
              "#d8576b"
             ],
             [
              0.6666666666666666,
              "#ed7953"
             ],
             [
              0.7777777777777778,
              "#fb9f3a"
             ],
             [
              0.8888888888888888,
              "#fdca26"
             ],
             [
              1,
              "#f0f921"
             ]
            ],
            "type": "heatmap"
           }
          ],
          "heatmapgl": [
           {
            "colorbar": {
             "outlinewidth": 0,
             "ticks": ""
            },
            "colorscale": [
             [
              0,
              "#0d0887"
             ],
             [
              0.1111111111111111,
              "#46039f"
             ],
             [
              0.2222222222222222,
              "#7201a8"
             ],
             [
              0.3333333333333333,
              "#9c179e"
             ],
             [
              0.4444444444444444,
              "#bd3786"
             ],
             [
              0.5555555555555556,
              "#d8576b"
             ],
             [
              0.6666666666666666,
              "#ed7953"
             ],
             [
              0.7777777777777778,
              "#fb9f3a"
             ],
             [
              0.8888888888888888,
              "#fdca26"
             ],
             [
              1,
              "#f0f921"
             ]
            ],
            "type": "heatmapgl"
           }
          ],
          "histogram": [
           {
            "marker": {
             "pattern": {
              "fillmode": "overlay",
              "size": 10,
              "solidity": 0.2
             }
            },
            "type": "histogram"
           }
          ],
          "histogram2d": [
           {
            "colorbar": {
             "outlinewidth": 0,
             "ticks": ""
            },
            "colorscale": [
             [
              0,
              "#0d0887"
             ],
             [
              0.1111111111111111,
              "#46039f"
             ],
             [
              0.2222222222222222,
              "#7201a8"
             ],
             [
              0.3333333333333333,
              "#9c179e"
             ],
             [
              0.4444444444444444,
              "#bd3786"
             ],
             [
              0.5555555555555556,
              "#d8576b"
             ],
             [
              0.6666666666666666,
              "#ed7953"
             ],
             [
              0.7777777777777778,
              "#fb9f3a"
             ],
             [
              0.8888888888888888,
              "#fdca26"
             ],
             [
              1,
              "#f0f921"
             ]
            ],
            "type": "histogram2d"
           }
          ],
          "histogram2dcontour": [
           {
            "colorbar": {
             "outlinewidth": 0,
             "ticks": ""
            },
            "colorscale": [
             [
              0,
              "#0d0887"
             ],
             [
              0.1111111111111111,
              "#46039f"
             ],
             [
              0.2222222222222222,
              "#7201a8"
             ],
             [
              0.3333333333333333,
              "#9c179e"
             ],
             [
              0.4444444444444444,
              "#bd3786"
             ],
             [
              0.5555555555555556,
              "#d8576b"
             ],
             [
              0.6666666666666666,
              "#ed7953"
             ],
             [
              0.7777777777777778,
              "#fb9f3a"
             ],
             [
              0.8888888888888888,
              "#fdca26"
             ],
             [
              1,
              "#f0f921"
             ]
            ],
            "type": "histogram2dcontour"
           }
          ],
          "mesh3d": [
           {
            "colorbar": {
             "outlinewidth": 0,
             "ticks": ""
            },
            "type": "mesh3d"
           }
          ],
          "parcoords": [
           {
            "line": {
             "colorbar": {
              "outlinewidth": 0,
              "ticks": ""
             }
            },
            "type": "parcoords"
           }
          ],
          "pie": [
           {
            "automargin": true,
            "type": "pie"
           }
          ],
          "scatter": [
           {
            "fillpattern": {
             "fillmode": "overlay",
             "size": 10,
             "solidity": 0.2
            },
            "type": "scatter"
           }
          ],
          "scatter3d": [
           {
            "line": {
             "colorbar": {
              "outlinewidth": 0,
              "ticks": ""
             }
            },
            "marker": {
             "colorbar": {
              "outlinewidth": 0,
              "ticks": ""
             }
            },
            "type": "scatter3d"
           }
          ],
          "scattercarpet": [
           {
            "marker": {
             "colorbar": {
              "outlinewidth": 0,
              "ticks": ""
             }
            },
            "type": "scattercarpet"
           }
          ],
          "scattergeo": [
           {
            "marker": {
             "colorbar": {
              "outlinewidth": 0,
              "ticks": ""
             }
            },
            "type": "scattergeo"
           }
          ],
          "scattergl": [
           {
            "marker": {
             "colorbar": {
              "outlinewidth": 0,
              "ticks": ""
             }
            },
            "type": "scattergl"
           }
          ],
          "scattermapbox": [
           {
            "marker": {
             "colorbar": {
              "outlinewidth": 0,
              "ticks": ""
             }
            },
            "type": "scattermapbox"
           }
          ],
          "scatterpolar": [
           {
            "marker": {
             "colorbar": {
              "outlinewidth": 0,
              "ticks": ""
             }
            },
            "type": "scatterpolar"
           }
          ],
          "scatterpolargl": [
           {
            "marker": {
             "colorbar": {
              "outlinewidth": 0,
              "ticks": ""
             }
            },
            "type": "scatterpolargl"
           }
          ],
          "scatterternary": [
           {
            "marker": {
             "colorbar": {
              "outlinewidth": 0,
              "ticks": ""
             }
            },
            "type": "scatterternary"
           }
          ],
          "surface": [
           {
            "colorbar": {
             "outlinewidth": 0,
             "ticks": ""
            },
            "colorscale": [
             [
              0,
              "#0d0887"
             ],
             [
              0.1111111111111111,
              "#46039f"
             ],
             [
              0.2222222222222222,
              "#7201a8"
             ],
             [
              0.3333333333333333,
              "#9c179e"
             ],
             [
              0.4444444444444444,
              "#bd3786"
             ],
             [
              0.5555555555555556,
              "#d8576b"
             ],
             [
              0.6666666666666666,
              "#ed7953"
             ],
             [
              0.7777777777777778,
              "#fb9f3a"
             ],
             [
              0.8888888888888888,
              "#fdca26"
             ],
             [
              1,
              "#f0f921"
             ]
            ],
            "type": "surface"
           }
          ],
          "table": [
           {
            "cells": {
             "fill": {
              "color": "#EBF0F8"
             },
             "line": {
              "color": "white"
             }
            },
            "header": {
             "fill": {
              "color": "#C8D4E3"
             },
             "line": {
              "color": "white"
             }
            },
            "type": "table"
           }
          ]
         },
         "layout": {
          "annotationdefaults": {
           "arrowcolor": "#2a3f5f",
           "arrowhead": 0,
           "arrowwidth": 1
          },
          "autotypenumbers": "strict",
          "coloraxis": {
           "colorbar": {
            "outlinewidth": 0,
            "ticks": ""
           }
          },
          "colorscale": {
           "diverging": [
            [
             0,
             "#8e0152"
            ],
            [
             0.1,
             "#c51b7d"
            ],
            [
             0.2,
             "#de77ae"
            ],
            [
             0.3,
             "#f1b6da"
            ],
            [
             0.4,
             "#fde0ef"
            ],
            [
             0.5,
             "#f7f7f7"
            ],
            [
             0.6,
             "#e6f5d0"
            ],
            [
             0.7,
             "#b8e186"
            ],
            [
             0.8,
             "#7fbc41"
            ],
            [
             0.9,
             "#4d9221"
            ],
            [
             1,
             "#276419"
            ]
           ],
           "sequential": [
            [
             0,
             "#0d0887"
            ],
            [
             0.1111111111111111,
             "#46039f"
            ],
            [
             0.2222222222222222,
             "#7201a8"
            ],
            [
             0.3333333333333333,
             "#9c179e"
            ],
            [
             0.4444444444444444,
             "#bd3786"
            ],
            [
             0.5555555555555556,
             "#d8576b"
            ],
            [
             0.6666666666666666,
             "#ed7953"
            ],
            [
             0.7777777777777778,
             "#fb9f3a"
            ],
            [
             0.8888888888888888,
             "#fdca26"
            ],
            [
             1,
             "#f0f921"
            ]
           ],
           "sequentialminus": [
            [
             0,
             "#0d0887"
            ],
            [
             0.1111111111111111,
             "#46039f"
            ],
            [
             0.2222222222222222,
             "#7201a8"
            ],
            [
             0.3333333333333333,
             "#9c179e"
            ],
            [
             0.4444444444444444,
             "#bd3786"
            ],
            [
             0.5555555555555556,
             "#d8576b"
            ],
            [
             0.6666666666666666,
             "#ed7953"
            ],
            [
             0.7777777777777778,
             "#fb9f3a"
            ],
            [
             0.8888888888888888,
             "#fdca26"
            ],
            [
             1,
             "#f0f921"
            ]
           ]
          },
          "colorway": [
           "#636efa",
           "#EF553B",
           "#00cc96",
           "#ab63fa",
           "#FFA15A",
           "#19d3f3",
           "#FF6692",
           "#B6E880",
           "#FF97FF",
           "#FECB52"
          ],
          "font": {
           "color": "#2a3f5f"
          },
          "geo": {
           "bgcolor": "white",
           "lakecolor": "white",
           "landcolor": "#E5ECF6",
           "showlakes": true,
           "showland": true,
           "subunitcolor": "white"
          },
          "hoverlabel": {
           "align": "left"
          },
          "hovermode": "closest",
          "mapbox": {
           "style": "light"
          },
          "paper_bgcolor": "white",
          "plot_bgcolor": "#E5ECF6",
          "polar": {
           "angularaxis": {
            "gridcolor": "white",
            "linecolor": "white",
            "ticks": ""
           },
           "bgcolor": "#E5ECF6",
           "radialaxis": {
            "gridcolor": "white",
            "linecolor": "white",
            "ticks": ""
           }
          },
          "scene": {
           "xaxis": {
            "backgroundcolor": "#E5ECF6",
            "gridcolor": "white",
            "gridwidth": 2,
            "linecolor": "white",
            "showbackground": true,
            "ticks": "",
            "zerolinecolor": "white"
           },
           "yaxis": {
            "backgroundcolor": "#E5ECF6",
            "gridcolor": "white",
            "gridwidth": 2,
            "linecolor": "white",
            "showbackground": true,
            "ticks": "",
            "zerolinecolor": "white"
           },
           "zaxis": {
            "backgroundcolor": "#E5ECF6",
            "gridcolor": "white",
            "gridwidth": 2,
            "linecolor": "white",
            "showbackground": true,
            "ticks": "",
            "zerolinecolor": "white"
           }
          },
          "shapedefaults": {
           "line": {
            "color": "#2a3f5f"
           }
          },
          "ternary": {
           "aaxis": {
            "gridcolor": "white",
            "linecolor": "white",
            "ticks": ""
           },
           "baxis": {
            "gridcolor": "white",
            "linecolor": "white",
            "ticks": ""
           },
           "bgcolor": "#E5ECF6",
           "caxis": {
            "gridcolor": "white",
            "linecolor": "white",
            "ticks": ""
           }
          },
          "title": {
           "x": 0.05
          },
          "xaxis": {
           "automargin": true,
           "gridcolor": "white",
           "linecolor": "white",
           "ticks": "",
           "title": {
            "standoff": 15
           },
           "zerolinecolor": "white",
           "zerolinewidth": 2
          },
          "yaxis": {
           "automargin": true,
           "gridcolor": "white",
           "linecolor": "white",
           "ticks": "",
           "title": {
            "standoff": 15
           },
           "zerolinecolor": "white",
           "zerolinewidth": 2
          }
         }
        },
        "title": {
         "text": "Root mean square errors of value estimations for 10 runs of TD(0)"
        },
        "xaxis": {
         "anchor": "y",
         "domain": [
          0,
          1
         ],
         "title": {
          "text": "Number of episodes"
         }
        },
        "yaxis": {
         "anchor": "x",
         "domain": [
          0,
          1
         ],
         "title": {
          "text": "RMSE"
         }
        }
       }
      }
     },
     "metadata": {},
     "output_type": "display_data"
    }
   ],
   "source": [
    "errors = get_runs(alphas, n_runs=1000, n_episodes=100)\n",
    "plot_runs(errors)"
   ]
  },
  {
   "cell_type": "code",
   "execution_count": 165,
   "metadata": {},
   "outputs": [],
   "source": [
    "class Episode():\n",
    "    def __init__(self, initial_state=0) -> None:\n",
    "        self.initial_state = initial_state\n",
    "        self.record = {\n",
    "            'states' :  [self.initial_state],\n",
    "            'actions' : [],\n",
    "            'rewards' : [],\n",
    "        }\n",
    "\n",
    "    def add_action_reward(self, action, reward):\n",
    "        self.record['actions'].append(action)\n",
    "        self.record['rewards'].append(reward)\n",
    "\n",
    "    def add_state(self, state):\n",
    "        self.record['states'].append(state)\n",
    "\n",
    "    def reverse(self):\n",
    "        \"\"\"\n",
    "        Reverses the states, actions and rewards lists in an episode\n",
    "        MC updates are made backwards, from the last step to the first\n",
    "        \"\"\"\n",
    "        return {key: list(reversed(values)) for (key, values) in self.record.items()}\n",
    "\n",
    "    def episode_generator(self):\n",
    "        \"\"\"\n",
    "        Generator yielding (state, action, rewards) starting from \n",
    "        the end of the episode\n",
    "        \"\"\"\n",
    "        rev = self.reverse()\n",
    "        print(f'N steps: {self.n_steps}')\n",
    "        iterator = (list(\n",
    "                        zip(\n",
    "                            rev['states'], \n",
    "                            rev['actions'], \n",
    "                            rev['rewards'])\n",
    "                        )\n",
    "                    )\n",
    "        for idx in range(self.n_steps-1):\n",
    "            yield iterator[idx]\n",
    "\n",
    "class MC_Agent(Agent):\n",
    "    def __init__(self, alpha:float, gamma:float) -> None:\n",
    "        self.alpha = alpha\n",
    "        self.gamma = gamma\n",
    "        self.returns = []\n",
    "        super().__init__()\n",
    "\n",
    "    def update_value(self, episode: Episode, returns):\n",
    "        \"\"\"\n",
    "        Update the values according to first-visit Monte Carlo,\n",
    "        this approach is more suited for a deterministic environment\n",
    "        \"\"\"\n",
    "        visited_states = []\n",
    "        generator = episode.episode_generator()\n",
    "        for step in range(episode.n_steps-1):\n",
    "            state, action, reward = next(generator)\n",
    "            if state not in visited_states:\n",
    "                visited_states.append(state)\n",
    "                print(f'state: {state}, action: {action} reward: {reward}')\n",
    "                #returns[state] = GAMMA*returns[state] + reward\n",
    "    \n",
    "    def play_episode(self):\n",
    "        \"\"\"\n",
    "        Plays one episode until termination, caches the states, actions and rewards\n",
    "        At the end of the episode, updates the value of each visited state\n",
    "        \"\"\"\n",
    "        s = self.reset() # initial state\n",
    "        G = 0 # initial estimated return\n",
    "        episode = Episode()\n",
    "\n",
    "        while True:\n",
    "            s, s_prime, action = self.step()\n",
    "            reward = self.env.nodes.get(s)[action]\n",
    "            episode.add_action_reward(action, reward)\n",
    "            if self.done:\n",
    "                print(f\"Terminal state {s_prime}\")\n",
    "                break\n",
    "            episode.add_state(s_prime)\n",
    "            episode.n_steps = len(episode.record['states'])\n",
    "\n",
    "        self.update_value(episode)"
   ]
  },
  {
   "cell_type": "code",
   "execution_count": 166,
   "metadata": {},
   "outputs": [
    {
     "name": "stdout",
     "output_type": "stream",
     "text": [
      "Terminal state 3\n",
      "N steps: 5\n",
      "state: 2, action: 1 reward: 1\n",
      "state: 1, action: 1 reward: 0\n",
      "state: 0, action: 1 reward: 0\n",
      "state: 1, action: 0 reward: 0\n"
     ]
    }
   ],
   "source": [
    "mc_a = MC_Agent(alpha=.15, gamma=.9)\n",
    "mc_a.play_episode()"
   ]
  }
 ],
 "metadata": {
  "kernelspec": {
   "display_name": "Python 3",
   "language": "python",
   "name": "python3"
  },
  "language_info": {
   "codemirror_mode": {
    "name": "ipython",
    "version": 3
   },
   "file_extension": ".py",
   "mimetype": "text/x-python",
   "name": "python",
   "nbconvert_exporter": "python",
   "pygments_lexer": "ipython3",
   "version": "3.10.7"
  },
  "orig_nbformat": 4
 },
 "nbformat": 4,
 "nbformat_minor": 2
}
